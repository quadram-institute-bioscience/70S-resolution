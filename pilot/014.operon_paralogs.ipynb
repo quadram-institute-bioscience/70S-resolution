{
 "cells": [
  {
   "cell_type": "markdown",
   "metadata": {},
   "source": [
    "# Effect of paralog choice on rRNA full operons\n",
    "\n",
    "- The analysis below runs on Pseudomonas and Staphylococcus data sets; you can try different ones as long as download them beforehand"
   ]
  },
  {
   "cell_type": "code",
   "execution_count": 1,
   "metadata": {},
   "outputs": [],
   "source": [
    "%matplotlib inline\n",
    "import matplotlib\n",
    "import matplotlib.pyplot as plt\n",
    "from mpl_toolkits.axes_grid1 import make_axes_locatable\n",
    "\n",
    "from Bio import Seq, SeqIO, Align, AlignIO, Phylo, Alphabet, pairwise2 \n",
    "from Bio.SeqRecord import SeqRecord\n",
    "from Bio.Align import AlignInfo, Applications\n",
    "from Bio.Phylo import draw, TreeConstruction\n",
    "\n",
    "import numpy as np\n",
    "import seaborn as sns\n",
    "from sklearn import manifold, metrics, cluster, neighbors, decomposition, preprocessing\n",
    "import skbio, parasail, dendropy, pandas\n",
    "import sys, gzip, re, glob, pickle, collections, subprocess, os, errno, random, itertools\n",
    "\n",
    "def print_redblack(textr, textb=\"\"):\n",
    "    print ('\\x1b[0;1;31;1m'+ str(textr) + '\\x1b[0;1;30;1m'+ str(textb) + '\\x1b[0m')"
   ]
  },
  {
   "cell_type": "markdown",
   "metadata": {},
   "source": [
    "### defining main variables\n",
    "- we also assume that all RefSeq genomes are in directory `bigdata/`, in `gbff.gz` format."
   ]
  },
  {
   "cell_type": "code",
   "execution_count": 2,
   "metadata": {},
   "outputs": [],
   "source": [
    "##  \"Mycobacterium\" is not truely positive or negative\n",
    "gram_positive = [\"Clostridium\", \"Enterococcus\", \"Listeria\", \"Mycobacterium\", \"Staphylococcus\", \"Streptococcus\"]\n",
    "gram_negative = [\"Campylobacter\", \"Escherichia\", \"Helicobacter\", \"Leptospira\", \n",
    "                 \"Neisseria\", \"Pseudomonas\", \"Salmonella\"]\n",
    "\n",
    "bacteria_genera = [\"Pseudomonas\", \"Staphylococcus\"]\n",
    "outdir = \"./014_results/\"\n",
    "rrna_types = [\"16S\", \"23S\", \"5S\"];"
   ]
  },
  {
   "cell_type": "markdown",
   "metadata": {},
   "source": [
    "### read refseq genomes "
   ]
  },
  {
   "cell_type": "code",
   "execution_count": 3,
   "metadata": {},
   "outputs": [
    {
     "name": "stdout",
     "output_type": "stream",
     "text": [
      "\u001b[0;1;31;1mtable_fl_sp: \u001b[0;1;30;1m filename,  GCF_id, full species_subsp name, species name (genus+sp), genus\n",
      "\u001b[0m\n",
      "['/media/deolivl/QIB_deolivl/bigdata/Pseudomonas/GCF_000006765.1_ASM676v1_genomic.gbff.gz', 'GCF_000006765.1', 'Pseudomonas aeruginosa PAO1', 'Pseudomonas_aeruginosa', 'Pseudomonas'] \n",
      " {'Pseudomonas'}\n",
      "\u001b[0;1;31;1mPseudomonas distinct species: \u001b[0;1;30;1mCounter({'Pseudomonas_aeruginosa': 171, 'Pseudomonas_chlororaphis': 42, 'Pseudomonas_syringae': 29, 'Pseudomonas_putida': 28, 'Pseudomonas_fluorescens': 21, 'Pseudomonas_stutzeri': 17, 'Pseudomonas_mendocina': 6, 'Pseudomonas_protegens': 6, 'Pseudomonas_synxantha': 6, 'Pseudomonas_monteilii': 5, 'Pseudomonas_orientalis': 5, 'Pseudomonas_brassicacearum': 4, 'Pseudomonas_frederiksbergensis': 3, 'Pseudomonas_entomophila': 3, 'Pseudomonas_koreensis': 3, 'Pseudomonas_parafulva': 3, 'Pseudomonas_plecoglossicida': 2, 'Pseudomonas_pseudoalcaligenes': 2, 'Pseudomonas_citronellolis': 2, 'Pseudomonas_fragi': 2, 'Pseudomonas_azotoformans': 2, 'Pseudomonas_mosselii': 2, 'Pseudomonas_fulva': 2, 'Pseudomonas_amygdali': 2, 'Pseudomonas_cerasi': 2, 'Pseudomonas_savastanoi': 2, 'Pseudomonas_taetrolens': 2, 'Pseudomonas_alcaliphila': 1, 'Pseudomonas_resinovorans': 1, 'Pseudomonas_knackmussii': 1, 'Pseudomonas_veronii': 1, 'Pseudomonas_mandelii': 1, 'Pseudomonas_libanensis': 1, 'Pseudomonas_viridiflava': 1, 'Pseudomonas_rhizosphaerae': 1, 'Pseudomonas_corrugata': 1, 'Pseudomonas_cremoricolorata': 1, 'Pseudomonas_silesiensis': 1, 'Pseudomonas_antarctica': 1, 'Pseudomonas_mucidolens': 1, 'Pseudomonas_alkylphenolica': 1, 'Pseudomonas_soli': 1, 'Pseudomonas_psychrotolerans': 1, 'Pseudomonas_avellanae': 1, 'Pseudomonas_poae': 1, 'Pseudomonas_yamanorum': 1, 'Pseudomonas_furukawaii': 1, 'Pseudomonas_kribbensis': 1, 'Pseudomonas_lurida': 1, 'Pseudomonas_oryzihabitans': 1, 'Pseudomonas_alcaligenes': 1, 'Pseudomonas_versuta': 1, 'Pseudomonas_trivialis': 1, 'Pseudomonas_balearica': 1, 'Pseudomonas_cichorii': 1})\u001b[0m\n",
      "\u001b[0;1;31;1m{'Pseudomonas_frederiksbergensis', 'Pseudomonas_orientalis', 'Pseudomonas_stutzeri', 'Pseudomonas_syringae', 'Pseudomonas_monteilii', 'Pseudomonas_aeruginosa', 'Pseudomonas_chlororaphis', 'Pseudomonas_koreensis', 'Pseudomonas_mendocina', 'Pseudomonas_parafulva', 'Pseudomonas_brassicacearum', 'Pseudomonas_entomophila', 'Pseudomonas_fluorescens', 'Pseudomonas_protegens', 'Pseudomonas_putida', 'Pseudomonas_synxantha'}\u001b[0;1;30;1m length :: 261\u001b[0m\n",
      "['/media/deolivl/QIB_deolivl/bigdata/Staphylococcus/GCF_000009005.1_ASM900v1_genomic.gbff.gz', 'GCF_000009005.1', 'Staphylococcus aureus RF122', 'Staphylococcus_aureus', 'Staphylococcus'] \n",
      " {'Staphylococcus'}\n",
      "\u001b[0;1;31;1mStaphylococcus distinct species: \u001b[0;1;30;1mCounter({'Staphylococcus_aureus': 362, 'Staphylococcus_epidermidis': 16, 'Staphylococcus_lugdunensis': 10, 'Staphylococcus_saprophyticus': 7, 'Staphylococcus_simulans': 7, 'Staphylococcus_pseudintermedius': 6, 'Staphylococcus_haemolyticus': 6, 'Staphylococcus_schleiferi': 5, 'Staphylococcus_warneri': 5, 'Staphylococcus_xylosus': 4, 'Staphylococcus_argenteus': 4, 'Staphylococcus_hyicus': 3, 'Staphylococcus_equorum': 3, 'Staphylococcus_condimenti': 3, 'Staphylococcus_capitis': 3, 'Staphylococcus_caprae': 3, 'Staphylococcus_nepalensis': 3, 'Staphylococcus_sciuri': 2, 'Staphylococcus_muscae': 2, 'Staphylococcus_pasteuri': 2, 'Staphylococcus_cohnii': 2, 'Staphylococcus_hominis': 2, 'Staphylococcus_carnosus': 2, 'Staphylococcus_pettenkoferi': 1, 'Staphylococcus_schweitzeri': 1, 'Staphylococcus_succinus': 1, 'Staphylococcus_kloosii': 1, 'Staphylococcus_delphini': 1, 'Staphylococcus_agnetis': 1, 'Staphylococcus_lutrae': 1, 'Staphylococcus_auricularis': 1, 'Staphylococcus_stepanovicii': 1, 'Staphylococcus_felis': 1, 'Staphylococcus_simiae': 1, 'Staphylococcus_piscifermentans': 1})\u001b[0m\n",
      "\u001b[0;1;31;1m{'Staphylococcus_hyicus', 'Staphylococcus_nepalensis', 'Staphylococcus_simulans', 'Staphylococcus_equorum', 'Staphylococcus_aureus', 'Staphylococcus_xylosus', 'Staphylococcus_saprophyticus', 'Staphylococcus_schleiferi', 'Staphylococcus_condimenti', 'Staphylococcus_capitis', 'Staphylococcus_haemolyticus', 'Staphylococcus_epidermidis', 'Staphylococcus_warneri', 'Staphylococcus_lugdunensis', 'Staphylococcus_pseudintermedius', 'Staphylococcus_caprae', 'Staphylococcus_argenteus'}\u001b[0;1;30;1m length :: 167\u001b[0m\n"
     ]
    }
   ],
   "source": [
    "def return_species_name_from_table (table_fs):\n",
    "    return str(table_fs[3]) + \"_\" + str(re.search('GCF_(\\d+)\\.', table_fs[1]).group(1))\n",
    "\n",
    "def subsample_accept (sp_name, collection_counter):\n",
    "    if collection_counter[sp_name] < 3:\n",
    "        return False\n",
    "    if sp_name in \"Pseudomonas_aeruginosa\": # 171 against 42 of second more common\n",
    "        return np.random.random() < 0.5\n",
    "    if sp_name in \"Staphylococcus_aureus\": # 362 against 16 of S. epidermidis\n",
    "        return np.random.random() < 0.2\n",
    "    return True\n",
    "\n",
    "tbl_fl_sp = {}\n",
    "print_redblack (\"table_fl_sp: \",\" filename,  GCF_id, full species_subsp name, species name (genus+sp), genus\\n\")\n",
    "for genus in bacteria_genera:\n",
    "    file_name = glob.glob(\"./bigdata/\" + genus + \"*/names.txt\")[0]\n",
    "    file_lines = [line.strip() for line in open(file_name, 'r')]\n",
    "    thistbl = [line.split('\\t') for line in file_lines[1:]] # concatenation of lists\n",
    "    fnames = glob.glob(\"./bigdata/\" + genus + \"*/GCF_*.gbff.gz\")\n",
    "    idx=[i for j in thistbl for i,fname in enumerate(fnames) if j[0] in fname]\n",
    "    table_filenames_species = [[fnames[idx[i]]] + j for i,j in enumerate(thistbl)]\n",
    "    table_filenames_species = [line + [\"_\".join(line[2].split()[:2]).split('.')[0]] for line in table_filenames_species]\n",
    "    table_filenames_species = [line + [line[2].split()[0]] for line in table_filenames_species]\n",
    "\n",
    "    print (table_filenames_species[0], \"\\n\", set([x[4] for x  in table_filenames_species]))\n",
    "    species_counter = collections.Counter([x[3] for x in table_filenames_species if x[3][-3:] !=\"_sp\"])\n",
    "    print_redblack (genus + \" distinct species: \", species_counter)\n",
    "\n",
    "    tbl_fl_sp[genus] = [x  for x in table_filenames_species if subsample_accept (x[3], species_counter)]\n",
    "    print_redblack(set([x[3] for x  in tbl_fl_sp[genus]]), \" length :: \" + str(len(tbl_fl_sp[genus])))\n",
    "    random.shuffle(tbl_fl_sp[genus])"
   ]
  },
  {
   "cell_type": "markdown",
   "metadata": {},
   "source": [
    "### main functions\n",
    "* find all operons, align sequences"
   ]
  },
  {
   "cell_type": "code",
   "execution_count": 4,
   "metadata": {},
   "outputs": [],
   "source": [
    "def align_seqs (sequences=None, maxiters=12, infile=None, outfile=None, mafft = True):\n",
    "    print (\"started aligning...\", flush=True, end=\" \")\n",
    "    if (sequences is None) and (infile is None):\n",
    "        print (\"ERROR: You must give me an alignment object or file\")\n",
    "        return [] ## OTOH if both are present then infile is overwritten with contents of sequences[]\n",
    "    if infile is None:\n",
    "        ifl = \"/tmp/in.fas\"\n",
    "    else:\n",
    "        ifl = infile\n",
    "    if outfile is None:\n",
    "        ofl = \"/tmp/out.fas\"\n",
    "    else:\n",
    "        ofl = outfile\n",
    "    SeqIO.write(sequences, ifl, \"fasta\")\n",
    "    if (mafft is False):\n",
    "        proc_run = subprocess.check_output(\"muscle -in \" + ifl + \" -diags -maxiters \" + str(maxiters) + \" -out \" + ofl,\n",
    "                                       shell=True, universal_newlines=True)\n",
    "    else: # \"--parttree --6merpair\" and 0.123 is to avoid very long alignments\n",
    "        proc_run = subprocess.check_output(\"mafft --ep 0.3 --op 3.0 --auto \" + ifl + \" > \" + ofl,\n",
    "                                       shell=True, universal_newlines=True)\n",
    "      \n",
    "    aligned = AlignIO.read(ofl, \"fasta\")\n",
    "    print (\"Finished\",flush=True)\n",
    "    if infile is None:\n",
    "        os.system(\"rm -f \" + ifl)\n",
    "    if outfile is None:\n",
    "        os.system(\"rm -f \" + ofl)\n",
    "    return aligned\n",
    "\n",
    "def return_contig_locations (featurelist): # featurelist has list of [ [location1, location2], rnaname, strand ]\n",
    "    featurelist = sorted(featurelist, key = lambda x: int(x[0][0]))\n",
    "    rnablocks = []\n",
    "    rnabnames = []\n",
    "    rnasignal = []\n",
    "    tmp_loc = list(featurelist[0][0]) # start and end locations\n",
    "    tmp_nam = [featurelist[0][1]]    # gene name\n",
    "    tmp_sig = [featurelist[0][2]]\n",
    "    for feature in featurelist[1:]:\n",
    "        if (abs(tmp_loc[-1] - feature[0][0]) < 1000):\n",
    "            tmp_loc.extend(list(feature[0]))\n",
    "            tmp_nam.extend([feature[1]])\n",
    "            tmp_sig.extend([feature[2]])\n",
    "        else:\n",
    "            rnablocks.append(tmp_loc)\n",
    "            rnabnames.append(tmp_nam)\n",
    "            rnasignal.append(tmp_sig)\n",
    "            tmp_loc = list(feature[0])\n",
    "            tmp_nam = [feature[1]]\n",
    "            tmp_sig = [feature[2]]\n",
    "    rnablocks.append(tmp_loc)\n",
    "    rnabnames.append(tmp_nam)\n",
    "    rnasignal.append(tmp_sig)\n",
    "    return rnablocks, rnabnames, rnasignal\n",
    "    \n",
    "def get_rrna_from_genbank_to_list_and_dict (table_fs):\n",
    "    gbank = SeqIO.parse(gzip.open(table_fs[0], \"rt\"), \"genbank\")\n",
    "    list_of_features = []\n",
    "    list_of_seqs = []\n",
    "    genome = next(gbank) # no point in iterating over gbank, only this has whole information\n",
    "    for feature in genome.features:\n",
    "        if(feature.type == \"rRNA\"):\n",
    "            for rna in rrna_types:\n",
    "                if rna in feature.qualifiers['product'][0]:\n",
    "                    this_product = rna\n",
    "                    break\n",
    "            this_location = [int(i) for i in re.findall('\\d+',str(feature.location))]\n",
    "            this_strand = feature.strand\n",
    "            if 0 not in this_location:\n",
    "                list_of_features.append([this_location[:2], this_product, this_strand])\n",
    "    # now list_of_features is complete  for this genome record (gbank[0])\n",
    "    if not list_of_features:\n",
    "        print (\"no info from \", table_fs[0])\n",
    "        return None # some genomes have no relevant annotation\n",
    "    location, gnames, strand = return_contig_locations (list_of_features)\n",
    "    genome_len = len(genome.seq)\n",
    "    for i, (l,g,s) in enumerate(zip(location, gnames, strand)):\n",
    "        i_start = min(l); i_end = max(l)\n",
    "        if sum(s) < 0: ## hopefully they all have same signal\n",
    "            contig = genome.seq[i_start:i_end].reverse_complement()\n",
    "            seqname = \"s\" + \"\".join(g[::-1])\n",
    "        else:\n",
    "            contig = genome.seq[i_start:i_end]\n",
    "            seqname = \"s\" + \"\".join(g)\n",
    "        numbercode = '_{:02d}'.format(i)\n",
    "        seqname = return_species_name_from_table(table_fs) + numbercode\n",
    "        if (len(contig) > 3000) and (len(contig) < 8500): # some contigs have only 5S; some genomes have only this 5S annotated\n",
    "            list_of_seqs.append(SeqRecord(contig, id = seqname, description = seqname))\n",
    "    return list_of_seqs"
   ]
  },
  {
   "cell_type": "markdown",
   "metadata": {},
   "source": [
    "### sample genomes and create unaligned list\n",
    "- also saves variables (internediate results) to `xxx_fl_sp.pickle.gz` where xxx is the genus name ;) "
   ]
  },
  {
   "cell_type": "code",
   "execution_count": 6,
   "metadata": {
    "scrolled": false
   },
   "outputs": [
    {
     "name": "stdout",
     "output_type": "stream",
     "text": [
      "20 40 60 80 100 120 140 160 180 200 \u001b[0;1;31;1mPseudomonas\u001b[0;1;30;1m\u001b[0m\n",
      "first sequence of operon alignment:\n",
      " ID: Pseudomonas_putida_000495455_00\n",
      "Name: <unknown name>\n",
      "Description: Pseudomonas_putida_000495455_00\n",
      "Number of features: 0\n",
      "Seq('GAACTGAAGAGTTTGATCATGGCTCAGATTGAACGCTGGCGGCAGGCCTAACAC...AGA', IUPACAmbiguousDNA())\n",
      "percentiles: 5183.97395833 205.576786012 960  |  3146 4993.95 5432.05 6952\n",
      "20 40 60 80 100 120 140 160 \u001b[0;1;31;1mStaphylococcus\u001b[0;1;30;1m\u001b[0m\n",
      "first sequence of operon alignment:\n",
      " ID: Staphylococcus_saprophyticus_001558275_01\n",
      "Name: <unknown name>\n",
      "Description: Staphylococcus_saprophyticus_001558275_01\n",
      "Number of features: 0\n",
      "Seq('TTTATGGAGAGTTTGATCCTGGCTCAGGATGAACGCTGGCGGCGTGCCTAATAC...GGC', IUPACAmbiguousDNA())\n",
      "percentiles: 5133.05492958 287.110541743 710  |  3105 4906.0 5974.0 6186\n"
     ]
    }
   ],
   "source": [
    "good_fl_sp = {}\n",
    "rna_operon = {}  # includes all paralogs\n",
    "for genus in bacteria_genera:\n",
    "    good_fl_sp[genus] = []\n",
    "    rna_operon[genus] = []\n",
    "    for file_counter, tfs in enumerate(tbl_fl_sp[genus]):\n",
    "        if (len(good_fl_sp[genus]) == 200):\n",
    "            break\n",
    "        if not (file_counter+1)%20:\n",
    "            print (str(file_counter+1), end=\" \", flush=True)\n",
    "        rna_list = get_rrna_from_genbank_to_list_and_dict (tfs)\n",
    "        # (some list will have no usable features or b/c too long/too short; some dict has no usable features\n",
    "        if rna_list:\n",
    "            x = [len(i.seq) for i in rna_list]\n",
    "            good_fl_sp[genus].append(tfs + [len(rna_list), np.mean(x), np.min(x), np.max(x)])\n",
    "            rna_operon[genus].extend(rna_list)\n",
    "    outfile = outdir + genus\n",
    "    # save table\n",
    "    fl = gzip.open(outfile + \"_fl_sp.pickle.gz\", \"w\"); pickle.dump([good_fl_sp[genus]],fl,2); fl.close()\n",
    "    print_redblack(genus)\n",
    "    print (\"first sequence of operon alignment:\\n\", rna_operon[genus][0])\n",
    "    x = [len(i.seq) for i in rna_operon[genus]]\n",
    "    print (\"percentiles:\", np.mean(x), np.std(x), len(x), \" | \", \n",
    "           np.min(x), np.percentile(x, 5), np.percentile(x, 95), np.max(x))"
   ]
  },
  {
   "cell_type": "markdown",
   "metadata": {},
   "source": [
    "### create spreadsheet for supplementary table"
   ]
  },
  {
   "cell_type": "code",
   "execution_count": 8,
   "metadata": {},
   "outputs": [],
   "source": [
    "def create_dataframe_from_table_filename_species (table_fs):\n",
    "    dfd = {\"Organism\":[], \"Accession Number\":[],\"File Name\":[], \"Species\":[], \"Number of Operons\":[], \n",
    "          \"Average Operon Size\":[], \"Min Operon Size\":[], \"Max Operon Size\":[]}\n",
    "    for elem in table_fs: # 5,6,7,8 are length, mean, min, max\n",
    "        dfd[\"Accession Number\"].append(elem[1])\n",
    "        dfd[\"Organism\"].append(elem[2])\n",
    "        dfd[\"File Name\"].append(elem[0].split(\"/\")[-1])\n",
    "        dfd[\"Species\"].append(\" \".join(elem[3].split(\"_\")))\n",
    "        dfd[\"Number of Operons\"].append(elem[5])\n",
    "        dfd[\"Average Operon Size\"].append(elem[6])\n",
    "        dfd[\"Min Operon Size\"].append(elem[7])\n",
    "        dfd[\"Max Operon Size\"].append(elem[8])\n",
    "    return pandas.DataFrame(data=dfd)\n",
    "\n",
    "for genus in bacteria_genera:\n",
    "    df = create_dataframe_from_table_filename_species (good_fl_sp[genus])\n",
    "    df.to_csv(outdir + genus + \".csv\")"
   ]
  },
  {
   "cell_type": "code",
   "execution_count": 10,
   "metadata": {},
   "outputs": [
    {
     "name": "stdout",
     "output_type": "stream",
     "text": [
      "started aligning... Finished\n",
      "started aligning... Finished\n"
     ]
    }
   ],
   "source": [
    "# align each of the dictionary values (lists of unaligned seqs)\n",
    "operon_aligned = {}\n",
    "for genus in bacteria_genera:\n",
    "    operon_aligned[genus] = align_seqs(sequences=rna_operon[genus], outfile=outdir + genus + \".fasta\")"
   ]
  },
  {
   "cell_type": "code",
   "execution_count": 11,
   "metadata": {},
   "outputs": [],
   "source": [
    "def create_species_genus_labels (seqlist, have_paralogs = False): \n",
    "    species = ['_'.join(sequence.id.split('_')[:2]) for sequence in seqlist]\n",
    "    genus = [sequence.id.split('_')[0] for sequence in seqlist]\n",
    "    if have_paralogs:# assumes 'genus_species_code_number' names \n",
    "        sample = ['_'.join(sequence.id.split('_')[:3]) for sequence in seqlist]\n",
    "        return species, genus, sample\n",
    "    return species, genus "
   ]
  },
  {
   "cell_type": "markdown",
   "metadata": {},
   "source": [
    "### if resuming from previous analysis, run code below to read genome names table and alignments"
   ]
  },
  {
   "cell_type": "code",
   "execution_count": null,
   "metadata": {},
   "outputs": [],
   "source": [
    "# read table\n",
    "for genus in bacteria_genera:\n",
    "    fl=gzip.open(outdir + genus + \"_fl_sp.pickle.gz\", \"r\"); good_fl_sp[genus] = pickle.load(fl); fl.close()\n",
    "    operon_aligned = AlignIO.read(outdir + genus + \".fasta\", \"fasta\")"
   ]
  },
  {
   "cell_type": "markdown",
   "metadata": {},
   "source": [
    "### estimates trees with UPGMA (muscle) and Likelihood (iqtree)"
   ]
  },
  {
   "cell_type": "code",
   "execution_count": 12,
   "metadata": {},
   "outputs": [],
   "source": [
    "for genus in bacteria_genera:\n",
    "    fname = outdir + genus\n",
    "    outcheck = subprocess.check_output(\"muscle -maketree -in \" + fname + \".fasta -out \" + fname + \"_upgma.treefile\", shell=True,universal_newlines=True)\n",
    "    outcheck = subprocess.check_output(\"iqtree-omp -s \" + fname + \".fasta -nt 8 -m HKY+G\",shell=True,universal_newlines=True)"
   ]
  },
  {
   "cell_type": "markdown",
   "metadata": {},
   "source": [
    "### calculates leaf-to-leaf distances from estimated trees"
   ]
  },
  {
   "cell_type": "code",
   "execution_count": 13,
   "metadata": {},
   "outputs": [],
   "source": [
    "def patristic_distances_from_treefile (filename, have_paralogs = False, shuffle = False):\n",
    "    tree = dendropy.Tree.get(path=filename, schema=\"newick\", preserve_underscores=True)\n",
    "    if shuffle:\n",
    "        tree = dendropy.simulate.treesim.pure_kingman_tree(taxon_namespace=tree.taxon_namespace, pop_size = 1000)\n",
    "    species = ['_'.join(t.label.split('_')[:2]) for t in tree.taxon_namespace] ## follow order of taxon_namespace\n",
    "    genus = [t.label.split('_')[0] for t in tree.taxon_namespace]\n",
    "    ntaxa = len(tree.taxon_namespace)\n",
    "    distmat = np.zeros((ntaxa,ntaxa)) # diagonals are zero\n",
    "    nodemat = np.zeros((ntaxa,ntaxa))\n",
    "    pdm = tree.phylogenetic_distance_matrix() # initialises class\n",
    "    for i,j in itertools.combinations(range(ntaxa),2):\n",
    "        distmat[i,j] = distmat[j,i] = pdm.distance(tree.taxon_namespace[i], tree.taxon_namespace[j])\n",
    "        nodemat[i,j] = nodemat[j,i] = pdm.path_edge_count(tree.taxon_namespace[i], tree.taxon_namespace[j])\n",
    "    if have_paralogs:\n",
    "        sample = ['_'.join(t.label.split('_')[:3]) for t in tree.taxon_namespace]\n",
    "        return species, genus, distmat, nodemat, sample\n",
    "    return species, genus, distmat, nodemat"
   ]
  },
  {
   "cell_type": "code",
   "execution_count": 14,
   "metadata": {},
   "outputs": [],
   "source": [
    "def silhouette_str(dist, labels):\n",
    "    distrib = metrics.silhouette_samples(dist, labels, metric=\"precomputed\")\n",
    "    return '{:7.3f}'.format(np.percentile(distrib, 5)) + \\\n",
    "    '{:7.3f}'.format(np.percentile(distrib, 25)) + \\\n",
    "    '{:7.3f}  '.format(sum(distrib>0)/float(len(distrib))) "
   ]
  },
  {
   "cell_type": "markdown",
   "metadata": {},
   "source": [
    "Each triplet from `silhouette_str()` has $5\\%$, $25\\%$ and proportion of positive silhouettes. And we have two triplets on the left for _species_ (S), and two on the right for _strain_ (T), one being from weighted (W) and one from unweighted (U) patristic distances. Therefore the header is: SW SU TW TU\n",
    "\n",
    "By the way having low silhouettte scores is not necessarily bad, since\n",
    "1. clusters of size one will have score of _zero_ **by definition** (should be _one_ given the silhouette function but this would lead to ever-increasing clusterings)\n",
    "2. clusters with within-distance zero are perfect, while for phylogenies we want non-zero diversification\n",
    "3. they can be negative if for a case like `((A:a,A:a,A:a),B:b)` with $a>b$ since $d(A,A)=2a > a+b = d(A,B)$ --- however the taxonomic classification is fine for A and B"
   ]
  },
  {
   "cell_type": "code",
   "execution_count": 15,
   "metadata": {},
   "outputs": [
    {
     "name": "stdout",
     "output_type": "stream",
     "text": [
      "\u001b[0;1;31;1mPseudomonas\u001b[0;1;30;1m\u001b[0m\n",
      "random \t  -0.324 -0.233  0.015    -0.152 -0.119  0.011    |   -0.978 -0.906  0.009    -0.603 -0.427  0.013  \n",
      "upgma  \t  -0.450  0.340  0.848    -0.468 -0.057  0.707    |   -0.821 -0.250  0.551    -0.618 -0.221  0.616  \n",
      "ML     \t  -0.644  0.313  0.827    -0.442 -0.058  0.656    |   -0.851 -0.356  0.553    -0.535 -0.222  0.595  \n",
      "\u001b[0;1;31;1mStaphylococcus\u001b[0;1;30;1m\u001b[0m\n",
      "random \t  -0.615 -0.457  0.037    -0.177 -0.118  0.028    |   -0.959 -0.830  0.011    -0.631 -0.410  0.007  \n",
      "upgma  \t   0.007  0.234  0.968    -0.482 -0.248  0.475    |   -0.850 -0.430  0.087    -0.765 -0.529  0.118  \n",
      "ML     \t  -0.300  0.444  0.783    -0.294  0.003  0.761    |   -0.883 -0.795  0.083    -0.596 -0.449  0.118  \n"
     ]
    }
   ],
   "source": [
    "for genus in bacteria_genera:\n",
    "    fname = outdir + genus\n",
    "    print_redblack(genus)\n",
    "    sp, ge, mat, mat2, strain = patristic_distances_from_treefile (fname + \".fasta.treefile\", have_paralogs = True, shuffle = True)\n",
    "    print (\"random \\t\", silhouette_str(mat, sp),  silhouette_str(mat2, sp), \" | \", \n",
    "          silhouette_str(mat, strain),  silhouette_str(mat2, strain))\n",
    "    for suffix1, title1 in zip([\"_upgma.treefile\",\".fasta.treefile\"], [\"upgma \", \"ML    \"]):\n",
    "        ## operon doenst have _long or _consensus\n",
    "        sp, ge, mat, mat2, strain = patristic_distances_from_treefile (fname + suffix1, have_paralogs = True)\n",
    "        print (title1, \"\\t\", silhouette_str(mat, sp),  silhouette_str(mat2, sp), \" | \", \n",
    "          silhouette_str(mat, strain),  silhouette_str(mat2, strain))"
   ]
  },
  {
   "cell_type": "markdown",
   "metadata": {},
   "source": [
    "### the code below is obsolete, it just counts how many species are found below each node\n",
    "- please see notebook `021` for an up-to-date version, with proper monophyly scores"
   ]
  },
  {
   "cell_type": "code",
   "execution_count": null,
   "metadata": {},
   "outputs": [],
   "source": [
    "def sp_count_from_list (labels):\n",
    "    x = ['_'.join(t.split('_')[:2]) for t in labels]\n",
    "    return len(set(x))\n",
    "\n",
    "def strain_count_from_list (labels):\n",
    "    x = ['_'.join(t.split('_')[:3]) for t in labels]\n",
    "    return len(set(x))\n",
    "\n",
    "def bipartitions_from_treefile (filename, shuffle = False):\n",
    "    tree = dendropy.Tree.get(path=filename, schema=\"newick\", preserve_underscores=True)\n",
    "    if shuffle:\n",
    "        tree = dendropy.simulate.treesim.pure_kingman_tree(taxon_namespace=tree.taxon_namespace, pop_size = 1000)\n",
    "    tree.encode_bipartitions()\n",
    "    # bits[i] have the list of labels associated to bipartition (edge) i\n",
    "    bits = [[x.label for x in tree.taxon_namespace.bitmask_taxa_list(i.leafset_bitmask)] for i in tree.bipartition_encoding]\n",
    "    sp_count = [sp_count_from_list(i) for i in bits if len(i) > 1]\n",
    "    strain_count = [strain_count_from_list(i) for i in bits if len(i) > 1]\n",
    "    return sp_count, strain_count\n",
    "\n",
    "def bipart_str(counts):\n",
    "    distrib = np.array(counts)\n",
    "    return '{:7.3f}'.format(np.mean(distrib)) + \\\n",
    "    '{:7.3f}'.format(np.percentile(distrib, 90)) + \\\n",
    "    '{:7.3f}\\t'.format(sum(distrib == 1)/float(len(distrib))) \n",
    "\n",
    "sp0, ge0 = bipartitions_from_treefile (outdir + \".fasta.treefile\", shuffle = True)\n",
    "print ('{:7s}'.format(\"random\"), \"\\t\", bipart_str(sp0), bipart_str(ge0))\n",
    "\n",
    "for suffix1, title1 in zip([\"_upgma.treefile\",\".fasta.treefile\"], [\"upgma \", \"ML    \"]):\n",
    "    sp, ge = bipartitions_from_treefile (outdir + suffix1)    \n",
    "    print ('{:7s}'.format(title1), \"\\t\", bipart_str(sp), bipart_str(ge))"
   ]
  },
  {
   "cell_type": "code",
   "execution_count": null,
   "metadata": {},
   "outputs": [],
   "source": []
  }
 ],
 "metadata": {
  "kernelspec": {
   "display_name": "Python 3",
   "language": "python",
   "name": "python3"
  },
  "language_info": {
   "codemirror_mode": {
    "name": "ipython",
    "version": 3
   },
   "file_extension": ".py",
   "mimetype": "text/x-python",
   "name": "python",
   "nbconvert_exporter": "python",
   "pygments_lexer": "ipython3",
   "version": "3.6.7"
  }
 },
 "nbformat": 4,
 "nbformat_minor": 2
}
