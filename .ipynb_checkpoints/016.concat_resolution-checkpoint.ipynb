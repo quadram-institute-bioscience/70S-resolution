{
 "cells": [
  {
   "cell_type": "markdown",
   "metadata": {},
   "source": [
    "# 016 change in resolution for concatenations\n",
    "* including also hypervariable regions only\n"
   ]
  },
  {
   "cell_type": "code",
   "execution_count": 1,
   "metadata": {},
   "outputs": [],
   "source": [
    "%matplotlib inline\n",
    "import matplotlib\n",
    "import matplotlib.pyplot as plt\n",
    "from mpl_toolkits.axes_grid1 import make_axes_locatable\n",
    "\n",
    "from Bio import Seq, SeqIO, Align, AlignIO, Phylo, Alphabet, pairwise2 \n",
    "from Bio.SeqRecord import SeqRecord\n",
    "from Bio.Align import AlignInfo, Applications\n",
    "from Bio.Phylo import draw, TreeConstruction  #TreeConstruction.DistanceCalculator, TreeConstruction.DistanceTreeConstructor \n",
    "# https://bioinformatics.stackexchange.com/questions/4337/biopython-phylogenetic-tree-replace-branch-tip-labels-by-sequence-logos\n",
    "\n",
    "import numpy as np\n",
    "import seaborn as sns\n",
    "from sklearn import manifold, metrics, cluster, neighbors, decomposition, preprocessing\n",
    "import skbio, parasail, dendropy, pandas\n",
    "import sys, gzip, re, glob, pickle, collections, subprocess, os, errno, random, itertools\n",
    "\n",
    "def print_redblack(textr, textb=\"\"):\n",
    "    print ('\\x1b[0;1;31;1m'+ str(textr) + '\\x1b[0;1;30;1m'+ str(textb) + '\\x1b[0m')"
   ]
  },
  {
   "cell_type": "markdown",
   "metadata": {},
   "source": [
    "### definition of main variables: directories, list of genera, etc."
   ]
  },
  {
   "cell_type": "code",
   "execution_count": 2,
   "metadata": {},
   "outputs": [],
   "source": [
    "##  \"Mycobacterium\" is not truely positive or negative\n",
    "gram_positive = [\"Clostridium\", \"Enterococcus\", \"Listeria\", \"Mycobacterium\", \"Staphylococcus\", \"Streptococcus\"]\n",
    "gram_negative = [\"Campylobacter\", \"Escherichia\", \"Helicobacter\", \"Leptospira\", \n",
    "                 \"Neisseria\", \"Pseudomonas\", \"Salmonella\"]\n",
    "outdir = \"./016_results/\"\n",
    "\n",
    "rrna_types = [\"16S\", \"23S\", \"5S\"]; hyper_types = [\"16Sv1v2\", \"16Sv4\"]\n",
    "iupac_dna = {''.join(sorted(v)):k for k,v in Seq.IUPAC.IUPACData.ambiguous_dna_values.items()}\n",
    "hypervar = np.array([135, 360, 540, 820, 900, 1100, 1240, 1390, 1500]) # last position, including assumed 16S size\n",
    "hypervar = hypervar/hypervar[-1] # fractions, w.r.t sequence length\n",
    "# https://journals.plos.org/plosone/article?id=10.1371/journal.pone.0076185 for V1V2"
   ]
  },
  {
   "cell_type": "code",
   "execution_count": 3,
   "metadata": {},
   "outputs": [],
   "source": [
    "def return_species_name_from_table (table_fs):\n",
    "    return str(table_fs[3]) + \"_\" + str(re.search('GCF_(\\d+)\\.', table_fs[1]).group(1))\n",
    "\n",
    "def subsample_accept (sp_name, collection_counter):\n",
    "    x = collection_counter[sp_name]\n",
    "    if x < 3:\n",
    "        return False\n",
    "    if x > 50:\n",
    "        return np.random.random() < 100/x\n",
    "    return True"
   ]
  },
  {
   "cell_type": "markdown",
   "metadata": {},
   "source": [
    "### create list of files to be analysed"
   ]
  },
  {
   "cell_type": "code",
   "execution_count": 4,
   "metadata": {},
   "outputs": [
    {
     "name": "stdout",
     "output_type": "stream",
     "text": [
      "\u001b[0;1;31;1mtable_filenames_species[] has:\u001b[0;1;30;1m filename,  GCF_id, full species_subsp name, species name (genus+sp), genus\n",
      "\u001b[0m\n",
      "['/media/deolivl/QIB_deolivl/bigdata/Escherichia/GCF_001900515.1_ASM190051v1_genomic.gbff.gz', 'GCF_001900515.1', 'Escherichia coli', 'Escherichia_coli', 'Escherichia'] \n",
      " {'Neisseria', 'Neisseriaceae', 'Leptospira', 'Helicobacter', 'Escherichia', 'Pseudomonas', 'Salmonella'}\n",
      "\u001b[0;1;31;1mdistinct species: \u001b[0;1;30;1mCounter({'Escherichia_coli': 701, 'Salmonella_enterica': 562, 'Pseudomonas_aeruginosa': 171, 'Helicobacter_pylori': 124, 'Neisseria_meningitidis': 94, 'Pseudomonas_chlororaphis': 42, 'Pseudomonas_syringae': 29, 'Pseudomonas_putida': 28, 'Neisseria_gonorrhoeae': 27, 'Pseudomonas_fluorescens': 21, 'Pseudomonas_stutzeri': 17, 'Escherichia_albertii': 14, 'Leptospira_interrogans': 9, 'Pseudomonas_protegens': 6, 'Helicobacter_cinaedi': 6, 'Leptospira_borgpetersenii': 6, 'Pseudomonas_mendocina': 6, 'Pseudomonas_synxantha': 6, 'Pseudomonas_orientalis': 5, 'Pseudomonas_monteilii': 5, 'Pseudomonas_brassicacearum': 4, 'Salmonella_bongori': 4, 'Neisseria_elongata': 4, 'Pseudomonas_frederiksbergensis': 3, 'Pseudomonas_parafulva': 3, 'Pseudomonas_koreensis': 3, 'Leptospira_mayottensis': 3, 'Neisseria_lactamica': 3, 'Pseudomonas_entomophila': 3, 'Neisseria_weaveri': 2, 'Pseudomonas_citronellolis': 2, 'Pseudomonas_cerasi': 2, 'Pseudomonas_fragi': 2, 'Leptospira_biflexa': 2, 'Pseudomonas_savastanoi': 2, 'Pseudomonas_pseudoalcaligenes': 2, 'Pseudomonas_fulva': 2, 'Helicobacter_cetorum': 2, 'Pseudomonas_mosselii': 2, 'Pseudomonas_taetrolens': 2, 'Pseudomonas_plecoglossicida': 2, 'Pseudomonas_amygdali': 2, 'Helicobacter_mustelae': 2, 'Neisseria_animaloris': 2, 'Pseudomonas_azotoformans': 2, 'Pseudomonas_rhizosphaerae': 1, 'Pseudomonas_soli': 1, 'Pseudomonas_libanensis': 1, 'Pseudomonas_knackmussii': 1, 'Pseudomonas_antarctica': 1, 'Neisseria_zoodegmatis': 1, 'Pseudomonas_cichorii': 1, 'Pseudomonas_viridiflava': 1, 'Helicobacter_pullorum': 1, 'Neisseria_sicca': 1, 'Pseudomonas_yamanorum': 1, 'Escherichia_fergusonii': 1, 'Helicobacter_bilis': 1, 'Pseudomonas_cremoricolorata': 1, 'Neisseria_subflava': 1, 'Pseudomonas_alcaligenes': 1, 'Pseudomonas_mucidolens': 1, 'Neisseriaceae_bacterium': 1, 'Helicobacter_apodemus': 1, 'Pseudomonas_veronii': 1, 'Pseudomonas_furukawaii': 1, 'Pseudomonas_avellanae': 1, 'Pseudomonas_versuta': 1, 'Pseudomonas_kribbensis': 1, 'Neisseria_mucosa': 1, 'Helicobacter_typhlonius': 1, 'Pseudomonas_trivialis': 1, 'Helicobacter_hepaticus': 1, 'Leptospira_kmetyi': 1, 'Helicobacter_felis': 1, 'Pseudomonas_oryzihabitans': 1, 'Pseudomonas_silesiensis': 1, 'Neisseria_canis': 1, 'Neisseria_polysaccharea': 1, 'Leptospira_santarosai': 1, 'Pseudomonas_resinovorans': 1, 'Escherichia_marmotae': 1, 'Pseudomonas_lurida': 1, 'Pseudomonas_mandelii': 1, 'Helicobacter_acinonychis': 1, 'Neisseria_cinerea': 1, 'Pseudomonas_poae': 1, 'Helicobacter_cholecystus': 1, 'Pseudomonas_alcaliphila': 1, 'Helicobacter_himalayensis': 1, 'Neisseria_animalis': 1, 'Pseudomonas_balearica': 1, 'Leptospira_alstonii': 1, 'Pseudomonas_corrugata': 1, 'Pseudomonas_psychrotolerans': 1, 'Pseudomonas_alkylphenolica': 1})\u001b[0m\n",
      "\u001b[0;1;31;1mCounter({'Pseudomonas_aeruginosa': 109, 'Salmonella_enterica': 107, 'Escherichia_coli': 101, 'Helicobacter_pylori': 99, 'Neisseria_meningitidis': 94, 'Pseudomonas_chlororaphis': 42, 'Pseudomonas_syringae': 29, 'Pseudomonas_putida': 28, 'Neisseria_gonorrhoeae': 27, 'Pseudomonas_fluorescens': 21, 'Pseudomonas_stutzeri': 17, 'Escherichia_albertii': 14, 'Leptospira_interrogans': 9, 'Pseudomonas_mendocina': 6, 'Pseudomonas_protegens': 6, 'Helicobacter_cinaedi': 6, 'Leptospira_borgpetersenii': 6, 'Pseudomonas_synxantha': 6, 'Pseudomonas_orientalis': 5, 'Pseudomonas_monteilii': 5, 'Salmonella_bongori': 4, 'Pseudomonas_brassicacearum': 4, 'Neisseria_elongata': 4, 'Pseudomonas_frederiksbergensis': 3, 'Pseudomonas_parafulva': 3, 'Neisseria_lactamica': 3, 'Pseudomonas_koreensis': 3, 'Pseudomonas_entomophila': 3, 'Leptospira_mayottensis': 3})\u001b[0;1;30;1m length :: 767\u001b[0m\n"
     ]
    }
   ],
   "source": [
    "## read species names translation tables and keep only genus+species \n",
    "table_filenames_species = []\n",
    "for bact in gram_negative[1:]: ## exclude Campy\n",
    "    file_name = glob.glob(\"./bigdata/\" + bact + \"*/names.txt\")[0]\n",
    "    file_lines = [line.strip() for line in open(file_name, 'r')]\n",
    "    thistbl = [line.split('\\t') for line in file_lines[1:]] # concatenation of lists\n",
    "    fnames = glob.glob(\"./bigdata/\" + bact + \"*/GCF_*.gbff.gz\")\n",
    "    ## alterantive 1: use map index\n",
    "    idx=[i for j in thistbl for i,fname in enumerate(fnames) if j[0] in fname]\n",
    "    thistbl = [[fnames[idx[i]]] + j for i,j in enumerate(thistbl)]\n",
    "    ## alternative 2: use bash wildcard\n",
    "    #thistbl = [glob.glob(\"./bigdata/\" + bact + \"*/*\"+x[0]+\"*.gbff.gz\")+x for x in thistbl]\n",
    "    table_filenames_species += thistbl\n",
    "\n",
    "table_filenames_species = [line + [\"_\".join(line[2].split()[:2]).split('.')[0]] for line in table_filenames_species]\n",
    "table_filenames_species = [line + [line[2].split()[0]] for line in table_filenames_species]  \n",
    "print_redblack (\"table_filenames_species[] has:\",\" filename,  GCF_id, full species_subsp name, species name (genus+sp), genus\\n\")\n",
    "\n",
    "print (table_filenames_species[230], \"\\n\", set([x[4] for x  in table_filenames_species]))\n",
    "\n",
    "species_counter = collections.Counter([x[3] for x in table_filenames_species if x[3][-3:] !=\"_sp\"])\n",
    "print_redblack (\"distinct species: \", species_counter)\n",
    "\n",
    "tbl_fl_sp = [x  for x in table_filenames_species if subsample_accept (x[3], species_counter)]\n",
    "tmp_counter = collections.Counter([x[3] for x in tbl_fl_sp])\n",
    "print_redblack(tmp_counter, \" length :: \" + str(len(tbl_fl_sp)))\n",
    "random.shuffle(tbl_fl_sp)"
   ]
  },
  {
   "cell_type": "code",
   "execution_count": 4,
   "metadata": {},
   "outputs": [],
   "source": [
    "def get_hypervar_16S (sequence):\n",
    "    size = len(sequence)\n",
    "    n1 = int(hypervar[2] * size); n2 = int(hypervar[3] * size); n3 = int(hypervar[1] * size) #v4, v1+v2\n",
    "    return {\"16Sv4\":sequence[n1:n2], \"16Sv1v2\":sequence[:n3]}\n",
    "    \n",
    "def align_seqs_small (unaligned):\n",
    "    \"\"\" muscle alignment using pipes (not files) \"\"\"\n",
    "    cline = Align.Applications.MuscleCommandline(clwstrict=False, fasta=True, diags=True, maxiters=2, maxhours=4.) \n",
    "    child = subprocess.Popen(str(cline), stdin=subprocess.PIPE, stderr=subprocess.PIPE, stdout=subprocess.PIPE, \n",
    "                             universal_newlines=True, shell=(sys.platform!=\"win32\"))\n",
    "\n",
    "    SeqIO.write(unaligned, child.stdin, \"fasta\") # after this muscle is still waiting, so...\n",
    "    child.stdin.close() # ... we must close the handle by hand, which will then make muscle start calculations\n",
    "    aligned = AlignIO.read(child.stdout, \"fasta\")  # read from stdout as a fasta file \n",
    "    child.terminate()\n",
    "    return aligned\n",
    "\n",
    "def align_seqs (sequences=None, maxiters=12, infile=None, outfile=None, mafft = True):\n",
    "    print (\"started aligning...\", flush=True, end=\" \")\n",
    "    if (sequences is None) and (infile is None):\n",
    "        print (\"ERROR: You must give me an alignment object or file\")\n",
    "        return [] ## OTOH if both are present then infile is overwritten with contents of sequences[]\n",
    "    if infile is None:\n",
    "        ifl = \"/tmp/in.fas\"\n",
    "    else:\n",
    "        ifl = infile\n",
    "    if outfile is None:\n",
    "        ofl = \"/tmp/out.fas\"\n",
    "    else:\n",
    "        ofl = outfile\n",
    "    SeqIO.write(sequences, ifl, \"fasta\")\n",
    "    if (mafft is False):\n",
    "        proc_run = subprocess.check_output(\"muscle -in \" + ifl + \" -diags -maxiters \" + str(maxiters) + \" -out \" + ofl,\n",
    "                                       shell=True, universal_newlines=True)\n",
    "    else: # \"--parttree --6merpair\" and 0.123 is to avoid very long alignments\n",
    "        proc_run = subprocess.check_output(\"mafft --ep 0.3 --op 3.0 --auto \" + ifl + \" > \" + ofl,\n",
    "                                       shell=True, universal_newlines=True)\n",
    "      \n",
    "    aligned = AlignIO.read(ofl, \"fasta\")\n",
    "    print (\"Finished\",flush=True)\n",
    "    if infile is None:\n",
    "        os.system(\"rm -f \" + ifl)\n",
    "    if outfile is None:\n",
    "        os.system(\"rm -f \" + ofl)\n",
    "    return aligned\n",
    "\n",
    "def ambiguous_consensus_from_alignment (align):\n",
    "    #summary_align = AlignInfo.SummaryInfo(Align.MultipleSeqAlignment(align))\n",
    "    summary_align = AlignInfo.SummaryInfo(align) # must be aligned sequences\n",
    "    pssm = summary_align.pos_specific_score_matrix()\n",
    "    consensus = []; \n",
    "    for score in pssm: # something like {'A': 0, 'T': 4.0, 'G': 0, 'C': 2.0} for each column\n",
    "        base_present = ''.join(sorted([base for base in \"ACGT\" if score[base] > 0])) ## neglect indels\n",
    "        if (base_present): \n",
    "            consensus.append(iupac_dna[base_present])\n",
    "    return ''.join(consensus)\n",
    "\n",
    "def get_longest_from_dict(rRNA):\n",
    "    longest_dict = {}\n",
    "    for rna in rrna_types:\n",
    "        longest_dict[rna] = str(rRNA[rna][ np.argsort([len(x) for x in rRNA[rna]])[0] ].seq)\n",
    "    return longest_dict\n",
    "\n",
    "def get_consensus_from_dict(rRNA):\n",
    "    consensus_dict = {}\n",
    "    for rna in rrna_types:\n",
    "        consensus_dict[rna] = ambiguous_consensus_from_alignment(align_seqs_small(rRNA[rna]))\n",
    "    return consensus_dict"
   ]
  },
  {
   "cell_type": "markdown",
   "metadata": {},
   "source": [
    "### chose random set of samples, get longest copy as well as _all_ copies"
   ]
  },
  {
   "cell_type": "code",
   "execution_count": 6,
   "metadata": {},
   "outputs": [],
   "source": [
    "def get_rrna_from_genbank_to_dict (table_fs):\n",
    "    gbank = SeqIO.parse(gzip.open(table_fs[0], \"rt\"), \"genbank\")\n",
    "    rRNA = {}\n",
    "    for rna in rrna_types:\n",
    "        rRNA[rna] = []\n",
    "    genome = next(gbank) # no point in iterating over gbank, only this has whole information\n",
    "    for feature in genome.features:\n",
    "        if(feature.type == \"rRNA\"):\n",
    "            for rna in rrna_types:\n",
    "                if rna in feature.qualifiers['product'][0]:\n",
    "                    this_product = rna\n",
    "                    desc = feature.qualifiers['locus_tag'][0]\n",
    "                    seq = feature.extract(genome.seq)\n",
    "                    record = SeqRecord(seq, id=desc)\n",
    "                    rRNA[this_product].append(record)\n",
    "                    break\n",
    "    success = True\n",
    "    for rna in rrna_types:\n",
    "        success = success and rRNA[rna]\n",
    "    if success:\n",
    "        return rRNA\n",
    "    return None"
   ]
  },
  {
   "cell_type": "code",
   "execution_count": 7,
   "metadata": {},
   "outputs": [],
   "source": [
    "## run this if you want to reset variables\n",
    "rna_concat = {}\n",
    "rna_consen = {}\n",
    "stats_dict = {}\n",
    "for rna in rrna_types+hyper_types: # must also initalise 'v4' and 'v4v6'\n",
    "    rna_concat[rna] = []\n",
    "    rna_consen[rna] = []\n",
    "for rna in rrna_types:\n",
    "    stats_dict[\"Longest \" + rna] = []\n",
    "    stats_dict[\"Consensus \" + rna] = []\n",
    "    stats_dict[\"Copies \" + rna] = []"
   ]
  },
  {
   "cell_type": "markdown",
   "metadata": {},
   "source": [
    "### reads gbff files and stores features\n",
    "- also prepares some numbers for the spreadsheet supplementary material"
   ]
  },
  {
   "cell_type": "code",
   "execution_count": 8,
   "metadata": {
    "scrolled": false
   },
   "outputs": [
    {
     "name": "stdout",
     "output_type": "stream",
     "text": [
      "20 40 60 80 100 120 140 160 180 200 220 240 260 280 300 320 340 360 380 400 420 440 460 480 500 520 540 560 580 600 620 640 660 680 700 720 740 760 \u001b[0;1;31;1m16S\u001b[0;1;30;1m\u001b[0m\n",
      "1538.58970976 31.8369734058 758  |  1075 1509.0 1556.0 1556\n",
      "\u001b[0;1;31;1mconsensus\u001b[0;1;30;1m\u001b[0m\n",
      "1542.09762533 15.5056707528 758  |  1501 1509.0 1556.0 1582\n",
      "\u001b[0;1;31;1m23S\u001b[0;1;30;1m\u001b[0m\n",
      "2912.32585752 89.1915648572 758  |  2070 2888.0 2967.0 3632\n",
      "\u001b[0;1;31;1mconsensus\u001b[0;1;30;1m\u001b[0m\n",
      "2940.31398417 112.199450611 758  |  2832 2889.0 3109.0 5180\n",
      "\u001b[0;1;31;1m5S\u001b[0;1;30;1m\u001b[0m\n",
      "115.941952507 1.4688704356 758  |  91 114.0 118.0 120\n",
      "\u001b[0;1;31;1mconsensus\u001b[0;1;30;1m\u001b[0m\n",
      "117.100263852 30.6773656806 758  |  91 114.0 118.0 960\n"
     ]
    }
   ],
   "source": [
    "all_fl_sp = []\n",
    "\n",
    "for file_counter, tfs in enumerate(tbl_fl_sp):\n",
    "    if not (file_counter+1)%20:\n",
    "        print (str(file_counter+1), end=\" \", flush=True)\n",
    "    rna_dict = get_rrna_from_genbank_to_dict (tfs)\n",
    "    # (some list will have no usable features or b/c too long/too short; some dict has no usable features\n",
    "    if rna_dict:\n",
    "        spname = return_species_name_from_table (tfs)\n",
    "        \n",
    "        concat_seqs = get_longest_from_dict (rna_dict)\n",
    "        concat_seqs.update(get_hypervar_16S(concat_seqs['16S'])) # adds two elements, with v4 and v1v2 regions\n",
    "        for rna, rseq in concat_seqs.items():\n",
    "            rna_concat[rna].append(SeqRecord(Seq.Seq(rseq,Alphabet.IUPAC.ambiguous_dna),id=spname,description=spname))\n",
    "        \n",
    "        consen_seqs = get_consensus_from_dict (rna_dict)\n",
    "        consen_seqs.update(get_hypervar_16S(consen_seqs['16S'])) # adds two elements, with v4 and v1v2 regions\n",
    "        for rna, rseq in consen_seqs.items():\n",
    "            rna_consen[rna].append(SeqRecord(Seq.Seq(rseq,Alphabet.IUPAC.ambiguous_dna),id=spname,description=spname))\n",
    "        \n",
    "        for rna in rrna_types: # stored into CSV \n",
    "            stats_dict[\"Longest \" + rna].append(len(concat_seqs[rna]))\n",
    "            stats_dict[\"Consensus \" + rna].append(len(consen_seqs[rna]))\n",
    "            stats_dict[\"Copies \" + rna].append(len(rna_dict[rna])) # how many copies\n",
    "        all_fl_sp.append(tfs)    \n",
    "\n",
    "# save table\n",
    "fl=gzip.open(outdir+\"all_fl_sp.pickle.gz\", \"w\"); pickle.dump([all_fl_sp],fl,2); fl.close()\n",
    "\n",
    "for rna in rrna_types:\n",
    "    x = stats_dict[\"Longest \" + rna]\n",
    "    print_redblack (rna); print (np.mean(x), np.std(x), len(x), \" | \", \n",
    "           np.min(x), np.percentile(x, 5), np.percentile(x, 95), np.max(x))\n",
    "    x = stats_dict[\"Consensus \" + rna]\n",
    "    print_redblack (\"consensus\"); print (np.mean(x), np.std(x), len(x), \" | \", \n",
    "           np.min(x), np.percentile(x, 5), np.percentile(x, 95), np.max(x))"
   ]
  },
  {
   "cell_type": "markdown",
   "metadata": {},
   "source": [
    "### If resuming from previous analysis (before alignment), read parameters from pickled file"
   ]
  },
  {
   "cell_type": "code",
   "execution_count": 4,
   "metadata": {},
   "outputs": [],
   "source": [
    "## DO NOT RUN : reading from previous analysis\n",
    "fl=gzip.open(outdir +  \"all_fl_sp.pickle.gz\", \"r\"); all_fl_sp = pickle.load(fl); fl.close()"
   ]
  },
  {
   "cell_type": "code",
   "execution_count": 10,
   "metadata": {},
   "outputs": [],
   "source": [
    "def create_dataframe_from_table_filename_species (table_fs, stats_dictionary):\n",
    "    dfd = {\"Organism\":[], \"Accession Number\":[],\"File Name\":[], \"Species\":[]}\n",
    "    for elem in table_fs:\n",
    "        dfd[\"Accession Number\"].append(elem[1])\n",
    "        dfd[\"Organism\"].append(elem[2])\n",
    "        dfd[\"File Name\"].append(elem[0].split(\"/\")[-1])\n",
    "        dfd[\"Species\"].append(\" \".join(elem[3].split(\"_\")))\n",
    "    for k,v in stats_dictionary.items(): ## append statistics \n",
    "        dfd[k] = v\n",
    "    return pandas.DataFrame(data=dfd)\n",
    "\n",
    "df = create_dataframe_from_table_filename_species (all_fl_sp, stats_dict)\n",
    "df.to_csv(outdir + \"all.csv\")"
   ]
  },
  {
   "cell_type": "markdown",
   "metadata": {},
   "source": [
    "### This function does the actual alignment \n",
    "- five for longest sequence and five for consensus sequence (v1v2, v4, 16S, 23S, 5S)"
   ]
  },
  {
   "cell_type": "code",
   "execution_count": 11,
   "metadata": {},
   "outputs": [
    {
     "name": "stdout",
     "output_type": "stream",
     "text": [
      "started aligning... Finished\n",
      "started aligning... Finished\n",
      "started aligning... Finished\n",
      "started aligning... Finished\n",
      "started aligning... Finished\n",
      "started aligning... Finished\n",
      "started aligning... Finished\n",
      "started aligning... Finished\n",
      "started aligning... Finished\n",
      "started aligning... Finished\n"
     ]
    }
   ],
   "source": [
    "# align each of the dictionary values (lists of unaligned seqs)\n",
    "concat_aligned = {k:align_seqs(sequences=v, outfile=outdir + k + \"_long.fasta\") for k,v in rna_concat.items()}\n",
    "consen_aligned = {k:align_seqs(sequences=v, outfile=outdir + k + \"_consensus.fasta\") for k,v in rna_consen.items()}"
   ]
  },
  {
   "cell_type": "code",
   "execution_count": 8,
   "metadata": {},
   "outputs": [],
   "source": [
    "## rna_alignment is a dict with one alignment per rRNA; below the dictionaries have _sequence_ids_ as keys.\n",
    "def add_missing_sequences (align_1, align_2):\n",
    "    seqdict_1 = SeqIO.to_dict(align_1); seqdict_2 = SeqIO.to_dict(align_2)\n",
    "    n1 = align_1.get_alignment_length(); n2 = align_2.get_alignment_length();\n",
    "    for k in seqdict_1:\n",
    "        if k not in seqdict_2:\n",
    "            seqdict_2[k] = SeqRecord(Seq.Seq('N'*n2, Alphabet.IUPAC.ambiguous_dna), id=k, description=k)\n",
    "    for k in seqdict_2:\n",
    "        if k not in seqdict_1:\n",
    "            seqdict_1[k] = SeqRecord(Seq.Seq('N'*n1, Alphabet.IUPAC.ambiguous_dna), id=k, description=k)\n",
    "    return Align.MultipleSeqAlignment(seqdict_1.values()), Align.MultipleSeqAlignment(seqdict_2.values())\n",
    "\n",
    "def create_species_genus_labels (seqlist, have_paralogs = False): \n",
    "    species = ['_'.join(sequence.id.split('_')[:2]) for sequence in seqlist]\n",
    "    genus = [sequence.id.split('_')[0] for sequence in seqlist]\n",
    "    if have_paralogs:# assumes 'genus_species_code_number' names \n",
    "        sample = ['_'.join(sequence.id.split('_')[:3]) for sequence in seqlist]\n",
    "        return species, genus, sample\n",
    "    return species, genus "
   ]
  },
  {
   "cell_type": "markdown",
   "metadata": {},
   "source": [
    "### if resuming from previous analysis (after alignment), run code below to read genome names table and alignments\n",
    "- parameters from pickled file are not needed in fact"
   ]
  },
  {
   "cell_type": "code",
   "execution_count": 5,
   "metadata": {},
   "outputs": [],
   "source": [
    "# DO NOT RUN unles resuming from previous analysis::  read table\n",
    "concat_aligned = {k:AlignIO.read(outdir + k + \"_long.fasta\", \"fasta\") for k in rrna_types+hyper_types}\n",
    "consen_aligned = {k:AlignIO.read(outdir + k + \"_consensus.fasta\", \"fasta\") for k in rrna_types+hyper_types}"
   ]
  },
  {
   "cell_type": "code",
   "execution_count": 6,
   "metadata": {},
   "outputs": [
    {
     "name": "stdout",
     "output_type": "stream",
     "text": [
      "['./016_results/16Sv1v2', './016_results/16Sv4', './016_results/16S', './016_results/23S', './016_results/5S']\n"
     ]
    }
   ],
   "source": [
    "outfile_list = [outdir + str(keys) for keys in hyper_types + rrna_types] # 16S etc. but also v4 v4v6\n",
    "print (outfile_list)"
   ]
  },
  {
   "cell_type": "markdown",
   "metadata": {},
   "source": [
    "### creates concatenated alignments from all single gene combinations "
   ]
  },
  {
   "cell_type": "code",
   "execution_count": 9,
   "metadata": {},
   "outputs": [],
   "source": [
    "# order of outfile_list is important, since defines order in table, figures\n",
    "\n",
    "## (1) Individual rRNAs (already done by align_seqs)\n",
    "\n",
    "for r1, r2 in itertools.combinations(rrna_types,2): # ensure all samples are present\n",
    "    concat_aligned[r1], concat_aligned[r2] = add_missing_sequences(concat_aligned[r1], concat_aligned[r2])\n",
    "    \n",
    "## (2) pairs of rRNAs (16+23, 16+5, 23+5)\n",
    "for r1, r2 in itertools.combinations(rrna_types,2):\n",
    "    outfile_list.append(outdir + str(r1) + str(r2))\n",
    "    for thisalign, suff in zip([concat_aligned, consen_aligned], [\"_long\", \"_consensus\"]):\n",
    "        seq_dict_1 = SeqIO.to_dict(thisalign[r1])\n",
    "        seq_dict_2 = SeqIO.to_dict(thisalign[r2])\n",
    "        tmpalign = [SeqRecord(Seq.Seq(str(seq_dict_1[k].seq) + str(seq_dict_2[k].seq), \n",
    "                                      Alphabet.IUPAC.ambiguous_dna), id=k, description=k) for k in seq_dict_1]\n",
    "        # tmpalign has concat seqs related to _same_ sample (that's why a dictionary and not simply align1+align2)\n",
    "        output_handle = open (outdir + str(r1) + str(r2) + suff + \".fasta\", \"w\")\n",
    "        SeqIO.write(tmpalign, output_handle, \"fasta\")\n",
    "        output_handle.close()\n",
    "\n",
    "## (3) all three concatenated\n",
    "r1, r2, r3 = rrna_types\n",
    "outfile_list.append(outdir + str(r1) + str(r2) + str(r3))\n",
    "\n",
    "for thisalign, suff in zip([concat_aligned, consen_aligned], [\"_long\", \"_consensus\"]):\n",
    "    seq_dict_1 = SeqIO.to_dict(thisalign[r1])\n",
    "    seq_dict_2 = SeqIO.to_dict(thisalign[r2])\n",
    "    seq_dict_3 = SeqIO.to_dict(thisalign[r3])\n",
    "    tmpalign = [SeqRecord(Seq.Seq(str(seq_dict_1[k].seq) + str(seq_dict_2[k].seq) + str(seq_dict_3[k].seq), \n",
    "                                  Alphabet.IUPAC.ambiguous_dna), id=k, description=k) for k in seq_dict_1]\n",
    "    output_handle = open (outdir + str(r1) + str(r2) + str(r3) + suff + \".fasta\", \"w\")\n",
    "    SeqIO.write(tmpalign, output_handle, \"fasta\")\n",
    "    output_handle.close()"
   ]
  },
  {
   "cell_type": "code",
   "execution_count": 1,
   "metadata": {
    "scrolled": true
   },
   "outputs": [],
   "source": [
    "#for fname in [ofile + suff for suff in [\"_long\", \"_consensus\"] for ofile in outfile_list]:\n",
    "for fname in [ofile + suff for suff in [\"_consensus\"] for ofile in outfile_list]:\n",
    "    subprocess.check_output(\"iqtree-omp -s \" + fname + \".fasta -nt 8 -m HKY+G\",shell=True,universal_newlines=True)"
   ]
  },
  {
   "cell_type": "markdown",
   "metadata": {},
   "source": [
    "### Patristic distances from tree files estimated above\n",
    "* results below are valid, but for up-to-date visualisation please see notebook `021`\n",
    "* for example, below we have results at genus level, which we do not show in manuscript"
   ]
  },
  {
   "cell_type": "code",
   "execution_count": 8,
   "metadata": {},
   "outputs": [],
   "source": [
    "def patristic_distances_from_treefile (filename, have_paralogs = False, shuffle = False):\n",
    "    tree = dendropy.Tree.get(path=filename, schema=\"newick\", preserve_underscores=True)\n",
    "    if shuffle:\n",
    "        tree = dendropy.simulate.treesim.pure_kingman_tree(taxon_namespace=tree.taxon_namespace, pop_size = 1000)\n",
    "    species = ['_'.join(t.label.split('_')[:2]) for t in tree.taxon_namespace] ## follow order of taxon_namespace\n",
    "    genus = [t.label.split('_')[0] for t in tree.taxon_namespace]\n",
    "    ntaxa = len(tree.taxon_namespace)\n",
    "    distmat = np.zeros((ntaxa,ntaxa)) # diagonals are zero\n",
    "    nodemat = np.zeros((ntaxa,ntaxa))\n",
    "    pdm = tree.phylogenetic_distance_matrix() # initialises class\n",
    "    for i,j in itertools.combinations(range(ntaxa),2):\n",
    "        distmat[i,j] = distmat[j,i] = pdm.distance(tree.taxon_namespace[i], tree.taxon_namespace[j])\n",
    "        nodemat[i,j] = nodemat[j,i] = pdm.path_edge_count(tree.taxon_namespace[i], tree.taxon_namespace[j])\n",
    "    if have_paralogs:\n",
    "        sample = ['_'.join(t.label.split('_')[:3]) for t in tree.taxon_namespace]\n",
    "        return species, genus, distmat, nodemat, sample\n",
    "    return species, genus, distmat, nodemat"
   ]
  },
  {
   "cell_type": "code",
   "execution_count": 9,
   "metadata": {},
   "outputs": [],
   "source": [
    "def silhouette_str(dist, labels):\n",
    "    distrib = metrics.silhouette_samples(dist, labels, metric=\"precomputed\")\n",
    "    return '{:7.3f}'.format(np.percentile(distrib, 5)) + \\\n",
    "    '{:7.3f}'.format(np.percentile(distrib, 25)) + \\\n",
    "    '{:7.3f}  '.format(sum(distrib>0)/float(len(distrib))) "
   ]
  },
  {
   "cell_type": "markdown",
   "metadata": {},
   "source": [
    "Each triplet from `silhouette_str()` has $5\\%$, $25\\%$ and proportion of positive silhouettes. And we have two triplets on the left for _species_ (S), and two on the right for _genera_ (G), one being from weighted (W) and one from unweighted (U) patristic distances. Therefore the header is: SW SU GW GU\n",
    "\n",
    "By the way having low silhouettte scores is not necessarily bad, since\n",
    "1. clusters of size one will have score of _zero_ **by definition** (should be _one_ given the silhouette function but this would lead to ever-increasing clusterings)\n",
    "2. clusters with within-distance zero are perfect, while for phylogenies we want non-zero diversification\n",
    "3. they can be negative if for a case like `((A:a,A:a,A:a),B:b)` with $a>b$ since $d(A,A)=2a > a+b = d(A,B)$ --- however the taxonomic classification is fine for A and B"
   ]
  },
  {
   "cell_type": "code",
   "execution_count": 10,
   "metadata": {},
   "outputs": [
    {
     "name": "stdout",
     "output_type": "stream",
     "text": [
      "     random       \t  -0.908 -0.829  0.008    -0.420 -0.301  0.011    -0.111 -0.072  0.239    -0.051 -0.032  0.197  \n",
      "long ML    16Sv1v2 \t  -0.746  0.160  0.786    -0.495 -0.265  0.483    -0.034  0.135  0.949    -0.326 -0.066  0.673  \n",
      "long ML    16Sv4  \t  -0.589  0.753  0.917    -0.651 -0.328  0.459     0.123  0.249  0.968    -0.399 -0.085  0.704  \n",
      "long ML    16S    \t  -0.363  0.552  0.920    -0.474 -0.154  0.598     0.622  0.799  1.000    -0.353 -0.036  0.687  \n",
      "long ML    23S    \t  -0.064  0.531  0.945    -0.459 -0.138  0.662     0.503  0.726  1.000    -0.196  0.112  0.877  \n",
      "long ML    5S     \t  -1.000 -1.000  0.547    -0.755 -0.430  0.441     0.206  0.790  0.967    -0.622 -0.386  0.489  \n",
      "long ML    16S23S \t  -0.092  0.519  0.949    -0.492 -0.013  0.748     0.607  0.748  1.000    -0.220  0.082  0.873  \n",
      "long ML    16S5S  \t  -0.234  0.492  0.920    -0.529 -0.226  0.596     0.633  0.791  1.000    -0.458 -0.032  0.727  \n",
      "long ML    23S5S  \t  -0.172  0.508  0.941    -0.458 -0.093  0.665     0.408  0.651  1.000    -0.180 -0.018  0.714  \n",
      "long ML    16S23S5S \t   0.029  0.520  0.951    -0.489  0.002  0.751     0.583  0.745  1.000    -0.336 -0.095  0.658  \n",
      "cons ML    16Sv1v2 \t  -0.725  0.259  0.819    -0.614 -0.236  0.586     0.222  0.728  1.000    -0.399 -0.099  0.687  \n",
      "cons ML    16Sv4  \t  -0.908  0.800  0.901    -0.616 -0.261  0.550     0.798  0.898  1.000    -0.412  0.102  0.807  \n",
      "cons ML    16S    \t  -0.217  0.554  0.922    -0.569 -0.248  0.627     0.764  0.858  1.000    -0.450  0.145  0.830  \n",
      "cons ML    23S    \t  -0.088  0.483  0.943    -0.456 -0.108  0.631     0.510  0.805  1.000    -0.185 -0.051  0.620  \n",
      "cons ML    5S     \t  -1.000 -0.997  0.600    -0.763 -0.410  0.453     0.354  0.782  0.951    -0.594 -0.302  0.505  \n",
      "cons ML    16S23S \t  -0.015  0.544  0.943    -0.468 -0.100  0.658     0.580  0.808  1.000    -0.310 -0.086  0.653  \n",
      "cons ML    16S5S  \t  -0.125  0.570  0.937    -0.595 -0.280  0.493     0.717  0.834  1.000    -0.466 -0.140  0.602  \n",
      "cons ML    23S5S  \t  -0.028  0.498  0.947    -0.517 -0.089  0.679     0.461  0.771  0.995    -0.289 -0.091  0.639  \n",
      "cons ML    16S23S5S \t   0.090  0.516  0.951    -0.505 -0.118  0.636     0.575  0.818  1.000    -0.393 -0.181  0.571  \n"
     ]
    }
   ],
   "source": [
    "sp, ge, mat, mat2 = patristic_distances_from_treefile (outfile_list[0]+ \"_long.fasta.treefile\", shuffle = True)\n",
    "x = metrics.silhouette_samples(mat2, sp, metric=\"precomputed\") ## unweighted (path difference) patristic\n",
    "# bar plot uses path difference\n",
    "bplot_label = [\"random\"] ; bplot_hue = [\"silhouette\"]; bplot_value = [sum(x>0)/float(len(x))]\n",
    "x = metrics.silhouette_samples(mat, sp, metric=\"precomputed\") ## weighted patristic distance\n",
    "# violin plots use weighted distances\n",
    "rnatypesilu = [\"random\"] * x.shape[0];  silulist_sp = list(x)\n",
    "\n",
    "print ('     {:12s}'.format(\"random\"), \"\\t\", silhouette_str(mat, sp),  silhouette_str(mat2, sp), \n",
    "        silhouette_str(mat, ge), silhouette_str(mat2, ge))\n",
    "\n",
    "suffix1 = \".fasta.treefile\"\n",
    "title1  = \"ML    \"\n",
    "for suffix2, title2 in zip ([\"_long\", \"_consensus\"], [\"long \", \"cons \"]):\n",
    "    suffix = suffix2 + suffix1; title = title2 + title1;\n",
    "    for fname, rname in zip(outfile_list, [i.split('/')[-1] for i in outfile_list]):\n",
    "        sp, ge, mat, mat2 = patristic_distances_from_treefile (fname + suffix)\n",
    "        print (title + '{:6s}'.format(rname), \"\\t\", silhouette_str(mat, sp),  silhouette_str(mat2, sp), \n",
    "            silhouette_str(mat, ge), silhouette_str(mat2, ge))\n",
    "        if \"long\" in title:\n",
    "            x = metrics.silhouette_samples(mat, sp, metric=\"precomputed\") ## weighted patristic distance\n",
    "            bplot_label.append(rname) ; bplot_hue.append(\"silhouette\"); bplot_value.append(sum(x>0)/float(len(x)))\n",
    "            # x = metrics.silhouette_samples(mat2, sp, metric=\"precomputed\") ## unweighted\n",
    "            rnatypesilu.extend([str(rname)] * x.shape[0])\n",
    "            silulist_sp.extend(list(x))\n",
    "        "
   ]
  },
  {
   "cell_type": "markdown",
   "metadata": {},
   "source": [
    "### algorithms and results below are obsolete; please see 021.monophyly_scores.ipynb for up-to-date plots and tables\n",
    "* The 'bipartition' results are not relevant since 'number of species in every node' is a poor indicator of monophyly"
   ]
  },
  {
   "cell_type": "code",
   "execution_count": 11,
   "metadata": {},
   "outputs": [
    {
     "name": "stdout",
     "output_type": "stream",
     "text": [
      "random  \t   4.696 10.000  0.041\t   2.981  5.000  0.101\t\n",
      "long ML    16Sv1v2 \t   1.987  2.000  0.770\t   1.163  1.000  0.948\t\n",
      "long ML    16Sv4   \t   2.545  2.000  0.774\t   1.274  1.000  0.938\t\n",
      "long ML    16S     \t   1.757  2.000  0.839\t   1.130  1.000  0.971\t\n",
      "long ML    23S     \t   1.591  2.000  0.862\t   1.103  1.000  0.976\t\n",
      "long ML    5S      \t   3.569  6.000  0.419\t   1.362  2.000  0.839\t\n",
      "long ML    16S23S  \t   1.433  2.000  0.862\t   1.057  1.000  0.985\t\n",
      "long ML    16S5S   \t   1.671  2.000  0.862\t   1.110  1.000  0.975\t\n",
      "long ML    23S5S   \t   1.519  2.000  0.866\t   1.070  1.000  0.983\t\n",
      "long ML    16S23S5S \t   1.507  2.000  0.851\t   1.070  1.000  0.983\t\n",
      "cons ML    16Sv1v2 \t   2.316  4.000  0.716\t   1.247  2.000  0.880\t\n",
      "cons ML    16Sv4   \t   2.302  2.000  0.737\t   1.255  1.000  0.946\t\n",
      "cons ML    16S     \t   2.095  2.000  0.840\t   1.216  1.000  0.954\t\n",
      "cons ML    23S     \t   1.598  2.000  0.898\t   1.107  1.000  0.972\t\n",
      "cons ML    5S      \t   2.742  4.000  0.444\t   1.216  2.000  0.893\t\n",
      "cons ML    16S23S  \t   1.540  2.000  0.857\t   1.090  1.000  0.979\t\n",
      "cons ML    16S5S   \t   1.831  2.000  0.778\t   1.130  1.000  0.971\t\n",
      "cons ML    23S5S   \t   1.583  2.000  0.852\t   1.085  1.000  0.974\t\n",
      "cons ML    16S23S5S \t   1.515  2.000  0.843\t   1.070  1.000  0.983\t\n"
     ]
    }
   ],
   "source": [
    "def sp_count_from_list (labels):\n",
    "    x = ['_'.join(t.split('_')[:2]) for t in labels]\n",
    "    return len(set(x))\n",
    "\n",
    "def genera_count_from_list (labels):\n",
    "    x = [t.split('_')[0] for t in labels]\n",
    "    return len(set(x))\n",
    "\n",
    "def bipartitions_from_treefile (filename, shuffle = False):\n",
    "    tree = dendropy.Tree.get(path=filename, schema=\"newick\", preserve_underscores=True)\n",
    "    if shuffle:\n",
    "        tree = dendropy.simulate.treesim.pure_kingman_tree(taxon_namespace=tree.taxon_namespace, pop_size = 1000)\n",
    "    tree.encode_bipartitions()\n",
    "    # bits[i] have the list of labels associated to bipartition (edge) i\n",
    "    bits = [[x.label for x in tree.taxon_namespace.bitmask_taxa_list(i.leafset_bitmask)] for i in tree.bipartition_encoding]\n",
    "    sp_count = [sp_count_from_list(i) for i in bits if len(i) > 1]\n",
    "    genera_count = [genera_count_from_list(i) for i in bits if len(i) > 1]\n",
    "    return sp_count, genera_count\n",
    "\n",
    "def bipart_str(counts):\n",
    "    distrib = np.array(counts)\n",
    "    return '{:7.3f}'.format(np.mean(distrib)) + \\\n",
    "    '{:7.3f}'.format(np.percentile(distrib, 90)) + \\\n",
    "    '{:7.3f}\\t'.format(sum(distrib == 1)/float(len(distrib))) \n",
    "\n",
    "sp0, ge0 = bipartitions_from_treefile (outfile_list[0]+ \"_long.fasta.treefile\", shuffle = True)\n",
    "print ('{:7s}'.format(\"random\"), \"\\t\", bipart_str(sp0), bipart_str(ge0))\n",
    "rnatypelist = [\"random\"] * len(sp0)\n",
    "monolist_sp = [x/max(sp0) for x in sp0]; monolist_ge = [x/max(ge0) for x in ge0]\n",
    "bplot_label.append(\"random\") ; bplot_hue.append(\"monophyly\"); bplot_value.append(sum(np.array(sp0) == 1)/float(len(sp0)))\n",
    "\n",
    "suffix1 = \".fasta.treefile\"\n",
    "title1  = \"ML    \"\n",
    "for suffix2, title2 in zip ([\"_long\", \"_consensus\"], [\"long \", \"cons \"]):\n",
    "    suffix = suffix2 + suffix1; title = title2 + title1;\n",
    "    for fname, rname in zip(outfile_list, [i.split('/')[-1] for i in outfile_list]):\n",
    "        sp, ge = bipartitions_from_treefile (fname + suffix)\n",
    "        print (title + '{:7s}'.format(rname), \"\\t\", bipart_str(sp), bipart_str(ge))        \n",
    "        if \"long\" in title:\n",
    "            rnatypelist.extend([str(rname)+\"\\n\" + title] * len(sp))\n",
    "            bplot_label.append(rname) ; bplot_hue.append(\"monophyly\"); bplot_value.append(sum(np.array(sp) == 1)/float(len(sp)))\n",
    "            monolist_sp.extend([x/max(sp) for x in sp]); monolist_ge.extend([x/max(ge0) for x in ge])"
   ]
  },
  {
   "cell_type": "code",
   "execution_count": 16,
   "metadata": {},
   "outputs": [
    {
     "data": {
      "text/plain": [
       "Text(0.5, 1.0, 'proportion of sample pairs with good silhouettes and of monophyletic nodes,both under ML (higher is better)')"
      ]
     },
     "execution_count": 16,
     "metadata": {},
     "output_type": "execute_result"
    },
    {
     "data": {
      "image/png": "[encoded data removed]",
      "text/plain": [
       "<Figure size 1152x864 with 2 Axes>"
      ]
     },
     "metadata": {},
     "output_type": "display_data"
    }
   ],
   "source": [
    "fig, axes = plt.subplots(2,1) ; fig.set_size_inches(16, 12)\n",
    "fig.subplots_adjust(top=.99, bottom=.01, left=.01, right=.98, wspace=.2, hspace=.2)\n",
    "sns.set()\n",
    "\n",
    "sns.boxenplot(x=rnatypesilu, y=silulist_sp, ax = axes[0], outlier_prop=0.00001)\n",
    "#sns.pointplot(x=rnatypesilu, y=silulist_sp, ax = axes[0])\n",
    "axes[0].set_title(\"silhouette scores for patristic distances at species level (positive is better)\")\n",
    "axes[0].set_xticklabels(axes[0].get_xticklabels(),rotation=40)\n",
    "\n",
    "#sns.boxplot(x=rnatypelist, y=monolist_sp, ax = axes[1])  # inner=\"sticks\",\n",
    "#sns.pointplot(x=rnatypelist, y=monolist_sp, ax = axes[1])  \n",
    "#axes[1].set_ylim(0,0.2)\n",
    "#axes[1].set_title(\"paraphyly scores at the species level (rescaled to one; lower is better)\")\n",
    "#axes[1].set_xticklabels(axes[1].get_xticklabels(),rotation=30)\n",
    "\n",
    "sns.barplot(hue=bplot_label, y=bplot_value, x=bplot_hue, ax=axes[1])\n",
    "axes[1].set_title(\"proportion of sample pairs with good silhouettes and of monophyletic nodes,\\\n",
    "both under ML (higher is better)\")"
   ]
  },
  {
   "cell_type": "code",
   "execution_count": null,
   "metadata": {},
   "outputs": [],
   "source": []
  }
 ],
 "metadata": {
  "kernelspec": {
   "display_name": "Python 3",
   "language": "python",
   "name": "python3"
  },
  "language_info": {
   "codemirror_mode": {
    "name": "ipython",
    "version": 3
   },
   "file_extension": ".py",
   "mimetype": "text/x-python",
   "name": "python",
   "nbconvert_exporter": "python",
   "pygments_lexer": "ipython3",
   "version": "3.6.7"
  }
 },
 "nbformat": 4,
 "nbformat_minor": 2
}
