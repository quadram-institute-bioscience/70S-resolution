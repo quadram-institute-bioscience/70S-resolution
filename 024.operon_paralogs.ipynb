{
 "cells": [
  {
   "cell_type": "markdown",
   "metadata": {},
   "source": [
    "# Effect of paralog choice on rRNA full operons\n",
    "\n",
    "- The analysis below runs on Pseudomonas and Staphylococcus data sets; you can try different ones, using the files downloaded as described in 026.concat_resolution.ipynb\n",
    "- BTW, please see 026.concat_resolution.ipynb for more details in case anything is not clear here."
   ]
  },
  {
   "cell_type": "code",
   "execution_count": 1,
   "metadata": {},
   "outputs": [],
   "source": [
    "%matplotlib inline\n",
    "import matplotlib\n",
    "import matplotlib.pyplot as plt\n",
    "from mpl_toolkits.axes_grid1 import make_axes_locatable\n",
    "\n",
    "from Bio import Seq, SeqIO, Align, AlignIO, Phylo, Alphabet, pairwise2 \n",
    "from Bio.SeqRecord import SeqRecord\n",
    "from Bio.Align import AlignInfo, Applications\n",
    "from Bio.Phylo import draw, TreeConstruction\n",
    "\n",
    "import numpy as np\n",
    "import seaborn as sns\n",
    "from sklearn import manifold, metrics, cluster, neighbors, decomposition, preprocessing\n",
    "import skbio, parasail, dendropy, pandas\n",
    "import sys, gzip, re, glob, pickle, collections, subprocess, os, errno, random, itertools\n",
    "\n",
    "def print_redblack(textr, textbb=\"\", textbl=\"\"):\n",
    "    print ('\\x1b[0;1;31;1m'+ str(textr) + '\\x1b[0;1;30;1m'+ str(textbb) + '\\x1b[0;0;30;0m'+ str(textbl) + '\\x1b[0m')"
   ]
  },
  {
   "cell_type": "markdown",
   "metadata": {},
   "source": [
    "### defining main variables\n",
    "- we also assume that all RefSeq genomes are in directory `bigdata/`, in `gbff.gz` format.\n",
    "- Here we apply a somehow 'agressive' subsampling (typically 1 or 2 samples per species) since we are not interested in quantitative analysis. We just want to show a case where different copies from the same strain cluster in distinct subtrees. "
   ]
  },
  {
   "cell_type": "code",
   "execution_count": 2,
   "metadata": {},
   "outputs": [],
   "source": [
    "# this is the set of possibilities (that we previously downloaded from refseq) \n",
    "all_genera = [\"Campylobacter\",\"Enterococcus\",\"Klebsiella\",\"Listeria\",\"Neisseria\",\"Staphylococcus\",\n",
    "                 \"Vibrio\",\"Clostridium\",\"Escherichia\",\"Helicobacter\",\"Leptospira\",\"Mycobacterium\",\n",
    "                 \"Pseudomonas\",\"Salmonella\",\"Streptococcus\"] ## we don't use this variable in practice\n",
    "# Genera that we will in fact get all paralogs (rRNA copies)\n",
    "bacteria_genera = [\"Pseudomonas\", \"Staphylococcus\"]\n",
    "outdir = \"./024_results/\"\n",
    "rrna_types = [\"16S\", \"23S\", \"5S\"];"
   ]
  },
  {
   "cell_type": "code",
   "execution_count": 6,
   "metadata": {},
   "outputs": [],
   "source": [
    "def species_list_from_binomial (binomial_str):\n",
    "    return binomial_str.split()[:2]  ## two first names, since might have strain, serovar\n",
    "\n",
    "## this function will generate leaf names on trees (default, below, is GTDB _ accession_number)\n",
    "def species_name_from_binomial (binomial_str, accession_str=None):\n",
    "    binstr = \".\".join(binomial_str.split()[:2]) ## join with \\. since \\_ is already used bt GTDB\n",
    "    if (accession_str):\n",
    "        accession_str = str(re.search('GCF_(\\d+)\\.', accession_str).group(1)) # gets number inside GCF_ddd.1\n",
    "        binstr += \".\" + accession_str\n",
    "    return binstr\n",
    "\n",
    "def subsample_accept_genus (sp_name, list_of_genera = bacteria_genera):\n",
    "    for x in list_of_genera:\n",
    "        if x in sp_name:\n",
    "            return True\n",
    "    return False\n",
    "\n",
    "def subsample_accept_counter (sp_name, collection_counter):\n",
    "    if sp_name not in collection_counter:\n",
    "        return False\n",
    "    x = collection_counter[sp_name]\n",
    "    if x < 1:  ## used only in 026, not here (since we may have several paralogs even for one sample) \n",
    "        return False\n",
    "    if x > 0: ## in practice only subsamples P. aeruginosa, S. aureus, and maybe a few others\n",
    "        return np.random.random() < 2/x\n",
    "    return True"
   ]
  },
  {
   "cell_type": "markdown",
   "metadata": {},
   "source": [
    "### table with taxonomic classification"
   ]
  },
  {
   "cell_type": "code",
   "execution_count": 4,
   "metadata": {},
   "outputs": [
    {
     "name": "stdout",
     "output_type": "stream",
     "text": [
      "\u001b[0;1;31;1mheader: <file>  \u001b[0;1;30;1m['gtdb_taxonomy', 'lsu_silva_23s_taxonomy', 'ncbi_organism_name', 'ncbi_taxonomy', 'ssu_silva_taxonomy']\u001b[0;0;30;0m\u001b[0m\n",
      "first element of list:  ['GCF_000465235.1', 'Campylobacter_D coli', 'Campylobacter coli CVM N29710', 'Campylobacter coli CVM N29710', 'Campylobacter coli', 'Campylobacter jejuni 30318'] \n",
      "\n",
      "first element, with file location:  ['/media/deolivl/QIB_deolivl/bigdata/Campylobacter/GCF_000465235.1_ASM46523v1_genomic.gbff.gz', 'GCF_000465235.1', 'Campylobacter_D coli', 'Campylobacter coli CVM N29710', 'Campylobacter coli CVM N29710', 'Campylobacter coli', 'Campylobacter jejuni 30318']\n"
     ]
    }
   ],
   "source": [
    "gbff_dir = \"/media/deolivl/QIB_deolivl/bigdata/\"   ## directory (or directories, in our case) with refseq genomes\n",
    "#gbff_dir = \"./bigdata/\"\n",
    "\n",
    "file_lines = [line.strip() for line in open(\"./bigdata/gtdb_list.csv\", 'r')]\n",
    "print_redblack(\"header: <file>  \", file_lines[0].split(';')[1:]) ## first column is data.frame index from R\n",
    "\n",
    "table_filenames_species = [line.split(';')[1:] for line in file_lines[1:]] ## skip first line, with headers\n",
    "print (\"first element of list: \", table_filenames_species[0], \"\\n\")\n",
    "\n",
    "fnames = glob.glob(gbff_dir + \"*/GCF_*.gbff.gz\")\n",
    "idx=[i for j in table_filenames_species for i,fname in enumerate(fnames) if j[0] in fname] ## j[1] has accession \n",
    "table_filenames_species = [[fnames[idx[i]]] + j for i,j in enumerate(table_filenames_species)]\n",
    "print (\"first element, with file location: \", table_filenames_species[0])"
   ]
  },
  {
   "cell_type": "markdown",
   "metadata": {},
   "source": [
    "### subsample from database, for selected genera"
   ]
  },
  {
   "cell_type": "code",
   "execution_count": 7,
   "metadata": {},
   "outputs": [
    {
     "name": "stdout",
     "output_type": "stream",
     "text": [
      "\u001b[0;1;31;1m\n",
      "Most common species in Pseudomonas (from all samples): \u001b[0;1;30;1m\u001b[0;0;30;0m[('Pseudomonas aeruginosa', 122), ('Pseudomonas_E avellanae', 13), ('Pseudomonas_E hunanensis', 11), ('Pseudomonas_E ficuserectae', 7), ('Pseudomonas_E monteilii_B', 6), ('Pseudomonas_A stutzeri', 5), ('Pseudomonas_E syringae_M', 5), ('Pseudomonas_E protegens', 5), ('Pseudomonas_E piscium', 5), ('Pseudomonas aeruginosa_A', 4)]\u001b[0m\n",
      "\u001b[0;1;31;1m\n",
      "Final set with 150 samples \u001b[0;1;30;1m(113 species) \u001b[0;0;30;0mCounter({'Pseudomonas_E avellanae': 5, 'Pseudomonas_A stutzeri': 4, 'Pseudomonas_E hunanensis': 3, 'Pseudomonas_E syringae': 3, 'Pseudomonas_E cerasi': 3, 'Pseudomonas_E taiwanensis': 3, 'Pseudomonas aeruginosa_A': 2, 'Pseudomonas_E fluorescens_AR': 2, 'Pseudomonas_E simiae': 2, 'Pseudomonas_E lurida': 2, 'Pseudomonas_E sp002966775': 2, 'Pseudomonas_E sp000346225': 2, 'Pseudomonas_E mendocina_A': 2, 'Pseudomonas_E mendocina': 2, 'Pseudomonas_E putida_P': 2, 'Pseudomonas_E monteilii_B': 2, 'Pseudomonas_E putida_H': 2, 'Pseudomonas_E putida_M': 2, 'Pseudomonas_E oleovorans': 2, 'Pseudomonas_E fulva': 2, 'Pseudomonas citronellolis': 2, 'Pseudomonas_E veronii': 2, 'Pseudomonas_E mosselii': 2, 'Pseudomonas_E sp001655615': 2, 'Pseudomonas_E piscium': 2, 'Pseudomonas_E sp000931465': 2, 'Pseudomonas_E brassicacearum_C': 2, 'Pseudomonas_E sp001547895': 2, 'Pseudomonas_E marginalis': 1, 'Pseudomonas_E kilonensis': 1, 'Pseudomonas_E fluorescens_B': 1, 'Pseudomonas_E fluorescens_X': 1, 'Pseudomonas_E fluorescens_E': 1, 'Pseudomonas_E fluorescens_AA': 1, 'Pseudomonas_E fluorescens_AN': 1, 'Pseudomonas_E fluorescens': 1, 'Pseudomonas_E fragi': 1, 'Pseudomonas_E mendocina_C': 1, 'Pseudomonas_E putida_E': 1, 'Pseudomonas_E putida': 1, 'Pseudomonas_E putida_Q': 1, 'Pseudomonas_E putida_B': 1, 'Pseudomonas_E putida_J': 1, 'Pseudomonas_E putida_T': 1, 'Pseudomonas_E putida_S': 1, 'Pseudomonas_A stutzeri_U': 1, 'Pseudomonas_A stutzeri_AG': 1, 'Pseudomonas_A stutzeri_AE': 1, 'Pseudomonas_A stutzeri_D': 1, 'Pseudomonas_A stutzeri_A': 1, 'Pseudomonas_A zhaodongensis': 1, 'Pseudomonas_A stutzeri_AJ': 1, 'Pseudomonas_E syringae_M': 1, 'Pseudomonas_E syringae_F': 1, 'Pseudomonas_E ficuserectae': 1, 'Pseudomonas_E viridiflava': 1, 'Pseudomonas_E cichorii': 1, 'Pseudomonas_E alcaligenes': 1, 'Pseudomonas_E mucidolens': 1, 'Pseudomonas_E azotoformans_A': 1, 'Pseudomonas_E azotoformans_B': 1, 'Pseudomonas_E corrugata': 1, 'Pseudomonas_E fulva_B': 1, 'Pseudomonas_E synxantha': 1, 'Pseudomonas_E taetrolens': 1, 'Pseudomonas_B oryzihabitans_E': 1, 'Pseudomonas_F resinovorans_A': 1, 'Pseudomonas knackmussii': 1, 'Pseudomonas_A balearica': 1, 'Pseudomonas_E mandelii': 1, 'Pseudomonas_E orientalis_A': 1, 'Pseudomonas_E monteilii_A': 1, 'Pseudomonas_E monteilii': 1, 'Pseudomonas_E alcaliphila_B': 1, 'Pseudomonas_E frederiksbergensis_B': 1, 'Pseudomonas_E frederiksbergensis_E': 1, 'Pseudomonas_E parafulva_A': 1, 'Pseudomonas_E parafulva_B': 1, 'Pseudomonas_E cremoricolorata_A': 1, 'Pseudomonas_E koreensis_C': 1, 'Pseudomonas_E koreensis_D': 1, 'Pseudomonas_E koreensis_B': 1, 'Pseudomonas_E trivialis_B': 1, 'Pseudomonas_E poae': 1, 'Pseudomonas_E rhizosphaerae': 1, 'Pseudomonas_E antarctica_A': 1, 'Pseudomonas_E alkylphenolica': 1, 'Pseudomonas_B psychrotolerans': 1, 'Pseudomonas_E entomophila': 1, 'Pseudomonas_E protegens': 1, 'Pseudomonas_E yamanorum': 1, 'Pseudomonas_E chlororaphis_E': 1, 'Pseudomonas_E chlororaphis': 1, 'Pseudomonas_E brassicacearum_A': 1, 'Pseudomonas_E sp000829415': 1, 'Pseudomonas_F furukawaii': 1, 'Pseudomonas_E sp000316175': 1, 'Pseudomonas_E sp001511755': 1, 'Pseudomonas sp000349845': 1, 'Pseudomonas_E sp001655595': 1, 'Pseudomonas_E versuta': 1, 'Pseudomonas_E silesiensis': 1, 'Pseudomonas_F sp001708505': 1, 'Pseudomonas_E toyotomiensis': 1, 'Pseudomonas_E sp002025205': 1, 'Pseudomonas_D sp002056295': 1, 'Pseudomonas_E sp002163625': 1, 'Pseudomonas_E lactis': 1, 'Pseudomonas_E sp002753995': 1, 'Pseudomonas_E sp002874965': 1, 'Pseudomonas_E proteolytica': 1, 'Pseudomonas_E sp003151075': 1, 'Pseudomonas_A sp003205815': 1})\u001b[0m\n",
      "\u001b[0;1;31;1m\n",
      "Most common species in Staphylococcus (from all samples): \u001b[0;1;30;1m\u001b[0;0;30;0m[('Staphylococcus aureus', 260), ('Staphylococcus epidermidis', 10), ('Staphylococcus lugdunensis', 10), ('Staphylococcus simulans', 7), ('Staphylococcus saprophyticus', 6), ('Staphylococcus haemolyticus', 5), ('Staphylococcus schleiferi', 5), ('Staphylococcus pseudintermedius', 5), ('Staphylococcus xylosus', 4), ('Staphylococcus equorum_B', 4)]\u001b[0m\n",
      "\u001b[0;1;31;1m\n",
      "Final set with 46 samples \u001b[0;1;30;1m(30 species) \u001b[0;0;30;0mCounter({'Staphylococcus xylosus': 3, 'Staphylococcus schleiferi': 3, 'Staphylococcus equorum_B': 3, 'Staphylococcus carnosus': 2, 'Staphylococcus haemolyticus': 2, 'Staphylococcus hyicus': 2, 'Staphylococcus warneri': 2, 'Staphylococcus muscae': 2, 'Staphylococcus_A sciuri': 2, 'Staphylococcus lugdunensis': 2, 'Staphylococcus condimenti': 2, 'Staphylococcus nepalensis': 2, 'Staphylococcus argenteus': 2, 'Staphylococcus aureus': 1, 'Staphylococcus epidermidis': 1, 'Staphylococcus hominis': 1, 'Staphylococcus auricularis': 1, 'Staphylococcus cohnii_A': 1, 'Staphylococcus kloosii': 1, 'Staphylococcus saprophyticus': 1, 'Staphylococcus pasteuri': 1, 'Staphylococcus felis': 1, 'Staphylococcus succinus': 1, 'Staphylococcus piscifermentans': 1, 'Staphylococcus lutrae': 1, 'Staphylococcus pettenkoferi': 1, 'Staphylococcus pseudintermedius': 1, 'Staphylococcus simiae': 1, 'Staphylococcus_A stepanovicii': 1, 'Staphylococcus agnetis': 1})\u001b[0m\n"
     ]
    }
   ],
   "source": [
    "tbl_fl_sp = {}\n",
    "for genus in bacteria_genera:\n",
    "    # remove all samples that don't belong to set of _arbitrarily_ chosen genera\n",
    "    tbl_tmp = [x  for x in list(table_filenames_species) if subsample_accept_genus (x[2], list_of_genera=[genus])] \n",
    "    species_counter = collections.Counter([x[2] for x in tbl_tmp if \"sp.\" not in x[2]]) ## remove generic \"sp.\"\n",
    "    print_redblack (\"\\nMost common species in \" + genus + \" (from all samples): \", \"\", species_counter.most_common(10))\n",
    "\n",
    "    tbl_fl_sp[genus] = [x  for x in table_filenames_species if subsample_accept_counter (x[2], species_counter)]\n",
    "    tmp_counter = collections.Counter([x[2] for x in tbl_fl_sp[genus]])\n",
    "    print_redblack(\"\\nFinal set with \" + str(len(tbl_fl_sp[genus])) + \" samples \", \"(\" + str(len(tmp_counter))+ \" species) \",tmp_counter)"
   ]
  },
  {
   "cell_type": "markdown",
   "metadata": {},
   "source": [
    "### main functions\n",
    "* find all operons, align sequences"
   ]
  },
  {
   "cell_type": "code",
   "execution_count": 8,
   "metadata": {},
   "outputs": [],
   "source": [
    "def align_seqs (sequences=None, maxiters=12, infile=None, outfile=None, mafft = True):\n",
    "    print (\"started aligning...\", flush=True, end=\" \")\n",
    "    if (sequences is None) and (infile is None):\n",
    "        print (\"ERROR: You must give me an alignment object or file\")\n",
    "        return [] ## OTOH if both are present then infile is overwritten with contents of sequences[]\n",
    "    if infile is None:\n",
    "        ifl = \"/tmp/in.fas\"\n",
    "    else:\n",
    "        ifl = infile\n",
    "    if outfile is None:\n",
    "        ofl = \"/tmp/out.fas\"\n",
    "    else:\n",
    "        ofl = outfile\n",
    "    SeqIO.write(sequences, ifl, \"fasta\")\n",
    "    if (mafft is False):\n",
    "        proc_run = subprocess.check_output(\"muscle -in \" + ifl + \" -diags -maxiters \" + str(maxiters) + \" -out \" + ofl,\n",
    "                                       shell=True, universal_newlines=True)\n",
    "    else: # \"--parttree --6merpair\" and 0.123 is to avoid very long alignments\n",
    "        proc_run = subprocess.check_output(\"mafft --ep 0.3 --op 3.0 --auto \" + ifl + \" > \" + ofl,\n",
    "                                       shell=True, universal_newlines=True)\n",
    "      \n",
    "    aligned = AlignIO.read(ofl, \"fasta\")\n",
    "    print (\"Finished\",flush=True)\n",
    "    if infile is None:\n",
    "        os.system(\"rm -f \" + ifl)\n",
    "    if outfile is None:\n",
    "        os.system(\"rm -f \" + ofl)\n",
    "    return aligned\n",
    "\n",
    "def return_contig_locations (featurelist): # featurelist has list of [ [location1, location2], rnaname, strand ]\n",
    "    featurelist = sorted(featurelist, key = lambda x: int(x[0][0]))\n",
    "    rnablocks = []\n",
    "    rnabnames = []\n",
    "    rnasignal = []\n",
    "    tmp_loc = list(featurelist[0][0]) # start and end locations\n",
    "    tmp_nam = [featurelist[0][1]]    # gene name\n",
    "    tmp_sig = [featurelist[0][2]]\n",
    "    for feature in featurelist[1:]:\n",
    "        if (abs(tmp_loc[-1] - feature[0][0]) < 1000):\n",
    "            tmp_loc.extend(list(feature[0]))\n",
    "            tmp_nam.extend([feature[1]])\n",
    "            tmp_sig.extend([feature[2]])\n",
    "        else:\n",
    "            rnablocks.append(tmp_loc)\n",
    "            rnabnames.append(tmp_nam)\n",
    "            rnasignal.append(tmp_sig)\n",
    "            tmp_loc = list(feature[0])\n",
    "            tmp_nam = [feature[1]]\n",
    "            tmp_sig = [feature[2]]\n",
    "    rnablocks.append(tmp_loc)\n",
    "    rnabnames.append(tmp_nam)\n",
    "    rnasignal.append(tmp_sig)\n",
    "    return rnablocks, rnabnames, rnasignal\n",
    "    \n",
    "def get_rrna_from_genbank_to_list_and_dict (table_fs):\n",
    "    gbank = SeqIO.parse(gzip.open(table_fs[0], \"rt\"), \"genbank\")\n",
    "    list_of_features = []\n",
    "    list_of_seqs = []\n",
    "    genome = next(gbank) # no point in iterating over gbank, only this has whole information\n",
    "    for feature in genome.features:\n",
    "        if(feature.type == \"rRNA\"):\n",
    "            for rna in rrna_types:\n",
    "                if rna in feature.qualifiers['product'][0]:\n",
    "                    this_product = rna\n",
    "                    break\n",
    "            this_location = [int(i) for i in re.findall('\\d+',str(feature.location))]\n",
    "            this_strand = feature.strand\n",
    "            if 0 not in this_location:\n",
    "                list_of_features.append([this_location[:2], this_product, this_strand])\n",
    "    # now list_of_features is complete  for this genome record (gbank[0])\n",
    "    if not list_of_features:\n",
    "        print (\"no info from \", table_fs[0])\n",
    "        return None # some genomes have no relevant annotation\n",
    "    location, gnames, strand = return_contig_locations (list_of_features)\n",
    "    genome_len = len(genome.seq)\n",
    "    for i, (l,g,s) in enumerate(zip(location, gnames, strand)):\n",
    "        i_start = min(l); i_end = max(l)\n",
    "        if sum(s) < 0: ## hopefully they all have same signal\n",
    "            contig = genome.seq[i_start:i_end].reverse_complement()\n",
    "            seqgenes = \"s\" + \"\".join(g[::-1])\n",
    "        else:\n",
    "            contig = genome.seq[i_start:i_end]\n",
    "            seqgenes = \"s\" + \"\".join(g)\n",
    "        numbercode = '.{:02d}'.format(i) ## unlike pilot, here dot is the field delimiter\n",
    "        \n",
    "        # table_fs[2] = GTDB, 3=lsuSILVA, 5=NCBI, 6=ssuSILVA\n",
    "        seqname  = species_name_from_binomial (table_fs[2], table_fs[1]) # table_fs[1] = accession number \n",
    "        seqname += numbercode\n",
    "        if (len(contig) > 3000) and (len(contig) < 8500): # some contigs have only 5S or only this 5S annotated\n",
    "            if \"16S23S5S\" in seqgenes: # only full operon, in proper order (to avoid e.g. 16S16S...)\n",
    "                list_of_seqs.append(SeqRecord(contig, id = seqname, description = seqname))\n",
    "    return list_of_seqs"
   ]
  },
  {
   "cell_type": "markdown",
   "metadata": {},
   "source": [
    "### sample genomes and create unaligned list\n",
    "- also saves variables (internediate results) to `xxx_fl_sp.pickle.gz` where xxx is the genus name ;) "
   ]
  },
  {
   "cell_type": "code",
   "execution_count": 9,
   "metadata": {
    "scrolled": false
   },
   "outputs": [
    {
     "name": "stdout",
     "output_type": "stream",
     "text": [
      "20 40 60 80 100 120 140 \u001b[0;1;31;1mPseudomonas\u001b[0;1;30;1m\u001b[0;0;30;0m\u001b[0m\n",
      "first sequence of operon alignment:\n",
      " ID: Pseudomonas.aeruginosa_A.003025345.00\n",
      "Name: <unknown name>\n",
      "Description: Pseudomonas.aeruginosa_A.003025345.00\n",
      "Number of features: 0\n",
      "Seq('GAACTGAAGAGTTTGATCATGGCTCAGATTGAACGCTGGCGGCAGGCCTAACAC...AGC', IUPACAmbiguousDNA())\n",
      "percentiles: 5215.84779706275 126.62942079984022 749  |  4957 4994.799999999999 5441.0 7127\n",
      "20 40 \u001b[0;1;31;1mStaphylococcus\u001b[0;1;30;1m\u001b[0;0;30;0m\u001b[0m\n",
      "first sequence of operon alignment:\n",
      " ID: Staphylococcus.aureus.001018685.00\n",
      "Name: <unknown name>\n",
      "Description: Staphylococcus.aureus.001018685.00\n",
      "Number of features: 0\n",
      "Seq('TTTATGGAGAGTTTGATCCTGGCTCAGGATGAACGCTGGCGGCGTGCCTAATAC...GGC', IUPACAmbiguousDNA())\n",
      "percentiles: 5119.324468085107 289.88500294638857 188  |  4887 4906.35 5993.9 6211\n"
     ]
    }
   ],
   "source": [
    "good_fl_sp = {}\n",
    "rna_operon = {}  # includes all paralogs\n",
    "for genus in bacteria_genera:\n",
    "    good_fl_sp[genus] = []\n",
    "    rna_operon[genus] = []\n",
    "    for file_counter, tfs in enumerate(tbl_fl_sp[genus]):\n",
    "        if (len(good_fl_sp[genus]) == 200):\n",
    "            break\n",
    "        if not (file_counter+1)%20:\n",
    "            print (str(file_counter+1), end=\" \", flush=True)\n",
    "        rna_list = get_rrna_from_genbank_to_list_and_dict (tfs)\n",
    "        # (some list will have no usable features or b/c too long/too short; some dict has no usable features\n",
    "        if rna_list:\n",
    "            x = [len(i.seq) for i in rna_list]\n",
    "            good_fl_sp[genus].append(tfs + [len(rna_list), np.mean(x), np.min(x), np.max(x)])\n",
    "            rna_operon[genus].extend(rna_list)\n",
    "    outfile = outdir + genus\n",
    "    # save table\n",
    "    fl = gzip.open(outfile + \"_fl_sp.pickle.gz\", \"w\"); pickle.dump([good_fl_sp[genus]],fl,2); fl.close()\n",
    "    print_redblack(genus)\n",
    "    print (\"first sequence of operon alignment:\\n\", rna_operon[genus][0])\n",
    "    x = [len(i.seq) for i in rna_operon[genus]]\n",
    "    print (\"percentiles:\", np.mean(x), np.std(x), len(x), \" | \", \n",
    "           np.min(x), np.percentile(x, 5), np.percentile(x, 95), np.max(x))"
   ]
  },
  {
   "cell_type": "markdown",
   "metadata": {},
   "source": [
    "### create spreadsheet for supplementary table"
   ]
  },
  {
   "cell_type": "code",
   "execution_count": 10,
   "metadata": {},
   "outputs": [],
   "source": [
    "def create_dataframe_from_table_filename_species (table_fs):\n",
    "    dfd = {\"Organism (NCBI)\":[], \"Accession Number\":[],\"File Name\":[], \"Species (GTDB)\":[], \"Number of Operons\":[], \n",
    "          \"Average Operon Size\":[], \"Min Operon Size\":[], \"Max Operon Size\":[]}\n",
    "    for elem in table_fs: # 7,8,9,10 are length, mean, min, max\n",
    "        dfd[\"Accession Number\"].append(elem[1])\n",
    "        dfd[\"Organism (NCBI)\"].append(elem[4])  ## species=[5], but organism=[4] \n",
    "        dfd[\"File Name\"].append(elem[0].split(\"/\")[-1])\n",
    "        dfd[\"Species (GTDB)\"].append(\" \".join(elem[2].split(\"_\")))\n",
    "        dfd[\"Number of Operons\"].append(elem[7])\n",
    "        dfd[\"Average Operon Size\"].append(elem[8])\n",
    "        dfd[\"Min Operon Size\"].append(elem[9])\n",
    "        dfd[\"Max Operon Size\"].append(elem[10])\n",
    "    return pandas.DataFrame(data=dfd)\n",
    "\n",
    "for genus in bacteria_genera:\n",
    "    df = create_dataframe_from_table_filename_species (good_fl_sp[genus])\n",
    "    df.to_csv(outdir + genus + \".csv\")"
   ]
  },
  {
   "cell_type": "code",
   "execution_count": 11,
   "metadata": {},
   "outputs": [
    {
     "name": "stdout",
     "output_type": "stream",
     "text": [
      "started aligning... Finished\n",
      "started aligning... Finished\n"
     ]
    }
   ],
   "source": [
    "# align each of the dictionary values (lists of unaligned seqs)\n",
    "operon_aligned = {}\n",
    "for genus in bacteria_genera:\n",
    "    operon_aligned[genus] = align_seqs(sequences=rna_operon[genus], outfile=outdir + genus + \".fasta\")"
   ]
  },
  {
   "cell_type": "code",
   "execution_count": 12,
   "metadata": {},
   "outputs": [],
   "source": [
    "def create_species_genus_labels (seqlist, have_paralogs = False): \n",
    "    species = ['_'.join(sequence.id.split('.')[:2]) for sequence in seqlist]\n",
    "    genus = [sequence.id.split('.')[0] for sequence in seqlist]\n",
    "    if have_paralogs:# assumes 'genus_species_code_number' names \n",
    "        sample = ['_'.join(sequence.id.split('.')[:3]) for sequence in seqlist]\n",
    "        return species, genus, sample\n",
    "    return species, genus "
   ]
  },
  {
   "cell_type": "markdown",
   "metadata": {},
   "source": [
    "### if resuming from previous analysis, run code below to read genome names table and alignments"
   ]
  },
  {
   "cell_type": "code",
   "execution_count": null,
   "metadata": {},
   "outputs": [],
   "source": [
    "# read table\n",
    "for genus in bacteria_genera:\n",
    "    fl=gzip.open(outdir + genus + \"_fl_sp.pickle.gz\", \"r\"); good_fl_sp[genus] = pickle.load(fl); fl.close()\n",
    "    operon_aligned = AlignIO.read(outdir + genus + \".fasta\", \"fasta\")"
   ]
  },
  {
   "cell_type": "markdown",
   "metadata": {},
   "source": [
    "### estimates trees with UPGMA (muscle) and Likelihood (iqtree)"
   ]
  },
  {
   "cell_type": "code",
   "execution_count": 13,
   "metadata": {},
   "outputs": [],
   "source": [
    "for genus in bacteria_genera:\n",
    "    fname = outdir + genus\n",
    "    outcheck = subprocess.check_output(\"muscle -maketree -in \" + fname + \".fasta -out \" + fname + \"_upgma.treefile\", \n",
    "                                      shell = True, universal_newlines = True)\n",
    "for genus in bacteria_genera:\n",
    "    fname = outdir + genus\n",
    "    outcheck = subprocess.check_output(\"iqtree -redo -s \" + fname + \".fasta -nt 8 -m HKY+G\",\n",
    "                                       shell = True, universal_newlines = True)"
   ]
  },
  {
   "cell_type": "markdown",
   "metadata": {},
   "source": [
    "### calculates leaf-to-leaf distances from estimated trees"
   ]
  },
  {
   "cell_type": "code",
   "execution_count": null,
   "metadata": {},
   "outputs": [],
   "source": [
    "def patristic_distances_from_treefile (filename, have_paralogs = False, shuffle = False):\n",
    "    tree = dendropy.Tree.get(path=filename, schema=\"newick\", preserve_underscores=True)\n",
    "    if shuffle:\n",
    "        tree = dendropy.simulate.treesim.pure_kingman_tree(taxon_namespace=tree.taxon_namespace, pop_size = 1000)\n",
    "    species = ['_'.join(t.label.split('_')[:2]) for t in tree.taxon_namespace] ## follow order of taxon_namespace\n",
    "    genus = [t.label.split('_')[0] for t in tree.taxon_namespace]\n",
    "    ntaxa = len(tree.taxon_namespace)\n",
    "    distmat = np.zeros((ntaxa,ntaxa)) # diagonals are zero\n",
    "    nodemat = np.zeros((ntaxa,ntaxa))\n",
    "    pdm = tree.phylogenetic_distance_matrix() # initialises class\n",
    "    for i,j in itertools.combinations(range(ntaxa),2):\n",
    "        distmat[i,j] = distmat[j,i] = pdm.distance(tree.taxon_namespace[i], tree.taxon_namespace[j])\n",
    "        nodemat[i,j] = nodemat[j,i] = pdm.path_edge_count(tree.taxon_namespace[i], tree.taxon_namespace[j])\n",
    "    if have_paralogs:\n",
    "        sample = ['_'.join(t.label.split('_')[:3]) for t in tree.taxon_namespace]\n",
    "        return species, genus, distmat, nodemat, sample\n",
    "    return species, genus, distmat, nodemat"
   ]
  },
  {
   "cell_type": "code",
   "execution_count": null,
   "metadata": {},
   "outputs": [],
   "source": [
    "def silhouette_str(dist, labels):\n",
    "    distrib = metrics.silhouette_samples(dist, labels, metric=\"precomputed\")\n",
    "    return '{:7.3f}'.format(np.percentile(distrib, 5)) + \\\n",
    "    '{:7.3f}'.format(np.percentile(distrib, 25)) + \\\n",
    "    '{:7.3f}  '.format(sum(distrib>0)/float(len(distrib))) "
   ]
  },
  {
   "cell_type": "markdown",
   "metadata": {},
   "source": [
    "Each triplet from `silhouette_str()` has $5\\%$, $25\\%$ and proportion of positive silhouettes. And we have two triplets on the left for _species_ (S), and two on the right for _strain_ (T), one being from weighted (W) and one from unweighted (U) patristic distances. Therefore the header is: SW SU TW TU\n",
    "\n",
    "By the way having low silhouettte scores is not necessarily bad, since\n",
    "1. clusters of size one will have score of _zero_ **by definition** (should be _one_ given the silhouette function but this would lead to ever-increasing clusterings)\n",
    "2. clusters with within-distance zero are perfect, while for phylogenies we want non-zero diversification\n",
    "3. they can be negative if for a case like `((A:a,A:a,A:a),B:b)` with $a>b$ since $d(A,A)=2a > a+b = d(A,B)$ --- however the taxonomic classification is fine for A and B"
   ]
  },
  {
   "cell_type": "code",
   "execution_count": null,
   "metadata": {},
   "outputs": [],
   "source": [
    "for genus in bacteria_genera:\n",
    "    fname = outdir + genus\n",
    "    print_redblack(genus)\n",
    "    sp, ge, mat, mat2, strain = patristic_distances_from_treefile (fname + \".fasta.treefile\", have_paralogs = True, shuffle = True)\n",
    "    print (\"random \\t\", silhouette_str(mat, sp),  silhouette_str(mat2, sp), \" | \", \n",
    "          silhouette_str(mat, strain),  silhouette_str(mat2, strain))\n",
    "    for suffix1, title1 in zip([\"_upgma.treefile\",\".fasta.treefile\"], [\"upgma \", \"ML    \"]):\n",
    "        ## operon doenst have _long or _consensus\n",
    "        sp, ge, mat, mat2, strain = patristic_distances_from_treefile (fname + suffix1, have_paralogs = True)\n",
    "        print (title1, \"\\t\", silhouette_str(mat, sp),  silhouette_str(mat2, sp), \" | \", \n",
    "          silhouette_str(mat, strain),  silhouette_str(mat2, strain))"
   ]
  }
 ],
 "metadata": {
  "kernelspec": {
   "display_name": "Python 3",
   "language": "python",
   "name": "python3"
  },
  "language_info": {
   "codemirror_mode": {
    "name": "ipython",
    "version": 3
   },
   "file_extension": ".py",
   "mimetype": "text/x-python",
   "name": "python",
   "nbconvert_exporter": "python",
   "pygments_lexer": "ipython3",
   "version": "3.7.3"
  }
 },
 "nbformat": 4,
 "nbformat_minor": 2
}
