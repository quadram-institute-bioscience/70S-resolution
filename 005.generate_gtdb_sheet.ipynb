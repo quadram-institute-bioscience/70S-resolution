{
 "cells": [
  {
   "cell_type": "markdown",
   "metadata": {},
   "source": [
    "# Using taxonomic information from GTDB\n",
    "\n",
    "Since we have the accession numbers from NCBI, it is straightforward to map them to the taxonomy inferred from [GTDB](https://gtdb.ecogenomic.org/). We downloaded the [bac120_metadata_r89.tsv](https://data.ace.uq.edu.au/public/gtdb/data/releases/release89/89.0/bac120_metadata_r89.tsv) file (200MB) and then we can work with the 'original' taxonomies (from NCBI), or with the inferred taxonomies from GTDB or SILVA. \n",
    "We do not distribute this table (neither the smaller one we created by hand with relevant columns only), but once you download it you can reproduce this notebook in a few seconds. \n",
    "\n",
    "The main output of this notebook is at the end, when we create a list with downloaded refseq sequences (identified by a `GCF` accession number) which also belong to the GTDB data set (meaning that they passed the quality controls).\n",
    "\n",
    "### read csv file with information from our pilot sequences\n",
    "* this step is not necessary, but we want to compare the inferred taxonomy \n",
    "* by 'pilot' sequences we mean from [first version of study](https://www.biorxiv.org/content/10.1101/626093v1)"
   ]
  },
  {
   "cell_type": "code",
   "execution_count": 2,
   "metadata": {},
   "outputs": [
    {
     "data": {
      "text/html": [
       "<table>\n",
       "<caption>A data.frame: 6 × 14</caption>\n",
       "<thead>\n",
       "\t<tr><th scope=col>X</th><th scope=col>Accession.Number</th><th scope=col>Consensus.16S</th><th scope=col>Consensus.23S</th><th scope=col>Consensus.5S</th><th scope=col>Copies.16S</th><th scope=col>Copies.23S</th><th scope=col>Copies.5S</th><th scope=col>File.Name</th><th scope=col>Longest.16S</th><th scope=col>Longest.23S</th><th scope=col>Longest.5S</th><th scope=col>Organism</th><th scope=col>Species</th></tr>\n",
       "\t<tr><th scope=col>&lt;chr&gt;</th><th scope=col>&lt;chr&gt;</th><th scope=col>&lt;chr&gt;</th><th scope=col>&lt;chr&gt;</th><th scope=col>&lt;chr&gt;</th><th scope=col>&lt;chr&gt;</th><th scope=col>&lt;chr&gt;</th><th scope=col>&lt;chr&gt;</th><th scope=col>&lt;chr&gt;</th><th scope=col>&lt;chr&gt;</th><th scope=col>&lt;chr&gt;</th><th scope=col>&lt;chr&gt;</th><th scope=col>&lt;chr&gt;</th><th scope=col>&lt;chr&gt;</th></tr>\n",
       "</thead>\n",
       "<tbody>\n",
       "\t<tr><td>0</td><td>GCF_002736045.1</td><td>1547</td><td>2917</td><td>116</td><td>7</td><td>7</td><td>8</td><td>GCF_002736045.1_ASM273604v1_genomic.gbff.gz</td><td>1547</td><td>2916</td><td>116</td><td>Pseudomonas putida                                </td><td>Pseudomonas putida    </td></tr>\n",
       "\t<tr><td>1</td><td>GCF_003589865.1</td><td>1554</td><td>3109</td><td>116</td><td>7</td><td>7</td><td>8</td><td>GCF_003589865.1_ASM358986v1_genomic.gbff.gz</td><td>1552</td><td>2929</td><td>116</td><td>Salmonella enterica subsp. enterica serovar Dublin</td><td>Salmonella enterica   </td></tr>\n",
       "\t<tr><td>2</td><td>GCF_003180975.1</td><td>1554</td><td>2933</td><td>116</td><td>7</td><td>7</td><td>8</td><td>GCF_003180975.1_ASM318097v1_genomic.gbff.gz</td><td>1554</td><td>2930</td><td>116</td><td>Escherichia coli                                  </td><td>Escherichia coli      </td></tr>\n",
       "\t<tr><td>3</td><td>GCF_001516165.2</td><td>1544</td><td>2912</td><td>116</td><td>4</td><td>4</td><td>4</td><td>GCF_001516165.2_ASM151616v2_genomic.gbff.gz</td><td>1544</td><td>2911</td><td>116</td><td>Pseudomonas aeruginosa                            </td><td>Pseudomonas aeruginosa</td></tr>\n",
       "\t<tr><td>4</td><td>GCF_001697305.1</td><td>1551</td><td>2898</td><td>114</td><td>4</td><td>4</td><td>4</td><td>GCF_001697305.1_ASM169730v1_genomic.gbff.gz</td><td>1551</td><td>2898</td><td>114</td><td>Neisseria meningitidis                            </td><td>Neisseria meningitidis</td></tr>\n",
       "\t<tr><td>5</td><td>GCF_001661115.1</td><td>1551</td><td>2898</td><td>114</td><td>4</td><td>4</td><td>4</td><td>GCF_001661115.1_ASM166111v1_genomic.gbff.gz</td><td>1551</td><td>2898</td><td>114</td><td>Neisseria gonorrhoeae                             </td><td>Neisseria gonorrhoeae </td></tr>\n",
       "</tbody>\n",
       "</table>\n"
      ],
      "text/latex": [
       "A data.frame: 6 × 14\n",
       "\\begin{tabular}{r|llllllllllllll}\n",
       " X & Accession.Number & Consensus.16S & Consensus.23S & Consensus.5S & Copies.16S & Copies.23S & Copies.5S & File.Name & Longest.16S & Longest.23S & Longest.5S & Organism & Species\\\\\n",
       " <chr> & <chr> & <chr> & <chr> & <chr> & <chr> & <chr> & <chr> & <chr> & <chr> & <chr> & <chr> & <chr> & <chr>\\\\\n",
       "\\hline\n",
       "\t 0 & GCF\\_002736045.1 & 1547 & 2917 & 116 & 7 & 7 & 8 & GCF\\_002736045.1\\_ASM273604v1\\_genomic.gbff.gz & 1547 & 2916 & 116 & Pseudomonas putida                                 & Pseudomonas putida    \\\\\n",
       "\t 1 & GCF\\_003589865.1 & 1554 & 3109 & 116 & 7 & 7 & 8 & GCF\\_003589865.1\\_ASM358986v1\\_genomic.gbff.gz & 1552 & 2929 & 116 & Salmonella enterica subsp. enterica serovar Dublin & Salmonella enterica   \\\\\n",
       "\t 2 & GCF\\_003180975.1 & 1554 & 2933 & 116 & 7 & 7 & 8 & GCF\\_003180975.1\\_ASM318097v1\\_genomic.gbff.gz & 1554 & 2930 & 116 & Escherichia coli                                   & Escherichia coli      \\\\\n",
       "\t 3 & GCF\\_001516165.2 & 1544 & 2912 & 116 & 4 & 4 & 4 & GCF\\_001516165.2\\_ASM151616v2\\_genomic.gbff.gz & 1544 & 2911 & 116 & Pseudomonas aeruginosa                             & Pseudomonas aeruginosa\\\\\n",
       "\t 4 & GCF\\_001697305.1 & 1551 & 2898 & 114 & 4 & 4 & 4 & GCF\\_001697305.1\\_ASM169730v1\\_genomic.gbff.gz & 1551 & 2898 & 114 & Neisseria meningitidis                             & Neisseria meningitidis\\\\\n",
       "\t 5 & GCF\\_001661115.1 & 1551 & 2898 & 114 & 4 & 4 & 4 & GCF\\_001661115.1\\_ASM166111v1\\_genomic.gbff.gz & 1551 & 2898 & 114 & Neisseria gonorrhoeae                              & Neisseria gonorrhoeae \\\\\n",
       "\\end{tabular}\n"
      ],
      "text/markdown": [
       "\n",
       "A data.frame: 6 × 14\n",
       "\n",
       "| X &lt;chr&gt; | Accession.Number &lt;chr&gt; | Consensus.16S &lt;chr&gt; | Consensus.23S &lt;chr&gt; | Consensus.5S &lt;chr&gt; | Copies.16S &lt;chr&gt; | Copies.23S &lt;chr&gt; | Copies.5S &lt;chr&gt; | File.Name &lt;chr&gt; | Longest.16S &lt;chr&gt; | Longest.23S &lt;chr&gt; | Longest.5S &lt;chr&gt; | Organism &lt;chr&gt; | Species &lt;chr&gt; |\n",
       "|---|---|---|---|---|---|---|---|---|---|---|---|---|---|\n",
       "| 0 | GCF_002736045.1 | 1547 | 2917 | 116 | 7 | 7 | 8 | GCF_002736045.1_ASM273604v1_genomic.gbff.gz | 1547 | 2916 | 116 | Pseudomonas putida                                 | Pseudomonas putida     |\n",
       "| 1 | GCF_003589865.1 | 1554 | 3109 | 116 | 7 | 7 | 8 | GCF_003589865.1_ASM358986v1_genomic.gbff.gz | 1552 | 2929 | 116 | Salmonella enterica subsp. enterica serovar Dublin | Salmonella enterica    |\n",
       "| 2 | GCF_003180975.1 | 1554 | 2933 | 116 | 7 | 7 | 8 | GCF_003180975.1_ASM318097v1_genomic.gbff.gz | 1554 | 2930 | 116 | Escherichia coli                                   | Escherichia coli       |\n",
       "| 3 | GCF_001516165.2 | 1544 | 2912 | 116 | 4 | 4 | 4 | GCF_001516165.2_ASM151616v2_genomic.gbff.gz | 1544 | 2911 | 116 | Pseudomonas aeruginosa                             | Pseudomonas aeruginosa |\n",
       "| 4 | GCF_001697305.1 | 1551 | 2898 | 114 | 4 | 4 | 4 | GCF_001697305.1_ASM169730v1_genomic.gbff.gz | 1551 | 2898 | 114 | Neisseria meningitidis                             | Neisseria meningitidis |\n",
       "| 5 | GCF_001661115.1 | 1551 | 2898 | 114 | 4 | 4 | 4 | GCF_001661115.1_ASM166111v1_genomic.gbff.gz | 1551 | 2898 | 114 | Neisseria gonorrhoeae                              | Neisseria gonorrhoeae  |\n",
       "\n"
      ],
      "text/plain": [
       "  X Accession.Number Consensus.16S Consensus.23S Consensus.5S Copies.16S\n",
       "1 0 GCF_002736045.1  1547          2917          116          7         \n",
       "2 1 GCF_003589865.1  1554          3109          116          7         \n",
       "3 2 GCF_003180975.1  1554          2933          116          7         \n",
       "4 3 GCF_001516165.2  1544          2912          116          4         \n",
       "5 4 GCF_001697305.1  1551          2898          114          4         \n",
       "6 5 GCF_001661115.1  1551          2898          114          4         \n",
       "  Copies.23S Copies.5S File.Name                                   Longest.16S\n",
       "1 7          8         GCF_002736045.1_ASM273604v1_genomic.gbff.gz 1547       \n",
       "2 7          8         GCF_003589865.1_ASM358986v1_genomic.gbff.gz 1552       \n",
       "3 7          8         GCF_003180975.1_ASM318097v1_genomic.gbff.gz 1554       \n",
       "4 4          4         GCF_001516165.2_ASM151616v2_genomic.gbff.gz 1544       \n",
       "5 4          4         GCF_001697305.1_ASM169730v1_genomic.gbff.gz 1551       \n",
       "6 4          4         GCF_001661115.1_ASM166111v1_genomic.gbff.gz 1551       \n",
       "  Longest.23S Longest.5S Organism                                          \n",
       "1 2916        116        Pseudomonas putida                                \n",
       "2 2929        116        Salmonella enterica subsp. enterica serovar Dublin\n",
       "3 2930        116        Escherichia coli                                  \n",
       "4 2911        116        Pseudomonas aeruginosa                            \n",
       "5 2898        114        Neisseria meningitidis                            \n",
       "6 2898        114        Neisseria gonorrhoeae                             \n",
       "  Species               \n",
       "1 Pseudomonas putida    \n",
       "2 Salmonella enterica   \n",
       "3 Escherichia coli      \n",
       "4 Pseudomonas aeruginosa\n",
       "5 Neisseria meningitidis\n",
       "6 Neisseria gonorrhoeae "
      ]
     },
     "metadata": {},
     "output_type": "display_data"
    }
   ],
   "source": [
    "# read csv with our samples, just for comparison\n",
    "#a1<-read.csv(\"pilot/016_results/all.csv\",colClasses=\"character\")\n",
    "a1<-read.csv(\"../notebooks/016_results/all.csv\",colClasses=\"character\")\n",
    "head(a1)"
   ]
  },
  {
   "cell_type": "markdown",
   "metadata": {},
   "source": [
    "### Read taxonomy inference from GTDB\n",
    "* The file `bac120_metadata_r89_taxonomy_only.tsv` has only the relevant columns from the downloaded one (we deleted other columns, most with statistics, to save space), and it is not distributed with this repository.\n",
    "* However it should also work with the original spreadsheet (provided the column names don't change)\n",
    "* If you want to replicate this part of the analysis, don't forget to [download the original spreadsheet](https://data.ace.uq.edu.au/public/gtdb/data/releases/release89/89.0/bac120_metadata_r89.tsv) yourself, it is not part of this repository."
   ]
  },
  {
   "cell_type": "code",
   "execution_count": 11,
   "metadata": {},
   "outputs": [
    {
     "data": {
      "text/html": [
       "<table>\n",
       "<caption>A data.frame: 6 × 9</caption>\n",
       "<thead>\n",
       "\t<tr><th scope=col>accession</th><th scope=col>gtdb_taxonomy</th><th scope=col>lsu_silva_23s_taxonomy</th><th scope=col>ncbi_genbank_assembly_accession</th><th scope=col>ncbi_organism_name</th><th scope=col>ncbi_taxonomy</th><th scope=col>ncbi_taxonomy_unfiltered</th><th scope=col>ssu_gg_taxonomy</th><th scope=col>ssu_silva_taxonomy</th></tr>\n",
       "\t<tr><th scope=col>&lt;chr&gt;</th><th scope=col>&lt;chr&gt;</th><th scope=col>&lt;chr&gt;</th><th scope=col>&lt;chr&gt;</th><th scope=col>&lt;chr&gt;</th><th scope=col>&lt;chr&gt;</th><th scope=col>&lt;chr&gt;</th><th scope=col>&lt;chr&gt;</th><th scope=col>&lt;chr&gt;</th></tr>\n",
       "</thead>\n",
       "<tbody>\n",
       "\t<tr><td>RS_GCF_001999625.1</td><td>d__Bacteria;p__Firmicutes;c__Bacilli;o__Lactobacillales;f__Enterococcaceae;g__Enterococcus;s__Enterococcus faecalis                    </td><td>Bacteria;Firmicutes;Bacilli;Lactobacillales;Enterococcaceae;Enterococcus;Enterococcus faecalis ATCC 29212                          </td><td>GCA_001999625.1</td><td>Enterococcus faecalis ATCC 29212      </td><td>d__Bacteria;p__Firmicutes;c__Bacilli;o__Lactobacillales;f__Enterococcaceae;g__Enterococcus;s__Enterococcus faecalis                    </td><td>d__Bacteria;x__Terrabacteria group;p__Firmicutes;c__Bacilli;o__Lactobacillales;f__Enterococcaceae;g__Enterococcus;s__Enterococcus faecalis;x__Enterococcus faecalis ATCC 29212                                                                </td><td>k__Bacteria;p__Firmicutes;c__Bacilli;o__Lactobacillales;f__Enterococcaceae;g__Enterococcus;s__                            </td><td>Bacteria;Firmicutes;Bacilli;Lactobacillales;Enterococcaceae;Enterococcus;Enterococcus faecalis                                               </td></tr>\n",
       "\t<tr><td>RS_GCF_001658645.1</td><td>d__Bacteria;p__Firmicutes;c__Bacilli;o__Staphylococcales;f__Staphylococcaceae;g__Staphylococcus;s__Staphylococcus epidermidis          </td><td>Bacteria;Firmicutes;Bacilli;Bacillales;Stapyhlococcaceae;Staphylococcus;Staphylococcus epidermidis                                 </td><td>GCA_001658645.1</td><td>Staphylococcus epidermidis            </td><td>d__Bacteria;p__Firmicutes;c__Bacilli;o__Bacillales;f__Staphylococcaceae;g__Staphylococcus;s__Staphylococcus epidermidis                </td><td>d__Bacteria;x__Terrabacteria group;p__Firmicutes;c__Bacilli;o__Bacillales;f__Staphylococcaceae;g__Staphylococcus;s__Staphylococcus epidermidis                                                                                                </td><td>k__Bacteria;p__Firmicutes;c__Bacilli;o__Bacillales;f__Staphylococcaceae;g__Staphylococcus;s__epidermidis                  </td><td>Bacteria;Firmicutes;Bacilli;Bacillales;Staphylococcaceae;Staphylococcus;Staphylococcus epidermidis NIHLM088                                  </td></tr>\n",
       "\t<tr><td>RS_GCF_900117665.1</td><td>d__Bacteria;p__Proteobacteria;c__Gammaproteobacteria;o__Pseudomonadales;f__Moraxellaceae;g__Acinetobacter;s__Acinetobacter baumannii   </td><td>Bacteria;Proteobacteria;Gammaproteobacteria;Pseudomonadales;Moraxellaceae;Acinetobacter;Acinetobacter baumannii                    </td><td>GCA_900117665.1</td><td>Acinetobacter baumannii               </td><td>d__Bacteria;p__Proteobacteria;c__Gammaproteobacteria;o__Pseudomonadales;f__Moraxellaceae;g__Acinetobacter;s__Acinetobacter baumannii   </td><td>d__Bacteria;p__Proteobacteria;c__Gammaproteobacteria;o__Pseudomonadales;f__Moraxellaceae;g__Acinetobacter;x__Acinetobacter calcoaceticus/baumannii complex;s__Acinetobacter baumannii                                                         </td><td>k__Bacteria;p__Proteobacteria;c__Gammaproteobacteria;o__Pseudomonadales;f__Moraxellaceae;g__Acinetobacter;s__             </td><td>Bacteria;Proteobacteria;Gammaproteobacteria;Pseudomonadales;Moraxellaceae;Acinetobacter;Acinetobacter baumannii                              </td></tr>\n",
       "\t<tr><td>RS_GCF_000652055.1</td><td>d__Bacteria;p__Actinobacteriota;c__Actinobacteria;o__Mycobacteriales;f__Mycobacteriaceae;g__Mycobacterium;s__Mycobacterium tuberculosis</td><td>Bacteria;Actinobacteria;Actinobacteria;Corynebacteriales;Mycobacteriaceae;Mycobacterium;Mycobacterium tuberculosis                 </td><td>GCA_000652055.1</td><td>Mycobacterium tuberculosis TKK_03_0108</td><td>d__Bacteria;p__Actinobacteria;c__Actinobacteria;o__Corynebacteriales;f__Mycobacteriaceae;g__Mycobacterium;s__Mycobacterium tuberculosis</td><td>d__Bacteria;x__Terrabacteria group;p__Actinobacteria;c__Actinobacteria;o__Corynebacteriales;f__Mycobacteriaceae;g__Mycobacterium;x__Mycobacterium tuberculosis complex;s__Mycobacterium tuberculosis;x__Mycobacterium tuberculosis TKK_03_0108</td><td>k__Bacteria;p__Actinobacteria;c__Actinobacteria;o__Actinomycetales;f__Mycobacteriaceae;g__Mycobacterium;s__               </td><td>Bacteria;Actinobacteria;Actinobacteria;Corynebacteriales;Mycobacteriaceae;Mycobacterium;Mycobacterium bovis                                  </td></tr>\n",
       "\t<tr><td>RS_GCF_003037025.1</td><td>d__Bacteria;p__Proteobacteria;c__Gammaproteobacteria;o__Enterobacterales;f__Enterobacteriaceae;g__Klebsiella;s__Klebsiella pneumoniae  </td><td>Bacteria;Proteobacteria;Gammaproteobacteria;Enterobacteriales;Enterobacteriaceae;Klebsiella;Klebsiella pneumoniae subsp. pneumoniae</td><td>GCA_003037025.1</td><td>Klebsiella pneumoniae                 </td><td>d__Bacteria;p__Proteobacteria;c__Gammaproteobacteria;o__Enterobacterales;f__Enterobacteriaceae;g__Klebsiella;s__Klebsiella pneumoniae  </td><td>d__Bacteria;p__Proteobacteria;c__Gammaproteobacteria;o__Enterobacterales;f__Enterobacteriaceae;g__Klebsiella;s__Klebsiella pneumoniae                                                                                                         </td><td>k__Bacteria;p__Proteobacteria;c__Gammaproteobacteria;o__Enterobacteriales;f__Enterobacteriaceae;g__Klebsiella;s__         </td><td>Bacteria;Proteobacteria;Gammaproteobacteria;Enterobacteriales;Enterobacteriaceae;Enterobacter;Klebsiella pneumoniae subsp. pneumoniae KPNIH18</td></tr>\n",
       "\t<tr><td>RS_GCF_002138225.1</td><td>d__Bacteria;p__Proteobacteria;c__Gammaproteobacteria;o__Pseudomonadales;f__Moraxellaceae;g__Acinetobacter;s__Acinetobacter pittii      </td><td>Bacteria;Proteobacteria;Gammaproteobacteria;Pseudomonadales;Moraxellaceae;Acinetobacter;Acinetobacter pittii                       </td><td>GCA_002138225.1</td><td>Acinetobacter pittii                  </td><td>d__Bacteria;p__Proteobacteria;c__Gammaproteobacteria;o__Pseudomonadales;f__Moraxellaceae;g__Acinetobacter;s__Acinetobacter pittii      </td><td>d__Bacteria;p__Proteobacteria;c__Gammaproteobacteria;o__Pseudomonadales;f__Moraxellaceae;g__Acinetobacter;x__Acinetobacter calcoaceticus/baumannii complex;s__Acinetobacter pittii                                                            </td><td>k__Bacteria;p__Proteobacteria;c__Gammaproteobacteria;o__Pseudomonadales;f__Moraxellaceae;g__Acinetobacter;s__rhizosphaerae</td><td>Bacteria;Proteobacteria;Gammaproteobacteria;Pseudomonadales;Moraxellaceae;Acinetobacter;Acinetobacter oleivorans DR1                         </td></tr>\n",
       "</tbody>\n",
       "</table>\n"
      ],
      "text/latex": [
       "A data.frame: 6 × 9\n",
       "\\begin{tabular}{r|lllllllll}\n",
       " accession & gtdb\\_taxonomy & lsu\\_silva\\_23s\\_taxonomy & ncbi\\_genbank\\_assembly\\_accession & ncbi\\_organism\\_name & ncbi\\_taxonomy & ncbi\\_taxonomy\\_unfiltered & ssu\\_gg\\_taxonomy & ssu\\_silva\\_taxonomy\\\\\n",
       " <chr> & <chr> & <chr> & <chr> & <chr> & <chr> & <chr> & <chr> & <chr>\\\\\n",
       "\\hline\n",
       "\t RS\\_GCF\\_001999625.1 & d\\_\\_Bacteria;p\\_\\_Firmicutes;c\\_\\_Bacilli;o\\_\\_Lactobacillales;f\\_\\_Enterococcaceae;g\\_\\_Enterococcus;s\\_\\_Enterococcus faecalis                     & Bacteria;Firmicutes;Bacilli;Lactobacillales;Enterococcaceae;Enterococcus;Enterococcus faecalis ATCC 29212                           & GCA\\_001999625.1 & Enterococcus faecalis ATCC 29212       & d\\_\\_Bacteria;p\\_\\_Firmicutes;c\\_\\_Bacilli;o\\_\\_Lactobacillales;f\\_\\_Enterococcaceae;g\\_\\_Enterococcus;s\\_\\_Enterococcus faecalis                     & d\\_\\_Bacteria;x\\_\\_Terrabacteria group;p\\_\\_Firmicutes;c\\_\\_Bacilli;o\\_\\_Lactobacillales;f\\_\\_Enterococcaceae;g\\_\\_Enterococcus;s\\_\\_Enterococcus faecalis;x\\_\\_Enterococcus faecalis ATCC 29212                                                                 & k\\_\\_Bacteria;p\\_\\_Firmicutes;c\\_\\_Bacilli;o\\_\\_Lactobacillales;f\\_\\_Enterococcaceae;g\\_\\_Enterococcus;s\\_\\_                             & Bacteria;Firmicutes;Bacilli;Lactobacillales;Enterococcaceae;Enterococcus;Enterococcus faecalis                                               \\\\\n",
       "\t RS\\_GCF\\_001658645.1 & d\\_\\_Bacteria;p\\_\\_Firmicutes;c\\_\\_Bacilli;o\\_\\_Staphylococcales;f\\_\\_Staphylococcaceae;g\\_\\_Staphylococcus;s\\_\\_Staphylococcus epidermidis           & Bacteria;Firmicutes;Bacilli;Bacillales;Stapyhlococcaceae;Staphylococcus;Staphylococcus epidermidis                                  & GCA\\_001658645.1 & Staphylococcus epidermidis             & d\\_\\_Bacteria;p\\_\\_Firmicutes;c\\_\\_Bacilli;o\\_\\_Bacillales;f\\_\\_Staphylococcaceae;g\\_\\_Staphylococcus;s\\_\\_Staphylococcus epidermidis                 & d\\_\\_Bacteria;x\\_\\_Terrabacteria group;p\\_\\_Firmicutes;c\\_\\_Bacilli;o\\_\\_Bacillales;f\\_\\_Staphylococcaceae;g\\_\\_Staphylococcus;s\\_\\_Staphylococcus epidermidis                                                                                                 & k\\_\\_Bacteria;p\\_\\_Firmicutes;c\\_\\_Bacilli;o\\_\\_Bacillales;f\\_\\_Staphylococcaceae;g\\_\\_Staphylococcus;s\\_\\_epidermidis                   & Bacteria;Firmicutes;Bacilli;Bacillales;Staphylococcaceae;Staphylococcus;Staphylococcus epidermidis NIHLM088                                  \\\\\n",
       "\t RS\\_GCF\\_900117665.1 & d\\_\\_Bacteria;p\\_\\_Proteobacteria;c\\_\\_Gammaproteobacteria;o\\_\\_Pseudomonadales;f\\_\\_Moraxellaceae;g\\_\\_Acinetobacter;s\\_\\_Acinetobacter baumannii    & Bacteria;Proteobacteria;Gammaproteobacteria;Pseudomonadales;Moraxellaceae;Acinetobacter;Acinetobacter baumannii                     & GCA\\_900117665.1 & Acinetobacter baumannii                & d\\_\\_Bacteria;p\\_\\_Proteobacteria;c\\_\\_Gammaproteobacteria;o\\_\\_Pseudomonadales;f\\_\\_Moraxellaceae;g\\_\\_Acinetobacter;s\\_\\_Acinetobacter baumannii    & d\\_\\_Bacteria;p\\_\\_Proteobacteria;c\\_\\_Gammaproteobacteria;o\\_\\_Pseudomonadales;f\\_\\_Moraxellaceae;g\\_\\_Acinetobacter;x\\_\\_Acinetobacter calcoaceticus/baumannii complex;s\\_\\_Acinetobacter baumannii                                                          & k\\_\\_Bacteria;p\\_\\_Proteobacteria;c\\_\\_Gammaproteobacteria;o\\_\\_Pseudomonadales;f\\_\\_Moraxellaceae;g\\_\\_Acinetobacter;s\\_\\_              & Bacteria;Proteobacteria;Gammaproteobacteria;Pseudomonadales;Moraxellaceae;Acinetobacter;Acinetobacter baumannii                              \\\\\n",
       "\t RS\\_GCF\\_000652055.1 & d\\_\\_Bacteria;p\\_\\_Actinobacteriota;c\\_\\_Actinobacteria;o\\_\\_Mycobacteriales;f\\_\\_Mycobacteriaceae;g\\_\\_Mycobacterium;s\\_\\_Mycobacterium tuberculosis & Bacteria;Actinobacteria;Actinobacteria;Corynebacteriales;Mycobacteriaceae;Mycobacterium;Mycobacterium tuberculosis                  & GCA\\_000652055.1 & Mycobacterium tuberculosis TKK\\_03\\_0108 & d\\_\\_Bacteria;p\\_\\_Actinobacteria;c\\_\\_Actinobacteria;o\\_\\_Corynebacteriales;f\\_\\_Mycobacteriaceae;g\\_\\_Mycobacterium;s\\_\\_Mycobacterium tuberculosis & d\\_\\_Bacteria;x\\_\\_Terrabacteria group;p\\_\\_Actinobacteria;c\\_\\_Actinobacteria;o\\_\\_Corynebacteriales;f\\_\\_Mycobacteriaceae;g\\_\\_Mycobacterium;x\\_\\_Mycobacterium tuberculosis complex;s\\_\\_Mycobacterium tuberculosis;x\\_\\_Mycobacterium tuberculosis TKK\\_03\\_0108 & k\\_\\_Bacteria;p\\_\\_Actinobacteria;c\\_\\_Actinobacteria;o\\_\\_Actinomycetales;f\\_\\_Mycobacteriaceae;g\\_\\_Mycobacterium;s\\_\\_                & Bacteria;Actinobacteria;Actinobacteria;Corynebacteriales;Mycobacteriaceae;Mycobacterium;Mycobacterium bovis                                  \\\\\n",
       "\t RS\\_GCF\\_003037025.1 & d\\_\\_Bacteria;p\\_\\_Proteobacteria;c\\_\\_Gammaproteobacteria;o\\_\\_Enterobacterales;f\\_\\_Enterobacteriaceae;g\\_\\_Klebsiella;s\\_\\_Klebsiella pneumoniae   & Bacteria;Proteobacteria;Gammaproteobacteria;Enterobacteriales;Enterobacteriaceae;Klebsiella;Klebsiella pneumoniae subsp. pneumoniae & GCA\\_003037025.1 & Klebsiella pneumoniae                  & d\\_\\_Bacteria;p\\_\\_Proteobacteria;c\\_\\_Gammaproteobacteria;o\\_\\_Enterobacterales;f\\_\\_Enterobacteriaceae;g\\_\\_Klebsiella;s\\_\\_Klebsiella pneumoniae   & d\\_\\_Bacteria;p\\_\\_Proteobacteria;c\\_\\_Gammaproteobacteria;o\\_\\_Enterobacterales;f\\_\\_Enterobacteriaceae;g\\_\\_Klebsiella;s\\_\\_Klebsiella pneumoniae                                                                                                          & k\\_\\_Bacteria;p\\_\\_Proteobacteria;c\\_\\_Gammaproteobacteria;o\\_\\_Enterobacteriales;f\\_\\_Enterobacteriaceae;g\\_\\_Klebsiella;s\\_\\_          & Bacteria;Proteobacteria;Gammaproteobacteria;Enterobacteriales;Enterobacteriaceae;Enterobacter;Klebsiella pneumoniae subsp. pneumoniae KPNIH18\\\\\n",
       "\t RS\\_GCF\\_002138225.1 & d\\_\\_Bacteria;p\\_\\_Proteobacteria;c\\_\\_Gammaproteobacteria;o\\_\\_Pseudomonadales;f\\_\\_Moraxellaceae;g\\_\\_Acinetobacter;s\\_\\_Acinetobacter pittii       & Bacteria;Proteobacteria;Gammaproteobacteria;Pseudomonadales;Moraxellaceae;Acinetobacter;Acinetobacter pittii                        & GCA\\_002138225.1 & Acinetobacter pittii                   & d\\_\\_Bacteria;p\\_\\_Proteobacteria;c\\_\\_Gammaproteobacteria;o\\_\\_Pseudomonadales;f\\_\\_Moraxellaceae;g\\_\\_Acinetobacter;s\\_\\_Acinetobacter pittii       & d\\_\\_Bacteria;p\\_\\_Proteobacteria;c\\_\\_Gammaproteobacteria;o\\_\\_Pseudomonadales;f\\_\\_Moraxellaceae;g\\_\\_Acinetobacter;x\\_\\_Acinetobacter calcoaceticus/baumannii complex;s\\_\\_Acinetobacter pittii                                                             & k\\_\\_Bacteria;p\\_\\_Proteobacteria;c\\_\\_Gammaproteobacteria;o\\_\\_Pseudomonadales;f\\_\\_Moraxellaceae;g\\_\\_Acinetobacter;s\\_\\_rhizosphaerae & Bacteria;Proteobacteria;Gammaproteobacteria;Pseudomonadales;Moraxellaceae;Acinetobacter;Acinetobacter oleivorans DR1                         \\\\\n",
       "\\end{tabular}\n"
      ],
      "text/markdown": [
       "\n",
       "A data.frame: 6 × 9\n",
       "\n",
       "| accession &lt;chr&gt; | gtdb_taxonomy &lt;chr&gt; | lsu_silva_23s_taxonomy &lt;chr&gt; | ncbi_genbank_assembly_accession &lt;chr&gt; | ncbi_organism_name &lt;chr&gt; | ncbi_taxonomy &lt;chr&gt; | ncbi_taxonomy_unfiltered &lt;chr&gt; | ssu_gg_taxonomy &lt;chr&gt; | ssu_silva_taxonomy &lt;chr&gt; |\n",
       "|---|---|---|---|---|---|---|---|---|\n",
       "| RS_GCF_001999625.1 | d__Bacteria;p__Firmicutes;c__Bacilli;o__Lactobacillales;f__Enterococcaceae;g__Enterococcus;s__Enterococcus faecalis                     | Bacteria;Firmicutes;Bacilli;Lactobacillales;Enterococcaceae;Enterococcus;Enterococcus faecalis ATCC 29212                           | GCA_001999625.1 | Enterococcus faecalis ATCC 29212       | d__Bacteria;p__Firmicutes;c__Bacilli;o__Lactobacillales;f__Enterococcaceae;g__Enterococcus;s__Enterococcus faecalis                     | d__Bacteria;x__Terrabacteria group;p__Firmicutes;c__Bacilli;o__Lactobacillales;f__Enterococcaceae;g__Enterococcus;s__Enterococcus faecalis;x__Enterococcus faecalis ATCC 29212                                                                 | k__Bacteria;p__Firmicutes;c__Bacilli;o__Lactobacillales;f__Enterococcaceae;g__Enterococcus;s__                             | Bacteria;Firmicutes;Bacilli;Lactobacillales;Enterococcaceae;Enterococcus;Enterococcus faecalis                                                |\n",
       "| RS_GCF_001658645.1 | d__Bacteria;p__Firmicutes;c__Bacilli;o__Staphylococcales;f__Staphylococcaceae;g__Staphylococcus;s__Staphylococcus epidermidis           | Bacteria;Firmicutes;Bacilli;Bacillales;Stapyhlococcaceae;Staphylococcus;Staphylococcus epidermidis                                  | GCA_001658645.1 | Staphylococcus epidermidis             | d__Bacteria;p__Firmicutes;c__Bacilli;o__Bacillales;f__Staphylococcaceae;g__Staphylococcus;s__Staphylococcus epidermidis                 | d__Bacteria;x__Terrabacteria group;p__Firmicutes;c__Bacilli;o__Bacillales;f__Staphylococcaceae;g__Staphylococcus;s__Staphylococcus epidermidis                                                                                                 | k__Bacteria;p__Firmicutes;c__Bacilli;o__Bacillales;f__Staphylococcaceae;g__Staphylococcus;s__epidermidis                   | Bacteria;Firmicutes;Bacilli;Bacillales;Staphylococcaceae;Staphylococcus;Staphylococcus epidermidis NIHLM088                                   |\n",
       "| RS_GCF_900117665.1 | d__Bacteria;p__Proteobacteria;c__Gammaproteobacteria;o__Pseudomonadales;f__Moraxellaceae;g__Acinetobacter;s__Acinetobacter baumannii    | Bacteria;Proteobacteria;Gammaproteobacteria;Pseudomonadales;Moraxellaceae;Acinetobacter;Acinetobacter baumannii                     | GCA_900117665.1 | Acinetobacter baumannii                | d__Bacteria;p__Proteobacteria;c__Gammaproteobacteria;o__Pseudomonadales;f__Moraxellaceae;g__Acinetobacter;s__Acinetobacter baumannii    | d__Bacteria;p__Proteobacteria;c__Gammaproteobacteria;o__Pseudomonadales;f__Moraxellaceae;g__Acinetobacter;x__Acinetobacter calcoaceticus/baumannii complex;s__Acinetobacter baumannii                                                          | k__Bacteria;p__Proteobacteria;c__Gammaproteobacteria;o__Pseudomonadales;f__Moraxellaceae;g__Acinetobacter;s__              | Bacteria;Proteobacteria;Gammaproteobacteria;Pseudomonadales;Moraxellaceae;Acinetobacter;Acinetobacter baumannii                               |\n",
       "| RS_GCF_000652055.1 | d__Bacteria;p__Actinobacteriota;c__Actinobacteria;o__Mycobacteriales;f__Mycobacteriaceae;g__Mycobacterium;s__Mycobacterium tuberculosis | Bacteria;Actinobacteria;Actinobacteria;Corynebacteriales;Mycobacteriaceae;Mycobacterium;Mycobacterium tuberculosis                  | GCA_000652055.1 | Mycobacterium tuberculosis TKK_03_0108 | d__Bacteria;p__Actinobacteria;c__Actinobacteria;o__Corynebacteriales;f__Mycobacteriaceae;g__Mycobacterium;s__Mycobacterium tuberculosis | d__Bacteria;x__Terrabacteria group;p__Actinobacteria;c__Actinobacteria;o__Corynebacteriales;f__Mycobacteriaceae;g__Mycobacterium;x__Mycobacterium tuberculosis complex;s__Mycobacterium tuberculosis;x__Mycobacterium tuberculosis TKK_03_0108 | k__Bacteria;p__Actinobacteria;c__Actinobacteria;o__Actinomycetales;f__Mycobacteriaceae;g__Mycobacterium;s__                | Bacteria;Actinobacteria;Actinobacteria;Corynebacteriales;Mycobacteriaceae;Mycobacterium;Mycobacterium bovis                                   |\n",
       "| RS_GCF_003037025.1 | d__Bacteria;p__Proteobacteria;c__Gammaproteobacteria;o__Enterobacterales;f__Enterobacteriaceae;g__Klebsiella;s__Klebsiella pneumoniae   | Bacteria;Proteobacteria;Gammaproteobacteria;Enterobacteriales;Enterobacteriaceae;Klebsiella;Klebsiella pneumoniae subsp. pneumoniae | GCA_003037025.1 | Klebsiella pneumoniae                  | d__Bacteria;p__Proteobacteria;c__Gammaproteobacteria;o__Enterobacterales;f__Enterobacteriaceae;g__Klebsiella;s__Klebsiella pneumoniae   | d__Bacteria;p__Proteobacteria;c__Gammaproteobacteria;o__Enterobacterales;f__Enterobacteriaceae;g__Klebsiella;s__Klebsiella pneumoniae                                                                                                          | k__Bacteria;p__Proteobacteria;c__Gammaproteobacteria;o__Enterobacteriales;f__Enterobacteriaceae;g__Klebsiella;s__          | Bacteria;Proteobacteria;Gammaproteobacteria;Enterobacteriales;Enterobacteriaceae;Enterobacter;Klebsiella pneumoniae subsp. pneumoniae KPNIH18 |\n",
       "| RS_GCF_002138225.1 | d__Bacteria;p__Proteobacteria;c__Gammaproteobacteria;o__Pseudomonadales;f__Moraxellaceae;g__Acinetobacter;s__Acinetobacter pittii       | Bacteria;Proteobacteria;Gammaproteobacteria;Pseudomonadales;Moraxellaceae;Acinetobacter;Acinetobacter pittii                        | GCA_002138225.1 | Acinetobacter pittii                   | d__Bacteria;p__Proteobacteria;c__Gammaproteobacteria;o__Pseudomonadales;f__Moraxellaceae;g__Acinetobacter;s__Acinetobacter pittii       | d__Bacteria;p__Proteobacteria;c__Gammaproteobacteria;o__Pseudomonadales;f__Moraxellaceae;g__Acinetobacter;x__Acinetobacter calcoaceticus/baumannii complex;s__Acinetobacter pittii                                                             | k__Bacteria;p__Proteobacteria;c__Gammaproteobacteria;o__Pseudomonadales;f__Moraxellaceae;g__Acinetobacter;s__rhizosphaerae | Bacteria;Proteobacteria;Gammaproteobacteria;Pseudomonadales;Moraxellaceae;Acinetobacter;Acinetobacter oleivorans DR1                          |\n",
       "\n"
      ],
      "text/plain": [
       "  accession         \n",
       "1 RS_GCF_001999625.1\n",
       "2 RS_GCF_001658645.1\n",
       "3 RS_GCF_900117665.1\n",
       "4 RS_GCF_000652055.1\n",
       "5 RS_GCF_003037025.1\n",
       "6 RS_GCF_002138225.1\n",
       "  gtdb_taxonomy                                                                                                                          \n",
       "1 d__Bacteria;p__Firmicutes;c__Bacilli;o__Lactobacillales;f__Enterococcaceae;g__Enterococcus;s__Enterococcus faecalis                    \n",
       "2 d__Bacteria;p__Firmicutes;c__Bacilli;o__Staphylococcales;f__Staphylococcaceae;g__Staphylococcus;s__Staphylococcus epidermidis          \n",
       "3 d__Bacteria;p__Proteobacteria;c__Gammaproteobacteria;o__Pseudomonadales;f__Moraxellaceae;g__Acinetobacter;s__Acinetobacter baumannii   \n",
       "4 d__Bacteria;p__Actinobacteriota;c__Actinobacteria;o__Mycobacteriales;f__Mycobacteriaceae;g__Mycobacterium;s__Mycobacterium tuberculosis\n",
       "5 d__Bacteria;p__Proteobacteria;c__Gammaproteobacteria;o__Enterobacterales;f__Enterobacteriaceae;g__Klebsiella;s__Klebsiella pneumoniae  \n",
       "6 d__Bacteria;p__Proteobacteria;c__Gammaproteobacteria;o__Pseudomonadales;f__Moraxellaceae;g__Acinetobacter;s__Acinetobacter pittii      \n",
       "  lsu_silva_23s_taxonomy                                                                                                             \n",
       "1 Bacteria;Firmicutes;Bacilli;Lactobacillales;Enterococcaceae;Enterococcus;Enterococcus faecalis ATCC 29212                          \n",
       "2 Bacteria;Firmicutes;Bacilli;Bacillales;Stapyhlococcaceae;Staphylococcus;Staphylococcus epidermidis                                 \n",
       "3 Bacteria;Proteobacteria;Gammaproteobacteria;Pseudomonadales;Moraxellaceae;Acinetobacter;Acinetobacter baumannii                    \n",
       "4 Bacteria;Actinobacteria;Actinobacteria;Corynebacteriales;Mycobacteriaceae;Mycobacterium;Mycobacterium tuberculosis                 \n",
       "5 Bacteria;Proteobacteria;Gammaproteobacteria;Enterobacteriales;Enterobacteriaceae;Klebsiella;Klebsiella pneumoniae subsp. pneumoniae\n",
       "6 Bacteria;Proteobacteria;Gammaproteobacteria;Pseudomonadales;Moraxellaceae;Acinetobacter;Acinetobacter pittii                       \n",
       "  ncbi_genbank_assembly_accession ncbi_organism_name                    \n",
       "1 GCA_001999625.1                 Enterococcus faecalis ATCC 29212      \n",
       "2 GCA_001658645.1                 Staphylococcus epidermidis            \n",
       "3 GCA_900117665.1                 Acinetobacter baumannii               \n",
       "4 GCA_000652055.1                 Mycobacterium tuberculosis TKK_03_0108\n",
       "5 GCA_003037025.1                 Klebsiella pneumoniae                 \n",
       "6 GCA_002138225.1                 Acinetobacter pittii                  \n",
       "  ncbi_taxonomy                                                                                                                          \n",
       "1 d__Bacteria;p__Firmicutes;c__Bacilli;o__Lactobacillales;f__Enterococcaceae;g__Enterococcus;s__Enterococcus faecalis                    \n",
       "2 d__Bacteria;p__Firmicutes;c__Bacilli;o__Bacillales;f__Staphylococcaceae;g__Staphylococcus;s__Staphylococcus epidermidis                \n",
       "3 d__Bacteria;p__Proteobacteria;c__Gammaproteobacteria;o__Pseudomonadales;f__Moraxellaceae;g__Acinetobacter;s__Acinetobacter baumannii   \n",
       "4 d__Bacteria;p__Actinobacteria;c__Actinobacteria;o__Corynebacteriales;f__Mycobacteriaceae;g__Mycobacterium;s__Mycobacterium tuberculosis\n",
       "5 d__Bacteria;p__Proteobacteria;c__Gammaproteobacteria;o__Enterobacterales;f__Enterobacteriaceae;g__Klebsiella;s__Klebsiella pneumoniae  \n",
       "6 d__Bacteria;p__Proteobacteria;c__Gammaproteobacteria;o__Pseudomonadales;f__Moraxellaceae;g__Acinetobacter;s__Acinetobacter pittii      \n",
       "  ncbi_taxonomy_unfiltered                                                                                                                                                                                                                      \n",
       "1 d__Bacteria;x__Terrabacteria group;p__Firmicutes;c__Bacilli;o__Lactobacillales;f__Enterococcaceae;g__Enterococcus;s__Enterococcus faecalis;x__Enterococcus faecalis ATCC 29212                                                                \n",
       "2 d__Bacteria;x__Terrabacteria group;p__Firmicutes;c__Bacilli;o__Bacillales;f__Staphylococcaceae;g__Staphylococcus;s__Staphylococcus epidermidis                                                                                                \n",
       "3 d__Bacteria;p__Proteobacteria;c__Gammaproteobacteria;o__Pseudomonadales;f__Moraxellaceae;g__Acinetobacter;x__Acinetobacter calcoaceticus/baumannii complex;s__Acinetobacter baumannii                                                         \n",
       "4 d__Bacteria;x__Terrabacteria group;p__Actinobacteria;c__Actinobacteria;o__Corynebacteriales;f__Mycobacteriaceae;g__Mycobacterium;x__Mycobacterium tuberculosis complex;s__Mycobacterium tuberculosis;x__Mycobacterium tuberculosis TKK_03_0108\n",
       "5 d__Bacteria;p__Proteobacteria;c__Gammaproteobacteria;o__Enterobacterales;f__Enterobacteriaceae;g__Klebsiella;s__Klebsiella pneumoniae                                                                                                         \n",
       "6 d__Bacteria;p__Proteobacteria;c__Gammaproteobacteria;o__Pseudomonadales;f__Moraxellaceae;g__Acinetobacter;x__Acinetobacter calcoaceticus/baumannii complex;s__Acinetobacter pittii                                                            \n",
       "  ssu_gg_taxonomy                                                                                                           \n",
       "1 k__Bacteria;p__Firmicutes;c__Bacilli;o__Lactobacillales;f__Enterococcaceae;g__Enterococcus;s__                            \n",
       "2 k__Bacteria;p__Firmicutes;c__Bacilli;o__Bacillales;f__Staphylococcaceae;g__Staphylococcus;s__epidermidis                  \n",
       "3 k__Bacteria;p__Proteobacteria;c__Gammaproteobacteria;o__Pseudomonadales;f__Moraxellaceae;g__Acinetobacter;s__             \n",
       "4 k__Bacteria;p__Actinobacteria;c__Actinobacteria;o__Actinomycetales;f__Mycobacteriaceae;g__Mycobacterium;s__               \n",
       "5 k__Bacteria;p__Proteobacteria;c__Gammaproteobacteria;o__Enterobacteriales;f__Enterobacteriaceae;g__Klebsiella;s__         \n",
       "6 k__Bacteria;p__Proteobacteria;c__Gammaproteobacteria;o__Pseudomonadales;f__Moraxellaceae;g__Acinetobacter;s__rhizosphaerae\n",
       "  ssu_silva_taxonomy                                                                                                                           \n",
       "1 Bacteria;Firmicutes;Bacilli;Lactobacillales;Enterococcaceae;Enterococcus;Enterococcus faecalis                                               \n",
       "2 Bacteria;Firmicutes;Bacilli;Bacillales;Staphylococcaceae;Staphylococcus;Staphylococcus epidermidis NIHLM088                                  \n",
       "3 Bacteria;Proteobacteria;Gammaproteobacteria;Pseudomonadales;Moraxellaceae;Acinetobacter;Acinetobacter baumannii                              \n",
       "4 Bacteria;Actinobacteria;Actinobacteria;Corynebacteriales;Mycobacteriaceae;Mycobacterium;Mycobacterium bovis                                  \n",
       "5 Bacteria;Proteobacteria;Gammaproteobacteria;Enterobacteriales;Enterobacteriaceae;Enterobacter;Klebsiella pneumoniae subsp. pneumoniae KPNIH18\n",
       "6 Bacteria;Proteobacteria;Gammaproteobacteria;Pseudomonadales;Moraxellaceae;Acinetobacter;Acinetobacter oleivorans DR1                         "
      ]
     },
     "metadata": {},
     "output_type": "display_data"
    }
   ],
   "source": [
    "a2<-read.delim(\"../extra/bac120_metadata_r89_taxonomy_only.tsv\", colClasses=\"character\")\n",
    "head(a2)"
   ]
  },
  {
   "cell_type": "markdown",
   "metadata": {},
   "source": [
    "### Extracting taxonomic information from columns\n",
    "Since we are only interested in the binomial name. A brief explanation of the functions:\n",
    "* `strsplit()` splits each item of column, generating a vector of 2 elements\n",
    "* `lapply()` then gets only second element of each vector (which usually is string after `;s__`)\n",
    "* `paste0(,collapse=\" \")` will concatenate strings from a vector"
   ]
  },
  {
   "cell_type": "code",
   "execution_count": 13,
   "metadata": {},
   "outputs": [
    {
     "data": {
      "text/html": [
       "<table>\n",
       "<caption>A data.frame: 6 × 6</caption>\n",
       "<thead>\n",
       "\t<tr><th scope=col>accession</th><th scope=col>gtdb_taxonomy</th><th scope=col>lsu_silva_23s_taxonomy</th><th scope=col>ncbi_organism_name</th><th scope=col>ncbi_taxonomy</th><th scope=col>ssu_silva_taxonomy</th></tr>\n",
       "\t<tr><th scope=col>&lt;chr&gt;</th><th scope=col>&lt;chr&gt;</th><th scope=col>&lt;chr&gt;</th><th scope=col>&lt;chr&gt;</th><th scope=col>&lt;chr&gt;</th><th scope=col>&lt;chr&gt;</th></tr>\n",
       "</thead>\n",
       "<tbody>\n",
       "\t<tr><td>RS_GCF_001999625.1</td><td>Enterococcus faecalis     </td><td>Enterococcus faecalis ATCC 29212       </td><td>Enterococcus faecalis ATCC 29212      </td><td>Enterococcus faecalis     </td><td>Enterococcus faecalis                          </td></tr>\n",
       "\t<tr><td>RS_GCF_001658645.1</td><td>Staphylococcus epidermidis</td><td>Staphylococcus epidermidis             </td><td>Staphylococcus epidermidis            </td><td>Staphylococcus epidermidis</td><td>Staphylococcus epidermidis NIHLM088            </td></tr>\n",
       "\t<tr><td>RS_GCF_900117665.1</td><td>Acinetobacter baumannii   </td><td>Acinetobacter baumannii                </td><td>Acinetobacter baumannii               </td><td>Acinetobacter baumannii   </td><td>Acinetobacter baumannii                        </td></tr>\n",
       "\t<tr><td>RS_GCF_000652055.1</td><td>Mycobacterium tuberculosis</td><td>Mycobacterium tuberculosis             </td><td>Mycobacterium tuberculosis TKK_03_0108</td><td>Mycobacterium tuberculosis</td><td>Mycobacterium bovis                            </td></tr>\n",
       "\t<tr><td>RS_GCF_003037025.1</td><td>Klebsiella pneumoniae     </td><td>Klebsiella pneumoniae subsp. pneumoniae</td><td>Klebsiella pneumoniae                 </td><td>Klebsiella pneumoniae     </td><td>Klebsiella pneumoniae subsp. pneumoniae KPNIH18</td></tr>\n",
       "\t<tr><td>RS_GCF_002138225.1</td><td>Acinetobacter pittii      </td><td>Acinetobacter pittii                   </td><td>Acinetobacter pittii                  </td><td>Acinetobacter pittii      </td><td>Acinetobacter oleivorans DR1                   </td></tr>\n",
       "</tbody>\n",
       "</table>\n"
      ],
      "text/latex": [
       "A data.frame: 6 × 6\n",
       "\\begin{tabular}{r|llllll}\n",
       " accession & gtdb\\_taxonomy & lsu\\_silva\\_23s\\_taxonomy & ncbi\\_organism\\_name & ncbi\\_taxonomy & ssu\\_silva\\_taxonomy\\\\\n",
       " <chr> & <chr> & <chr> & <chr> & <chr> & <chr>\\\\\n",
       "\\hline\n",
       "\t RS\\_GCF\\_001999625.1 & Enterococcus faecalis      & Enterococcus faecalis ATCC 29212        & Enterococcus faecalis ATCC 29212       & Enterococcus faecalis      & Enterococcus faecalis                          \\\\\n",
       "\t RS\\_GCF\\_001658645.1 & Staphylococcus epidermidis & Staphylococcus epidermidis              & Staphylococcus epidermidis             & Staphylococcus epidermidis & Staphylococcus epidermidis NIHLM088            \\\\\n",
       "\t RS\\_GCF\\_900117665.1 & Acinetobacter baumannii    & Acinetobacter baumannii                 & Acinetobacter baumannii                & Acinetobacter baumannii    & Acinetobacter baumannii                        \\\\\n",
       "\t RS\\_GCF\\_000652055.1 & Mycobacterium tuberculosis & Mycobacterium tuberculosis              & Mycobacterium tuberculosis TKK\\_03\\_0108 & Mycobacterium tuberculosis & Mycobacterium bovis                            \\\\\n",
       "\t RS\\_GCF\\_003037025.1 & Klebsiella pneumoniae      & Klebsiella pneumoniae subsp. pneumoniae & Klebsiella pneumoniae                  & Klebsiella pneumoniae      & Klebsiella pneumoniae subsp. pneumoniae KPNIH18\\\\\n",
       "\t RS\\_GCF\\_002138225.1 & Acinetobacter pittii       & Acinetobacter pittii                    & Acinetobacter pittii                   & Acinetobacter pittii       & Acinetobacter oleivorans DR1                   \\\\\n",
       "\\end{tabular}\n"
      ],
      "text/markdown": [
       "\n",
       "A data.frame: 6 × 6\n",
       "\n",
       "| accession &lt;chr&gt; | gtdb_taxonomy &lt;chr&gt; | lsu_silva_23s_taxonomy &lt;chr&gt; | ncbi_organism_name &lt;chr&gt; | ncbi_taxonomy &lt;chr&gt; | ssu_silva_taxonomy &lt;chr&gt; |\n",
       "|---|---|---|---|---|---|\n",
       "| RS_GCF_001999625.1 | Enterococcus faecalis      | Enterococcus faecalis ATCC 29212        | Enterococcus faecalis ATCC 29212       | Enterococcus faecalis      | Enterococcus faecalis                           |\n",
       "| RS_GCF_001658645.1 | Staphylococcus epidermidis | Staphylococcus epidermidis              | Staphylococcus epidermidis             | Staphylococcus epidermidis | Staphylococcus epidermidis NIHLM088             |\n",
       "| RS_GCF_900117665.1 | Acinetobacter baumannii    | Acinetobacter baumannii                 | Acinetobacter baumannii                | Acinetobacter baumannii    | Acinetobacter baumannii                         |\n",
       "| RS_GCF_000652055.1 | Mycobacterium tuberculosis | Mycobacterium tuberculosis              | Mycobacterium tuberculosis TKK_03_0108 | Mycobacterium tuberculosis | Mycobacterium bovis                             |\n",
       "| RS_GCF_003037025.1 | Klebsiella pneumoniae      | Klebsiella pneumoniae subsp. pneumoniae | Klebsiella pneumoniae                  | Klebsiella pneumoniae      | Klebsiella pneumoniae subsp. pneumoniae KPNIH18 |\n",
       "| RS_GCF_002138225.1 | Acinetobacter pittii       | Acinetobacter pittii                    | Acinetobacter pittii                   | Acinetobacter pittii       | Acinetobacter oleivorans DR1                    |\n",
       "\n"
      ],
      "text/plain": [
       "  accession          gtdb_taxonomy             \n",
       "1 RS_GCF_001999625.1 Enterococcus faecalis     \n",
       "2 RS_GCF_001658645.1 Staphylococcus epidermidis\n",
       "3 RS_GCF_900117665.1 Acinetobacter baumannii   \n",
       "4 RS_GCF_000652055.1 Mycobacterium tuberculosis\n",
       "5 RS_GCF_003037025.1 Klebsiella pneumoniae     \n",
       "6 RS_GCF_002138225.1 Acinetobacter pittii      \n",
       "  lsu_silva_23s_taxonomy                 \n",
       "1 Enterococcus faecalis ATCC 29212       \n",
       "2 Staphylococcus epidermidis             \n",
       "3 Acinetobacter baumannii                \n",
       "4 Mycobacterium tuberculosis             \n",
       "5 Klebsiella pneumoniae subsp. pneumoniae\n",
       "6 Acinetobacter pittii                   \n",
       "  ncbi_organism_name                     ncbi_taxonomy             \n",
       "1 Enterococcus faecalis ATCC 29212       Enterococcus faecalis     \n",
       "2 Staphylococcus epidermidis             Staphylococcus epidermidis\n",
       "3 Acinetobacter baumannii                Acinetobacter baumannii   \n",
       "4 Mycobacterium tuberculosis TKK_03_0108 Mycobacterium tuberculosis\n",
       "5 Klebsiella pneumoniae                  Klebsiella pneumoniae     \n",
       "6 Acinetobacter pittii                   Acinetobacter pittii      \n",
       "  ssu_silva_taxonomy                             \n",
       "1 Enterococcus faecalis                          \n",
       "2 Staphylococcus epidermidis NIHLM088            \n",
       "3 Acinetobacter baumannii                        \n",
       "4 Mycobacterium bovis                            \n",
       "5 Klebsiella pneumoniae subsp. pneumoniae KPNIH18\n",
       "6 Acinetobacter oleivorans DR1                   "
      ]
     },
     "metadata": {},
     "output_type": "display_data"
    }
   ],
   "source": [
    "get_genus_sp <- function (string) {\n",
    "    x<-unlist(strsplit(string, ';s__')); # now x[2] may have species (or NULL)\n",
    "    if (is.na(x[2])) { x <- unlist(strsplit(x[1], ';g__')); x[2] <- paste(x[2], \"sp.\"); } # now x[2] has genus\n",
    "    x[2];\n",
    "}\n",
    "\n",
    "a2$gtdb_taxonomy   <- as.character( lapply(strsplit(a2$gtdb_taxonomy, ';s__'), '[', 2) )\n",
    "a2$ncbi_taxonomy   <- as.character( lapply(a2$ncbi_taxonomy, get_genus_sp) )\n",
    "\n",
    "#g_s_tmp <- as.character( lapply(strsplit(a2$ncbi_taxonomy_unfiltered, ';s__'), '[', 2) )\n",
    "#a2$ncbi_taxonomy_unfiltered <- as.character( lapply(strsplit(g_s_tmp, ';x__'), '[', 2) )\n",
    "\n",
    "a2$lsu_silva_23s_taxonomy <- as.character( lapply(strsplit(a2$lsu_silva_23s_taxonomy, ';'), '[', 7) )\n",
    "a2$ssu_silva_taxonomy     <- as.character( lapply(strsplit(a2$ssu_silva_taxonomy,     ';'), '[', 7) )\n",
    "\n",
    "#g_s_tmp <- as.character( lapply(strsplit(a2$ssu_gg_taxonomy, ';g__'), '[', 2) )\n",
    "#a2$ssu_gg_taxonomy <- as.character(lapply(strsplit(g_s_tmp, ';s__'), paste0, collapse=\" \") )\n",
    "\n",
    "drops <- c(\"ncbi_genbank_assembly_accession\", \"ncbi_taxonomy_unfiltered\", \"ssu_gg_taxonomy\")\n",
    "a2<-a2[ , !(names(a2) %in% drops)] # remove columns (but we keep comments above in case we want to use them)\n",
    "head (a2)"
   ]
  },
  {
   "cell_type": "markdown",
   "metadata": {},
   "source": [
    "### compare NCBI and GTDB classifications\n",
    "Using our samples from pilot analyses. The classifications can be the same, distinct, or \"absent\" for the case where the sequence did not pass the quality checks from GTDB."
   ]
  },
  {
   "cell_type": "code",
   "execution_count": 9,
   "metadata": {},
   "outputs": [
    {
     "name": "stdout",
     "output_type": "stream",
     "text": [
      "[1] \"Pseudomonas putida ; Pseudomonas_E putida_M\"\n",
      "[1] \"Escherichia coli ; Escherichia flexneri\"\n",
      "[1] \"Neisseria meningitidis ; Neisseria meningitidis_B\"\n",
      "[1] \"Neisseria meningitidis ; Neisseria meningitidis_B\"\n",
      "[1] \"Escherichia coli ; Escherichia flexneri\"\n",
      "[1] \"Escherichia coli ; Escherichia flexneri\"\n",
      "[1] \"Helicobacter pylori ; Helicobacter pylori_C\"\n",
      "[1] \"same taxon= 7  distinct taxon= 7  absent from GTDB= 6\"\n"
     ]
    }
   ],
   "source": [
    "missing = 0;\n",
    "count = 0;\n",
    "distinct = 0;\n",
    "#for (i in 1:length(a1[,1])) {  ## around 700 sequences?\n",
    "for (i in 1:20) {  ## just a small sample\n",
    "    idx <- grep(a1$Accession.Number[i], a2$accession);\n",
    "    if (length(idx) > 0) { \n",
    "        if (a2$ncbi_taxonomy[idx] != a2$gtdb_taxonomy[idx]) {\n",
    "            print (paste(a1$Species[i], a2$gtdb_taxonomy[idx], sep=\" ; \")); \n",
    "            distinct <- distinct + 1;\n",
    "        }\n",
    "        else count <- count + 1;\n",
    "    }\n",
    "    else missing <- missing + 1;\n",
    "}\n",
    "print (paste(\"same taxon=\",count, \" distinct taxon=\", distinct, \" absent from GTDB=\", missing));"
   ]
  },
  {
   "cell_type": "markdown",
   "metadata": {},
   "source": [
    "### Creating compacted spreadsheet with GTDB data\n",
    "Since original spreadsheet is too large, we use the above shortened columns, and select only the genera of interest. This is not the final data set, since it may contain many entries for which we don't have data"
   ]
  },
  {
   "cell_type": "code",
   "execution_count": 15,
   "metadata": {},
   "outputs": [
    {
     "data": {
      "text/html": [
       "<table>\n",
       "<caption>A data.frame: 6 × 6</caption>\n",
       "<thead>\n",
       "\t<tr><th></th><th scope=col>accession</th><th scope=col>gtdb_taxonomy</th><th scope=col>lsu_silva_23s_taxonomy</th><th scope=col>ncbi_organism_name</th><th scope=col>ncbi_taxonomy</th><th scope=col>ssu_silva_taxonomy</th></tr>\n",
       "\t<tr><th></th><th scope=col>&lt;chr&gt;</th><th scope=col>&lt;chr&gt;</th><th scope=col>&lt;chr&gt;</th><th scope=col>&lt;chr&gt;</th><th scope=col>&lt;chr&gt;</th><th scope=col>&lt;chr&gt;</th></tr>\n",
       "</thead>\n",
       "<tbody>\n",
       "\t<tr><th scope=row>355</th><td>RS_GCF_000968245.1</td><td>Clostridium butyricum    </td><td>Clostridium butyricum 5521              </td><td>Clostridium sp. IBUN22A    </td><td>Clostridium sp.        </td><td>Clostridium butyricum                   </td></tr>\n",
       "\t<tr><th scope=row>374</th><td>RS_GCF_900104115.1</td><td>Clostridium gasigenes    </td><td>Clostridium sp. 7_2_43FAA               </td><td>Clostridium gasigenes      </td><td>Clostridium gasigenes  </td><td>unidentified                            </td></tr>\n",
       "\t<tr><th scope=row>534</th><td>RS_GCF_001573435.1</td><td>Clostridium_F botulinum  </td><td>Clostridium botulinum A str. ATCC 19397 </td><td>Clostridium botulinum      </td><td>Clostridium botulinum  </td><td>Clostridium botulinum NCTC 2916         </td></tr>\n",
       "\t<tr><th scope=row>569</th><td>GB_GCA_900066815.1</td><td>Clostridium_A leptum     </td><td>[Clostridium] leptum DSM 753            </td><td>uncultured Ruminococcus sp.</td><td>Ruminococcus sp.       </td><td>uncultured bacterium                    </td></tr>\n",
       "\t<tr><th scope=row>750</th><td>RS_GCF_001243045.1</td><td>Clostridium_F niameyense </td><td>Clostridium botulinum A str. ATCC 19397 </td><td>Clostridium niameyense     </td><td>Clostridium niameyense </td><td>Clostridium sporogenes                  </td></tr>\n",
       "\t<tr><th scope=row>974</th><td>RS_GCF_001579765.1</td><td>Clostridium_P perfringens</td><td>Clostridium perfringens B str. ATCC 3626</td><td>Clostridium perfringens    </td><td>Clostridium perfringens</td><td>Clostridium perfringens B str. ATCC 3626</td></tr>\n",
       "</tbody>\n",
       "</table>\n"
      ],
      "text/latex": [
       "A data.frame: 6 × 6\n",
       "\\begin{tabular}{r|llllll}\n",
       "  & accession & gtdb\\_taxonomy & lsu\\_silva\\_23s\\_taxonomy & ncbi\\_organism\\_name & ncbi\\_taxonomy & ssu\\_silva\\_taxonomy\\\\\n",
       "  & <chr> & <chr> & <chr> & <chr> & <chr> & <chr>\\\\\n",
       "\\hline\n",
       "\t355 & RS\\_GCF\\_000968245.1 & Clostridium butyricum     & Clostridium butyricum 5521               & Clostridium sp. IBUN22A     & Clostridium sp.         & Clostridium butyricum                   \\\\\n",
       "\t374 & RS\\_GCF\\_900104115.1 & Clostridium gasigenes     & Clostridium sp. 7\\_2\\_43FAA                & Clostridium gasigenes       & Clostridium gasigenes   & unidentified                            \\\\\n",
       "\t534 & RS\\_GCF\\_001573435.1 & Clostridium\\_F botulinum   & Clostridium botulinum A str. ATCC 19397  & Clostridium botulinum       & Clostridium botulinum   & Clostridium botulinum NCTC 2916         \\\\\n",
       "\t569 & GB\\_GCA\\_900066815.1 & Clostridium\\_A leptum      & {[}Clostridium{]} leptum DSM 753             & uncultured Ruminococcus sp. & Ruminococcus sp.        & uncultured bacterium                    \\\\\n",
       "\t750 & RS\\_GCF\\_001243045.1 & Clostridium\\_F niameyense  & Clostridium botulinum A str. ATCC 19397  & Clostridium niameyense      & Clostridium niameyense  & Clostridium sporogenes                  \\\\\n",
       "\t974 & RS\\_GCF\\_001579765.1 & Clostridium\\_P perfringens & Clostridium perfringens B str. ATCC 3626 & Clostridium perfringens     & Clostridium perfringens & Clostridium perfringens B str. ATCC 3626\\\\\n",
       "\\end{tabular}\n"
      ],
      "text/markdown": [
       "\n",
       "A data.frame: 6 × 6\n",
       "\n",
       "| <!--/--> | accession &lt;chr&gt; | gtdb_taxonomy &lt;chr&gt; | lsu_silva_23s_taxonomy &lt;chr&gt; | ncbi_organism_name &lt;chr&gt; | ncbi_taxonomy &lt;chr&gt; | ssu_silva_taxonomy &lt;chr&gt; |\n",
       "|---|---|---|---|---|---|---|\n",
       "| 355 | RS_GCF_000968245.1 | Clostridium butyricum     | Clostridium butyricum 5521               | Clostridium sp. IBUN22A     | Clostridium sp.         | Clostridium butyricum                    |\n",
       "| 374 | RS_GCF_900104115.1 | Clostridium gasigenes     | Clostridium sp. 7_2_43FAA                | Clostridium gasigenes       | Clostridium gasigenes   | unidentified                             |\n",
       "| 534 | RS_GCF_001573435.1 | Clostridium_F botulinum   | Clostridium botulinum A str. ATCC 19397  | Clostridium botulinum       | Clostridium botulinum   | Clostridium botulinum NCTC 2916          |\n",
       "| 569 | GB_GCA_900066815.1 | Clostridium_A leptum      | [Clostridium] leptum DSM 753             | uncultured Ruminococcus sp. | Ruminococcus sp.        | uncultured bacterium                     |\n",
       "| 750 | RS_GCF_001243045.1 | Clostridium_F niameyense  | Clostridium botulinum A str. ATCC 19397  | Clostridium niameyense      | Clostridium niameyense  | Clostridium sporogenes                   |\n",
       "| 974 | RS_GCF_001579765.1 | Clostridium_P perfringens | Clostridium perfringens B str. ATCC 3626 | Clostridium perfringens     | Clostridium perfringens | Clostridium perfringens B str. ATCC 3626 |\n",
       "\n"
      ],
      "text/plain": [
       "    accession          gtdb_taxonomy            \n",
       "355 RS_GCF_000968245.1 Clostridium butyricum    \n",
       "374 RS_GCF_900104115.1 Clostridium gasigenes    \n",
       "534 RS_GCF_001573435.1 Clostridium_F botulinum  \n",
       "569 GB_GCA_900066815.1 Clostridium_A leptum     \n",
       "750 RS_GCF_001243045.1 Clostridium_F niameyense \n",
       "974 RS_GCF_001579765.1 Clostridium_P perfringens\n",
       "    lsu_silva_23s_taxonomy                   ncbi_organism_name         \n",
       "355 Clostridium butyricum 5521               Clostridium sp. IBUN22A    \n",
       "374 Clostridium sp. 7_2_43FAA                Clostridium gasigenes      \n",
       "534 Clostridium botulinum A str. ATCC 19397  Clostridium botulinum      \n",
       "569 [Clostridium] leptum DSM 753             uncultured Ruminococcus sp.\n",
       "750 Clostridium botulinum A str. ATCC 19397  Clostridium niameyense     \n",
       "974 Clostridium perfringens B str. ATCC 3626 Clostridium perfringens    \n",
       "    ncbi_taxonomy           ssu_silva_taxonomy                      \n",
       "355 Clostridium sp.         Clostridium butyricum                   \n",
       "374 Clostridium gasigenes   unidentified                            \n",
       "534 Clostridium botulinum   Clostridium botulinum NCTC 2916         \n",
       "569 Ruminococcus sp.        uncultured bacterium                    \n",
       "750 Clostridium niameyense  Clostridium sporogenes                  \n",
       "974 Clostridium perfringens Clostridium perfringens B str. ATCC 3626"
      ]
     },
     "metadata": {},
     "output_type": "display_data"
    }
   ],
   "source": [
    "genera <- c(\"Clostridium\", \"Enterococcus\", \"Listeria\", \"Mycobacterium\", \"Staphylococcus\", \"Streptococcus\",\n",
    "  \"Campylobacter\", \"Escherichia\", \"Helicobacter\", \"Klebsiella\", \"Leptospira\", \"Neisseria\", \n",
    "  \"Pseudomonas\", \"Salmonella\", \"Vibrio\");\n",
    "xframe <- data.frame();\n",
    "for (gn in genera) {\n",
    "    x1 <- a2[grep(gn, a2$gtdb_taxonomy),]; # only rows that represent this genus\n",
    "    if (length(xframe) > 0) {xframe <- rbind(xframe, x1); } # bind rows \n",
    "    else {xframe <- x1; } # first time we just copy\n",
    "}\n",
    "head(xframe)\n",
    "#write.csv(xframe,\"gtdb_all.csv\", quote=FALSE) ## file with around 12MB "
   ]
  },
  {
   "cell_type": "markdown",
   "metadata": {},
   "source": [
    "## Saving table with species names for available sequences\n",
    "This has the taxonomies according to the GTDB table (GTDB, SILVA, NCBI) for the available sequences (that we downloaded), from file `gcf_names.txt`"
   ]
  },
  {
   "cell_type": "code",
   "execution_count": 17,
   "metadata": {},
   "outputs": [
    {
     "data": {
      "text/html": [
       "<table>\n",
       "<caption>A data.frame: 6 × 6</caption>\n",
       "<thead>\n",
       "\t<tr><th></th><th scope=col>accession</th><th scope=col>gtdb_taxonomy</th><th scope=col>lsu_silva_23s_taxonomy</th><th scope=col>ncbi_organism_name</th><th scope=col>ncbi_taxonomy</th><th scope=col>ssu_silva_taxonomy</th></tr>\n",
       "\t<tr><th></th><th scope=col>&lt;chr&gt;</th><th scope=col>&lt;chr&gt;</th><th scope=col>&lt;chr&gt;</th><th scope=col>&lt;chr&gt;</th><th scope=col>&lt;chr&gt;</th><th scope=col>&lt;chr&gt;</th></tr>\n",
       "</thead>\n",
       "<tbody>\n",
       "\t<tr><th scope=row>93263</th><td>GCF_000465235.1</td><td>Campylobacter_D coli</td><td>Campylobacter coli CVM N29710</td><td>Campylobacter coli CVM N29710</td><td>Campylobacter coli</td><td>Campylobacter jejuni 30318</td></tr>\n",
       "\t<tr><th scope=row>10680</th><td>GCF_000494775.1</td><td>Campylobacter_D coli</td><td>Campylobacter jejuni K5      </td><td>Campylobacter coli 15-537360 </td><td>Campylobacter coli</td><td>Campylobacter jejuni 30318</td></tr>\n",
       "\t<tr><th scope=row>28928</th><td>GCF_000583755.1</td><td>Campylobacter_D coli</td><td>Campylobacter coli RM1875    </td><td>Campylobacter coli RM1875    </td><td>Campylobacter coli</td><td>Campylobacter coli RM1875 </td></tr>\n",
       "\t<tr><th scope=row>16675</th><td>GCF_000583795.1</td><td>Campylobacter_D coli</td><td>Campylobacter coli RM5611    </td><td>Campylobacter coli RM5611    </td><td>Campylobacter coli</td><td>Campylobacter jejuni 30318</td></tr>\n",
       "\t<tr><th scope=row>52579</th><td>GCF_000954195.1</td><td>Campylobacter_D coli</td><td>Campylobacter jejuni K5      </td><td>Campylobacter coli           </td><td>Campylobacter coli</td><td>Campylobacter jejuni 30318</td></tr>\n",
       "\t<tr><th scope=row>90511</th><td>GCF_001417635.1</td><td>Campylobacter_D coli</td><td>Campylobacter coli RM5611    </td><td>Campylobacter coli           </td><td>Campylobacter coli</td><td>Campylobacter jejuni 30318</td></tr>\n",
       "</tbody>\n",
       "</table>\n"
      ],
      "text/latex": [
       "A data.frame: 6 × 6\n",
       "\\begin{tabular}{r|llllll}\n",
       "  & accession & gtdb\\_taxonomy & lsu\\_silva\\_23s\\_taxonomy & ncbi\\_organism\\_name & ncbi\\_taxonomy & ssu\\_silva\\_taxonomy\\\\\n",
       "  & <chr> & <chr> & <chr> & <chr> & <chr> & <chr>\\\\\n",
       "\\hline\n",
       "\t93263 & GCF\\_000465235.1 & Campylobacter\\_D coli & Campylobacter coli CVM N29710 & Campylobacter coli CVM N29710 & Campylobacter coli & Campylobacter jejuni 30318\\\\\n",
       "\t10680 & GCF\\_000494775.1 & Campylobacter\\_D coli & Campylobacter jejuni K5       & Campylobacter coli 15-537360  & Campylobacter coli & Campylobacter jejuni 30318\\\\\n",
       "\t28928 & GCF\\_000583755.1 & Campylobacter\\_D coli & Campylobacter coli RM1875     & Campylobacter coli RM1875     & Campylobacter coli & Campylobacter coli RM1875 \\\\\n",
       "\t16675 & GCF\\_000583795.1 & Campylobacter\\_D coli & Campylobacter coli RM5611     & Campylobacter coli RM5611     & Campylobacter coli & Campylobacter jejuni 30318\\\\\n",
       "\t52579 & GCF\\_000954195.1 & Campylobacter\\_D coli & Campylobacter jejuni K5       & Campylobacter coli            & Campylobacter coli & Campylobacter jejuni 30318\\\\\n",
       "\t90511 & GCF\\_001417635.1 & Campylobacter\\_D coli & Campylobacter coli RM5611     & Campylobacter coli            & Campylobacter coli & Campylobacter jejuni 30318\\\\\n",
       "\\end{tabular}\n"
      ],
      "text/markdown": [
       "\n",
       "A data.frame: 6 × 6\n",
       "\n",
       "| <!--/--> | accession &lt;chr&gt; | gtdb_taxonomy &lt;chr&gt; | lsu_silva_23s_taxonomy &lt;chr&gt; | ncbi_organism_name &lt;chr&gt; | ncbi_taxonomy &lt;chr&gt; | ssu_silva_taxonomy &lt;chr&gt; |\n",
       "|---|---|---|---|---|---|---|\n",
       "| 93263 | GCF_000465235.1 | Campylobacter_D coli | Campylobacter coli CVM N29710 | Campylobacter coli CVM N29710 | Campylobacter coli | Campylobacter jejuni 30318 |\n",
       "| 10680 | GCF_000494775.1 | Campylobacter_D coli | Campylobacter jejuni K5       | Campylobacter coli 15-537360  | Campylobacter coli | Campylobacter jejuni 30318 |\n",
       "| 28928 | GCF_000583755.1 | Campylobacter_D coli | Campylobacter coli RM1875     | Campylobacter coli RM1875     | Campylobacter coli | Campylobacter coli RM1875  |\n",
       "| 16675 | GCF_000583795.1 | Campylobacter_D coli | Campylobacter coli RM5611     | Campylobacter coli RM5611     | Campylobacter coli | Campylobacter jejuni 30318 |\n",
       "| 52579 | GCF_000954195.1 | Campylobacter_D coli | Campylobacter jejuni K5       | Campylobacter coli            | Campylobacter coli | Campylobacter jejuni 30318 |\n",
       "| 90511 | GCF_001417635.1 | Campylobacter_D coli | Campylobacter coli RM5611     | Campylobacter coli            | Campylobacter coli | Campylobacter jejuni 30318 |\n",
       "\n"
      ],
      "text/plain": [
       "      accession       gtdb_taxonomy        lsu_silva_23s_taxonomy       \n",
       "93263 GCF_000465235.1 Campylobacter_D coli Campylobacter coli CVM N29710\n",
       "10680 GCF_000494775.1 Campylobacter_D coli Campylobacter jejuni K5      \n",
       "28928 GCF_000583755.1 Campylobacter_D coli Campylobacter coli RM1875    \n",
       "16675 GCF_000583795.1 Campylobacter_D coli Campylobacter coli RM5611    \n",
       "52579 GCF_000954195.1 Campylobacter_D coli Campylobacter jejuni K5      \n",
       "90511 GCF_001417635.1 Campylobacter_D coli Campylobacter coli RM5611    \n",
       "      ncbi_organism_name            ncbi_taxonomy     \n",
       "93263 Campylobacter coli CVM N29710 Campylobacter coli\n",
       "10680 Campylobacter coli 15-537360  Campylobacter coli\n",
       "28928 Campylobacter coli RM1875     Campylobacter coli\n",
       "16675 Campylobacter coli RM5611     Campylobacter coli\n",
       "52579 Campylobacter coli            Campylobacter coli\n",
       "90511 Campylobacter coli            Campylobacter coli\n",
       "      ssu_silva_taxonomy        \n",
       "93263 Campylobacter jejuni 30318\n",
       "10680 Campylobacter jejuni 30318\n",
       "28928 Campylobacter coli RM1875 \n",
       "16675 Campylobacter jejuni 30318\n",
       "52579 Campylobacter jejuni 30318\n",
       "90511 Campylobacter jejuni 30318"
      ]
     },
     "metadata": {},
     "output_type": "display_data"
    }
   ],
   "source": [
    "seqnames<-read.table(\"bigdata/gcf_names.txt\",colClasses=\"character\")$V1\n",
    "\n",
    "xframe <- data.frame();\n",
    "for (acc in seqnames) {\n",
    "    idx <- grep(acc, a2$accession); # one row, with this sequence\n",
    "    if (length(idx) > 0) {\n",
    "        a2$accession[idx] <- acc;\n",
    "        if (length(xframe) > 0) {xframe <- rbind(xframe, a2[idx,]); } # bind rows \n",
    "        else {xframe <- a2[idx,]; } # first time we just copy\n",
    "    }\n",
    "}\n",
    "head(xframe)\n",
    "write.csv(xframe,\"bigdata/gtdb_list.csv\", quote=FALSE)"
   ]
  },
  {
   "cell_type": "code",
   "execution_count": null,
   "metadata": {},
   "outputs": [],
   "source": []
  }
 ],
 "metadata": {
  "kernelspec": {
   "display_name": "R",
   "language": "R",
   "name": "ir"
  },
  "language_info": {
   "codemirror_mode": "r",
   "file_extension": ".r",
   "mimetype": "text/x-r-source",
   "name": "R",
   "pygments_lexer": "r",
   "version": "3.6.0"
  }
 },
 "nbformat": 4,
 "nbformat_minor": 2
}
