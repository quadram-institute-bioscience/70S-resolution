{
 "cells": [
  {
   "cell_type": "markdown",
   "metadata": {},
   "source": [
    "# 028 Tree silhouette and monophyly scores\n",
    "* depends on results from 026.concat_resolution (specially the trees)"
   ]
  },
  {
   "cell_type": "code",
   "execution_count": 1,
   "metadata": {},
   "outputs": [],
   "source": [
    "%matplotlib inline\n",
    "import matplotlib\n",
    "import matplotlib.pyplot as plt\n",
    "from mpl_toolkits.axes_grid1 import make_axes_locatable\n",
    "\n",
    "from Bio import Seq, SeqIO, Align, AlignIO, Phylo, Alphabet, pairwise2 \n",
    "from Bio.SeqRecord import SeqRecord\n",
    "from Bio.Align import AlignInfo, Applications\n",
    "from Bio.Phylo import draw, TreeConstruction # TreeConstruction.DistanceTreeConstructor \n",
    "# https://bioinformatics.stackexchange.com/questions/4337/ \\\n",
    "#biopython-phylogenetic-tree-replace-branch-tip-labels-by-sequence-logos\n",
    "\n",
    "import numpy as np\n",
    "import seaborn as sns\n",
    "from sklearn import manifold, metrics, cluster, neighbors, decomposition, preprocessing\n",
    "import skbio, parasail, dendropy, pandas\n",
    "import sys, gzip, re, glob, pickle, collections, subprocess, os, errno, random, itertools\n",
    "\n",
    "def print_redblack(textr, textbb=\"\", textbl=\"\"):\n",
    "    print ('\\x1b[0;1;31;1m'+ str(textr) + '\\x1b[0;1;30;1m'+ str(textbb) + '\\x1b[0;0;30;0m'+ str(textbl) + '\\x1b[0m')"
   ]
  },
  {
   "cell_type": "markdown",
   "metadata": {},
   "source": [
    "## read taxonomic information"
   ]
  },
  {
   "cell_type": "code",
   "execution_count": 2,
   "metadata": {},
   "outputs": [
    {
     "name": "stdout",
     "output_type": "stream",
     "text": [
      "\u001b[0;1;31;1mheader: <file>  \u001b[0;1;30;1m['accession', 'gtdb_taxonomy', 'lsu_silva_23s_taxonomy', 'ncbi_organism_name', 'ncbi_taxonomy', 'ssu_silva_taxonomy']\u001b[0;0;30;0m\u001b[0m\n",
      "first element of list:  ['GCF_000465235.1', 'Campylobacter_D coli', 'Campylobacter coli CVM N29710', 'Campylobacter coli CVM N29710', 'Campylobacter coli', 'Campylobacter jejuni 30318'] \n",
      "\n"
     ]
    }
   ],
   "source": [
    "gbff_dir = \"/media/deolivl/QIB_deolivl/bigdata/\"   ## directory (or directories, in our case) with refseq genomes\n",
    "#gbff_dir = \"./bigdata/\"\n",
    "\n",
    "file_lines = [line.strip() for line in open(\"./bigdata/gtdb_list.csv\", 'r')]\n",
    "print_redblack(\"header: <file>  \", file_lines[0].split(',')[1:]) ## first column is data.frame index from R\n",
    "\n",
    "table_filenames_species = [line.split(',')[1:] for line in file_lines[1:]] ## skip first line, with headers\n",
    "print (\"first element of list: \", table_filenames_species[0], \"\\n\")"
   ]
  },
  {
   "cell_type": "markdown",
   "metadata": {},
   "source": [
    "## labels of genes and merged sets must follow order\n",
    "- for printing and visualising only\n",
    "- we assume that trees already exist (otherwise 026 notebook must be run, or trees created by hand)"
   ]
  },
  {
   "cell_type": "code",
   "execution_count": 4,
   "metadata": {},
   "outputs": [
    {
     "name": "stdout",
     "output_type": "stream",
     "text": [
      "['./026_results/5S', './026_results/16Sv1v2', './026_results/16Sv3v4', './026_results/23S', './026_results/16S', './026_results/16S5S', './026_results/23S5S', './026_results/16S23S', './026_results/16S23S5S']\n"
     ]
    }
   ],
   "source": [
    "outdir = \"./026_results/\"\n",
    "ordered_types = [\"5S\",\"16Sv1v2\",\"16Sv3v4\",\"23S\",\"16S\",\"16S5S\",\"23S5S\",\"16S23S\",\"16S23S5S\"]\n",
    "outfile_list = [outdir + str(keys) for keys in ordered_types] # for this data set we know order :D \n",
    "print (outfile_list)\n",
    "## if you need to read alignments\n",
    "#concat_aligned = {k:AlignIO.read(outdir + k + \"_long.fasta\", \"fasta\") for k in ordered_types}\n",
    "#consen_aligned = {k:AlignIO.read(outdir + k + \"_consensus.fasta\", \"fasta\") for k in ordered_types}"
   ]
  },
  {
   "cell_type": "markdown",
   "metadata": {},
   "source": [
    "## Tree silhouette score\n",
    "- calculating the patristic distance between leaves in a tree is the first component of the tree silhouette score, and is calculated with the dendropy package \n",
    "- the second component is the silhouette score, implemented in the scikit-learn library \n",
    "- the function below calculates both, and also \"shuffles\" the tree, i.e. maintain the leaf names but randomise branches, generating a \"null model\""
   ]
  },
  {
   "cell_type": "code",
   "execution_count": 5,
   "metadata": {},
   "outputs": [],
   "source": [
    "def patristic_distances_from_treefile (filename, have_paralogs = False, shuffle = False):\n",
    "    tree = dendropy.Tree.get(path=filename, schema=\"newick\", preserve_underscores=True)\n",
    "    if shuffle:\n",
    "        tree = dendropy.simulate.treesim.pure_kingman_tree(taxon_namespace=tree.taxon_namespace, pop_size = 1000)\n",
    "    species = ['.'.join(t.label.split('.')[:2]) for t in tree.taxon_namespace] ## follow order of taxon_namespace\n",
    "    ntaxa = len(tree.taxon_namespace)\n",
    "    distmat = np.zeros((ntaxa,ntaxa)) # diagonals are zero\n",
    "    nodemat = np.zeros((ntaxa,ntaxa))\n",
    "    ## STEP 1: pairwise distances along the tree\n",
    "    pdm = tree.phylogenetic_distance_matrix() # initialises class\n",
    "    for i,j in itertools.combinations(range(ntaxa),2):\n",
    "        distmat[i,j] = distmat[j,i] = pdm.distance(tree.taxon_namespace[i], tree.taxon_namespace[j])\n",
    "        nodemat[i,j] = nodemat[j,i] = pdm.path_edge_count(tree.taxon_namespace[i], tree.taxon_namespace[j])\n",
    "    ## STEP 2: silhouette score using pairwise distances and taxonomic information\n",
    "    mdist = metrics.silhouette_samples(distmat, species, metric=\"precomputed\")\n",
    "    mnode = metrics.silhouette_samples(nodemat, species, metric=\"precomputed\")\n",
    "    if have_paralogs:\n",
    "        sample = ['.'.join(t.label.split('.')[:3]) for t in tree.taxon_namespace]\n",
    "        m3 = metrics.silhouette_samples(distmat, sample, metric=\"precomputed\")\n",
    "        m4 = metrics.silhouette_samples(nodemat, sample, metric=\"precomputed\")\n",
    "        return mdist, mnode, m3, m4\n",
    "    return mdist, mnode\n",
    "\n",
    "def silhouette_str(distrib):\n",
    "    return '{:7.3f}'.format(np.percentile(distrib, 5)) + \\\n",
    "    '{:7.3f}'.format(np.percentile(distrib, 25)) + \\\n",
    "    '{:7.3f}'.format(np.percentile(distrib, 50)) + \\\n",
    "    '{:7.3f}  '.format(sum(distrib>0)/float(len(distrib))) "
   ]
  },
  {
   "cell_type": "code",
   "execution_count": 8,
   "metadata": {},
   "outputs": [
    {
     "name": "stdout",
     "output_type": "stream",
     "text": [
      "     random       \t  -0.499 -0.440 -0.378  0.006    -0.258 -0.200 -0.161  0.009  \n",
      "cons ML    5S     \t  -0.992 -0.045  0.993  0.709    -0.495 -0.130  0.287  0.680  \n",
      "cons ML    16Sv1v2 \t  -0.644  0.227  0.952  0.799    -0.463 -0.070  0.259  0.703  \n",
      "cons ML    16Sv3v4 \t  -0.989  0.321  0.996  0.796    -0.698 -0.155  0.246  0.617  \n",
      "cons ML    23S    \t   0.103  0.670  0.959  0.953    -0.185  0.239  0.390  0.912  \n",
      "cons ML    16S    \t  -0.551  0.716  0.954  0.865    -0.480  0.011  0.319  0.760  \n",
      "cons ML    16S5S  \t  -0.337  0.621  0.953  0.888    -0.446  0.064  0.307  0.780  \n",
      "cons ML    23S5S  \t  -0.013  0.641  0.951  0.948    -0.219  0.232  0.379  0.897  \n",
      "cons ML    16S23S \t   0.206  0.684  0.955  0.961    -0.259  0.165  0.388  0.890  \n",
      "cons ML    16S23S5S \t   0.154  0.726  0.954  0.957    -0.294  0.162  0.421  0.859  \n"
     ]
    }
   ],
   "source": [
    "mdis, mnod = patristic_distances_from_treefile (outfile_list[0]+ \"_consensus.fasta.treefile\", shuffle = True)\n",
    "# bar plot uses path difference\n",
    "bplot_label = [\"random\"] ; bplot_hue = [\"proportion of positive silhouette scores\"]; \n",
    "bplot_value = [sum(mnod>0)/float(len(mnod))]\n",
    "# violin plots use weighted distances\n",
    "vio_silho_x = [\"random\"] * mdis.shape[0];  vio_silho_y = list(mdis)\n",
    "\n",
    "print ('     {:12s}'.format(\"random\"), \"\\t\", silhouette_str(mdis),  silhouette_str(mnod))\n",
    "\n",
    "suffix1 = \".fasta.treefile\"\n",
    "title1  = \"ML    \"\n",
    "#for suffix2, title2 in zip ([\"_long\", \"_consensus\"], [\"long \", \"cons \"]):\n",
    "for suffix2, title2 in zip ([\"_consensus\"], [\"cons \"]):\n",
    "    suffix = suffix2 + suffix1; title = title2 + title1;\n",
    "    for fname, rname in zip(outfile_list, [i.split('/')[-1] for i in outfile_list]):\n",
    "        mdis, mnod = patristic_distances_from_treefile (fname + suffix)\n",
    "        print (title + '{:6s}'.format(rname), \"\\t\", silhouette_str(mdis),  silhouette_str(mnod))\n",
    "        if \"long\" in title:\n",
    "            bplot_label.append(rname) ; bplot_hue.append(\"proportion of positive silhouette scores\");\n",
    "            bplot_value.append(sum(mnod>0)/float(len(mnod)))\n",
    "            vio_silho_x.extend([str(rname)] * mdis.shape[0]); vio_silho_y.extend(list(mdis))\n",
    "        "
   ]
  },
  {
   "cell_type": "code",
   "execution_count": 14,
   "metadata": {
    "scrolled": true
   },
   "outputs": [],
   "source": [
    "def sp_list_from_labels (labels):\n",
    "    return ['.'.join(t.split('.')[:2]) for t in labels]\n",
    "\n",
    "def genera_set_from_namespace (txnamespace):\n",
    "    x = [t.label.split('.')[0] for t in txnamespace]\n",
    "    return set(x)\n",
    "\n",
    "def taxa_list_from_strain (leaves, strain): # strain is list of species or genera\n",
    "    return [x for x in leaves if strain in x]\n",
    "\n",
    "def average_lengths_lca (samples, tre, pdm, lca): ## assumes names are unique\n",
    "    taxon_label_list = [tre.find_node_with_taxon_label(x) for x in samples]\n",
    "    avge = {} \n",
    "    for t in taxon_label_list:\n",
    "        if t.label not in avge: ## not calculated yet\n",
    "            is_mono = True\n",
    "            mono_taxa = None\n",
    "            while is_mono and t is not lca:\n",
    "                t = t.parent_node\n",
    "                taxa_below = [x for x in tre.taxon_namespace.bitmask_taxa_list(t.leafset_bitmask)]\n",
    "                is_mono = all([i.label in samples for i in taxa_below])\n",
    "                if (is_mono):\n",
    "                    mono_taxa = [x for x in taxa_below]\n",
    "            if mono_taxa:\n",
    "                pairdist = np.mean([pdm.distance(i, j) for i,j in itertools.combinations(mono_taxa,2)])\n",
    "                for i in mono_taxa:\n",
    "                    avge[i.label] = pairdist\n",
    "            else:\n",
    "                avge[t.label] = 0.\n",
    "    return max([v for k,v in avge.items()])\n",
    "\n",
    "def monophyly_score_from_treefile (filename, shuffle = False):\n",
    "    tree = dendropy.Tree.get(path=filename, schema=\"newick\", preserve_underscores=True)\n",
    "    if shuffle:\n",
    "        x = tree.length()\n",
    "        tree = dendropy.simulate.treesim.pure_kingman_tree(taxon_namespace=tree.taxon_namespace, pop_size = 5000)\n",
    "        for edge in tree.preorder_edge_iter():\n",
    "            edge.length = edge.length/x\n",
    "    else: \n",
    "        tree.reroot_at_midpoint(update_bipartitions=True)\n",
    "    tree.encode_bipartitions()\n",
    "    pdm = tree.phylogenetic_distance_matrix() # initialises patristic distance class\n",
    "    leaf_list = [x.label for x in tree.taxon_namespace]\n",
    "    freq_species = []\n",
    "    monoscore = []\n",
    "    max_avge = []\n",
    "    for sp in set(sp_list_from_labels(leaf_list)):\n",
    "        samples_from_sp = taxa_list_from_strain (leaf_list, sp)\n",
    "        mrca = tree.mrca(taxon_labels=samples_from_sp)\n",
    "        samples_below_mrca = [x.label for x in tree.taxon_namespace.bitmask_taxa_list(mrca.leafset_bitmask)]\n",
    "        samples_above_mrca = [x for x in leaf_list if x not in samples_below_mrca]\n",
    "        try:\n",
    "            m1 = len(samples_from_sp)/len(samples_below_mrca)\n",
    "        except:\n",
    "            m1 = len(samples_from_sp)/len(samples_above_mrca)\n",
    "        monoscore.append(m1)\n",
    "        try:\n",
    "            m1 = 1./len(set(sp_list_from_labels(samples_below_mrca)))\n",
    "        except:\n",
    "            m1 = 1./len(set(sp_list_from_labels(samples_above_mrca)))\n",
    "        freq_species.append(m1)\n",
    "        max_avge.append(average_lengths_lca (samples_from_sp, tree, pdm, mrca))\n",
    "        #print (samples_above_mrca)\n",
    "    return monoscore, freq_species, max_avge\n",
    "\n",
    "def mono_str(mono_, freq_, mav_): ## was 25 and 50, now 5 and 25\n",
    "    return '{:7.3f}'.format(np.percentile(mono_, 5)) + \\\n",
    "    '{:7.3f}\\t'.format(np.percentile(mono_, 25)) + \\\n",
    "    '{:7.3f}\\t\\t'.format(sum(np.array(freq_) > 0.999)/float(len(freq_))) + \\\n",
    "    '{:.12f}\\t'.format(np.percentile(mav_, 50)) + \\\n",
    "    '{:.12f}\\t'.format(np.percentile(mav_, 90))\n",
    "\n",
    "#mono, fspec = monophyly_score_from_treefile (outfile_list[8]+ \"_long.fasta.treefile\", shuffle = False)"
   ]
  },
  {
   "cell_type": "code",
   "execution_count": 15,
   "metadata": {},
   "outputs": [
    {
     "name": "stdout",
     "output_type": "stream",
     "text": [
      "random            \t   0.007  0.009\t  0.000\t\t0.000000000000\t0.000000000000\t\n",
      "cons ML    5S      \t   0.125  0.227\t  0.538\t\t0.000001440686\t0.000012224360\t\n",
      "cons ML    16Sv1v2 \t   0.048  0.311\t  0.564\t\t0.000007657644\t0.003216267316\t\n",
      "cons ML    16Sv3v4 \t   0.184  0.396\t  0.641\t\t0.000003805867\t0.000370485385\t\n",
      "cons ML    23S     \t   0.242  1.000\t  0.769\t\t0.000739745250\t0.005384325574\t\n",
      "cons ML    16S     \t   0.220  1.000\t  0.744\t\t0.000426328932\t0.005402358935\t\n",
      "cons ML    16S5S   \t   0.157  1.000\t  0.744\t\t0.000198986366\t0.004976368835\t\n",
      "cons ML    23S5S   \t   0.187  1.000\t  0.769\t\t0.000772437650\t0.005846017972\t\n",
      "cons ML    16S23S  \t   0.187  1.000\t  0.795\t\t0.000706283875\t0.005578137678\t\n",
      "cons ML    16S23S5S \t   0.276  1.000\t  0.795\t\t0.000938054069\t0.005353173882\t\n"
     ]
    }
   ],
   "source": [
    "mono, fspec, mav = monophyly_score_from_treefile (outfile_list[0]+ \"_consensus.fasta.treefile\", shuffle = True)\n",
    "print ('{:17s}'.format(\"random\"), \"\\t\", mono_str(mono, fspec, mav))\n",
    "bplot_label.append(\"random\") ; bplot_hue.append(\"proportion of monophyletic groups\")\n",
    "bplot_value.append(sum(np.array(fspec) > 0.999)/float(len(fspec)))\n",
    "vio_mono_x = [\"random\"] * len(mono)\n",
    "vio_mono_y = mono; vio_mav_y = mav\n",
    "\n",
    "suffix1 = \".fasta.treefile\"\n",
    "title1  = \"ML    \"\n",
    "#for suffix2, title2 in zip ([\"_long\", \"_consensus\"], [\"long \", \"cons \"]):\n",
    "for suffix2, title2 in zip ([\"_consensus\"], [\"cons \"]):\n",
    "    suffix = suffix2 + suffix1; title = title2 + title1;\n",
    "    for fname, rname in zip(outfile_list, [i.split('/')[-1] for i in outfile_list]):\n",
    "        mono, fspec, mav = monophyly_score_from_treefile (fname + suffix)\n",
    "        print (title + '{:7s}'.format(rname), \"\\t\", mono_str(mono, fspec, mav))\n",
    "        if \"long\" in title:\n",
    "            bplot_label.append(rname) ; bplot_hue.append(\"proportion of monophyletic groups\")\n",
    "            bplot_value.append(sum(np.array(fspec) > 0.999)/float(len(fspec)))\n",
    "            vio_mono_x.extend([rname] * len(mono))\n",
    "            vio_mono_y.extend(mono); vio_mav_y.extend(mav);"
   ]
  },
  {
   "cell_type": "code",
   "execution_count": null,
   "metadata": {
    "scrolled": false
   },
   "outputs": [],
   "source": [
    "fig, axes = plt.subplots(3,1) ; fig.set_size_inches(16, 24); \n",
    "matplotlib.rcParams['figure.dpi'] = 200\n",
    "matplotlib.rc('font', weight='bold')\n",
    "fig.subplots_adjust(top=.91, bottom=.01, left=.02, right=.99, wspace=.2, hspace=.2)\n",
    "\n",
    "sns.set(); \n",
    "sns.set_palette(\"cubehelix\", 12);\n",
    "sns.boxenplot(x=vio_silho_x, y=vio_silho_y, ax = axes[0], outlier_prop=0.00001)\n",
    "axes[0].set_ylabel(\"tree silhouette scores\", fontsize=22, weight=\"bold\") # \"silhouette scores from patristic distances\"\n",
    "axes[0].set_xticklabels(axes[0].get_xticklabels(),rotation=40)\n",
    "axes[0].tick_params(labelsize=16)\n",
    "\n",
    "sns.set(); sns.set_palette(\"cubehelix\", 12)\n",
    "sns.pointplot(x=vio_mono_x, y=vio_mono_y, ax = axes[1], linestyles=\"--\", errwidth=0.5, color=\"gray\", scale=0.4)\n",
    "sns.swarmplot(x=vio_mono_x, y=vio_mono_y, ax = axes[1], size=10, linewidth=1)\n",
    "axes[1].set_ylabel(\"monophyly scores\", fontsize=22, weight=\"bold\")\n",
    "axes[1].set_xticklabels(axes[1].get_xticklabels(),rotation=40)\n",
    "axes[1].tick_params(labelsize=16)\n",
    "\n",
    "sns.set(); sns.set_palette(\"cubehelix\", 12) # \"Average distance between samples from best monophyletic subtree\"\n",
    "sns.boxplot(x=vio_mono_x, y=vio_mav_y, ax = axes[2]) \n",
    "axes[2].set_ylabel(\"Average clade distance\", fontsize=22, weight=\"bold\")\n",
    "axes[2].set_xticklabels(axes[2].get_xticklabels(),rotation=40)\n",
    "axes[2].set_ylim(-0.0001,0.045)\n",
    "axes[2].tick_params(labelsize=16)\n",
    "#sns.boxplot(x=rnatypelist, y=monolist_sp, ax = axes[1])  # inner=\"sticks\",\n",
    "#sns.pointplot(x=rnatypelist, y=monolist_sp, ax = axes[1])  \n",
    "\n",
    "fig, axes = plt.subplots(1) ; fig.set_size_inches(12, 6); \n",
    "fig.subplots_adjust(top=.99, bottom=.01, left=.01, right=.98, wspace=.2, hspace=.2)\n",
    "sns.set(); sns.set_palette(\"cubehelix\", 12)\n",
    "sns.barplot(hue=bplot_label, y=bplot_value, x=bplot_hue, ax=axes)\n",
    "axes.set_ylabel(\"proportion\", fontsize=18, fontweight=\"bold\")\n",
    "axes.tick_params(labelsize=14)\n",
    "#axes.set_title(\"proportion of sample pairs with good silhouettes and proportion of monophyletic groups\")"
   ]
  },
  {
   "cell_type": "code",
   "execution_count": null,
   "metadata": {},
   "outputs": [],
   "source": []
  }
 ],
 "metadata": {
  "kernelspec": {
   "display_name": "Python 3",
   "language": "python",
   "name": "python3"
  },
  "language_info": {
   "codemirror_mode": {
    "name": "ipython",
    "version": 3
   },
   "file_extension": ".py",
   "mimetype": "text/x-python",
   "name": "python",
   "nbconvert_exporter": "python",
   "pygments_lexer": "ipython3",
   "version": "3.6.7"
  }
 },
 "nbformat": 4,
 "nbformat_minor": 2
}
